{
 "cells": [
  {
   "cell_type": "code",
   "execution_count": 1,
   "id": "13267574",
   "metadata": {},
   "outputs": [],
   "source": [
    "import numpy as np\n",
    "import pandas as pd"
   ]
  },
  {
   "cell_type": "code",
   "execution_count": 2,
   "id": "45b5f57d",
   "metadata": {},
   "outputs": [
    {
     "name": "stdout",
     "output_type": "stream",
     "text": [
      "Collecting gensimNote: you may need to restart the kernel to use updated packages.\n",
      "\n",
      "  Downloading gensim-4.3.2-cp310-cp310-win_amd64.whl.metadata (8.5 kB)\n",
      "Requirement already satisfied: numpy>=1.18.5 in d:\\gpu_libraries\\tensor_lib\\lib\\site-packages (from gensim) (1.26.2)\n",
      "Requirement already satisfied: scipy>=1.7.0 in d:\\gpu_libraries\\tensor_lib\\lib\\site-packages (from gensim) (1.11.4)\n",
      "Collecting smart-open>=1.8.1 (from gensim)\n",
      "  Downloading smart_open-6.4.0-py3-none-any.whl.metadata (21 kB)\n",
      "Downloading gensim-4.3.2-cp310-cp310-win_amd64.whl (24.0 MB)\n",
      "   ---------------------------------------- 0.0/24.0 MB ? eta -:--:--\n",
      "   ---------------------------------------- 0.2/24.0 MB 5.3 MB/s eta 0:00:05\n",
      "    --------------------------------------- 0.4/24.0 MB 6.1 MB/s eta 0:00:04\n",
      "    --------------------------------------- 0.4/24.0 MB 4.3 MB/s eta 0:00:06\n",
      "    --------------------------------------- 0.5/24.0 MB 3.1 MB/s eta 0:00:08\n",
      "   - -------------------------------------- 0.9/24.0 MB 4.4 MB/s eta 0:00:06\n",
      "   -- ------------------------------------- 1.5/24.0 MB 5.8 MB/s eta 0:00:04\n",
      "   --- ------------------------------------ 2.0/24.0 MB 7.1 MB/s eta 0:00:04\n",
      "   ---- ----------------------------------- 2.6/24.0 MB 7.8 MB/s eta 0:00:03\n",
      "   ----- ---------------------------------- 3.1/24.0 MB 8.3 MB/s eta 0:00:03\n",
      "   ------ --------------------------------- 3.7/24.0 MB 8.7 MB/s eta 0:00:03\n",
      "   ------ --------------------------------- 4.2/24.0 MB 8.9 MB/s eta 0:00:03\n",
      "   ------- -------------------------------- 4.7/24.0 MB 9.1 MB/s eta 0:00:03\n",
      "   -------- ------------------------------- 5.3/24.0 MB 9.4 MB/s eta 0:00:03\n",
      "   --------- ------------------------------ 5.7/24.0 MB 9.4 MB/s eta 0:00:02\n",
      "   ---------- ----------------------------- 6.3/24.0 MB 9.6 MB/s eta 0:00:02\n",
      "   ----------- ---------------------------- 6.8/24.0 MB 9.7 MB/s eta 0:00:02\n",
      "   ------------ --------------------------- 7.3/24.0 MB 9.9 MB/s eta 0:00:02\n",
      "   ------------ --------------------------- 7.8/24.0 MB 9.7 MB/s eta 0:00:02\n",
      "   ------------- -------------------------- 8.3/24.0 MB 9.8 MB/s eta 0:00:02\n",
      "   -------------- ------------------------- 8.9/24.0 MB 9.9 MB/s eta 0:00:02\n",
      "   --------------- ------------------------ 9.4/24.0 MB 10.0 MB/s eta 0:00:02\n",
      "   ---------------- ----------------------- 9.9/24.0 MB 10.2 MB/s eta 0:00:02\n",
      "   ----------------- ---------------------- 10.3/24.0 MB 10.4 MB/s eta 0:00:02\n",
      "   ------------------ --------------------- 10.9/24.0 MB 11.5 MB/s eta 0:00:02\n",
      "   ------------------- -------------------- 11.4/24.0 MB 11.5 MB/s eta 0:00:02\n",
      "   ------------------- -------------------- 12.0/24.0 MB 11.5 MB/s eta 0:00:02\n",
      "   -------------------- ------------------- 12.5/24.0 MB 11.5 MB/s eta 0:00:01\n",
      "   --------------------- ------------------ 13.0/24.0 MB 11.7 MB/s eta 0:00:01\n",
      "   ---------------------- ----------------- 13.6/24.0 MB 11.7 MB/s eta 0:00:01\n",
      "   ----------------------- ---------------- 14.1/24.0 MB 11.7 MB/s eta 0:00:01\n",
      "   ------------------------ --------------- 14.7/24.0 MB 11.7 MB/s eta 0:00:01\n",
      "   ------------------------- -------------- 15.2/24.0 MB 11.7 MB/s eta 0:00:01\n",
      "   -------------------------- ------------- 15.8/24.0 MB 11.7 MB/s eta 0:00:01\n",
      "   --------------------------- ------------ 16.3/24.0 MB 11.7 MB/s eta 0:00:01\n",
      "   ---------------------------- ----------- 16.9/24.0 MB 11.7 MB/s eta 0:00:01\n",
      "   ----------------------------- ---------- 17.4/24.0 MB 11.7 MB/s eta 0:00:01\n",
      "   ------------------------------ --------- 18.0/24.0 MB 11.9 MB/s eta 0:00:01\n",
      "   ------------------------------ --------- 18.6/24.0 MB 11.9 MB/s eta 0:00:01\n",
      "   ------------------------------- -------- 19.1/24.0 MB 11.9 MB/s eta 0:00:01\n",
      "   -------------------------------- ------- 19.7/24.0 MB 11.9 MB/s eta 0:00:01\n",
      "   --------------------------------- ------ 20.3/24.0 MB 11.9 MB/s eta 0:00:01\n",
      "   ---------------------------------- ----- 20.8/24.0 MB 11.9 MB/s eta 0:00:01\n",
      "   ----------------------------------- ---- 21.4/24.0 MB 11.9 MB/s eta 0:00:01\n",
      "   ------------------------------------ --- 21.9/24.0 MB 11.9 MB/s eta 0:00:01\n",
      "   ------------------------------------- -- 22.5/24.0 MB 11.9 MB/s eta 0:00:01\n",
      "   -------------------------------------- - 23.1/24.0 MB 11.9 MB/s eta 0:00:01\n",
      "   ---------------------------------------  23.6/24.0 MB 11.9 MB/s eta 0:00:01\n",
      "   ---------------------------------------  24.0/24.0 MB 11.9 MB/s eta 0:00:01\n",
      "   ---------------------------------------- 24.0/24.0 MB 11.5 MB/s eta 0:00:00\n",
      "Downloading smart_open-6.4.0-py3-none-any.whl (57 kB)\n",
      "   ---------------------------------------- 0.0/57.0 kB ? eta -:--:--\n",
      "   ---------------------------------------- 57.0/57.0 kB ? eta 0:00:00\n",
      "Installing collected packages: smart-open, gensim\n",
      "Successfully installed gensim-4.3.2 smart-open-6.4.0\n"
     ]
    }
   ],
   "source": [
    "%pip install gensim"
   ]
  },
  {
   "cell_type": "code",
   "execution_count": 5,
   "id": "0d4c93f5",
   "metadata": {},
   "outputs": [
    {
     "name": "stdout",
     "output_type": "stream",
     "text": [
      "Collecting nltkNote: you may need to restart the kernel to use updated packages.\n",
      "\n",
      "  Downloading nltk-3.8.1-py3-none-any.whl.metadata (2.8 kB)\n",
      "Collecting click (from nltk)\n",
      "  Using cached click-8.1.7-py3-none-any.whl.metadata (3.0 kB)\n",
      "Requirement already satisfied: joblib in d:\\gpu_libraries\\tensor_lib\\lib\\site-packages (from nltk) (1.2.0)\n",
      "Collecting regex>=2021.8.3 (from nltk)\n",
      "  Downloading regex-2023.12.25-cp310-cp310-win_amd64.whl.metadata (41 kB)\n",
      "     ---------------------------------------- 0.0/42.0 kB ? eta -:--:--\n",
      "     -------------------------------------  41.0/42.0 kB 991.0 kB/s eta 0:00:01\n",
      "     -------------------------------------- 42.0/42.0 kB 675.2 kB/s eta 0:00:00\n",
      "Collecting tqdm (from nltk)\n",
      "  Downloading tqdm-4.66.2-py3-none-any.whl.metadata (57 kB)\n",
      "     ---------------------------------------- 0.0/57.6 kB ? eta -:--:--\n",
      "     ---------------------------------------- 57.6/57.6 kB 3.0 MB/s eta 0:00:00\n",
      "Requirement already satisfied: colorama in d:\\gpu_libraries\\tensor_lib\\lib\\site-packages (from click->nltk) (0.4.6)\n",
      "Downloading nltk-3.8.1-py3-none-any.whl (1.5 MB)\n",
      "   ---------------------------------------- 0.0/1.5 MB ? eta -:--:--\n",
      "   ------------- -------------------------- 0.5/1.5 MB 10.7 MB/s eta 0:00:01\n",
      "   ---------------------------- ----------- 1.1/1.5 MB 11.3 MB/s eta 0:00:01\n",
      "   ---------------------------------------  1.5/1.5 MB 12.0 MB/s eta 0:00:01\n",
      "   ---------------------------------------- 1.5/1.5 MB 10.6 MB/s eta 0:00:00\n",
      "Downloading regex-2023.12.25-cp310-cp310-win_amd64.whl (269 kB)\n",
      "   ---------------------------------------- 0.0/269.5 kB ? eta -:--:--\n",
      "   ---------------------------------------- 269.5/269.5 kB 8.4 MB/s eta 0:00:00\n",
      "Using cached click-8.1.7-py3-none-any.whl (97 kB)\n",
      "Downloading tqdm-4.66.2-py3-none-any.whl (78 kB)\n",
      "   ---------------------------------------- 0.0/78.3 kB ? eta -:--:--\n",
      "   ---------------------------------------- 78.3/78.3 kB 4.3 MB/s eta 0:00:00\n",
      "Installing collected packages: tqdm, regex, click, nltk\n",
      "Successfully installed click-8.1.7 nltk-3.8.1 regex-2023.12.25 tqdm-4.66.2\n"
     ]
    }
   ],
   "source": [
    "%pip install nltk"
   ]
  },
  {
   "cell_type": "code",
   "execution_count": 2,
   "id": "a577fae2",
   "metadata": {},
   "outputs": [],
   "source": [
    "import gensim\n",
    "import os"
   ]
  },
  {
   "cell_type": "code",
   "execution_count": 5,
   "id": "cb703537",
   "metadata": {},
   "outputs": [
    {
     "name": "stderr",
     "output_type": "stream",
     "text": [
      "[nltk_data] Downloading package punkt to\n",
      "[nltk_data]     C:\\Users\\aakas\\AppData\\Roaming\\nltk_data...\n",
      "[nltk_data]   Unzipping tokenizers\\punkt.zip.\n"
     ]
    },
    {
     "data": {
      "text/plain": [
       "True"
      ]
     },
     "execution_count": 5,
     "metadata": {},
     "output_type": "execute_result"
    }
   ],
   "source": [
    "from nltk import sent_tokenize \n",
    "import nltk\n",
    "from gensim.utils import simple_preprocess\n",
    "nltk.download('punkt')"
   ]
  },
  {
   "cell_type": "code",
   "execution_count": 33,
   "id": "59c579a1",
   "metadata": {},
   "outputs": [
    {
     "name": "stderr",
     "output_type": "stream",
     "text": [
      "[nltk_data] Downloading package stopwords to\n",
      "[nltk_data]     C:\\Users\\aakas\\AppData\\Roaming\\nltk_data...\n",
      "[nltk_data]   Unzipping corpora\\stopwords.zip.\n",
      "[nltk_data] Downloading package wordnet to\n",
      "[nltk_data]     C:\\Users\\aakas\\AppData\\Roaming\\nltk_data...\n"
     ]
    },
    {
     "data": {
      "text/plain": [
       "True"
      ]
     },
     "execution_count": 33,
     "metadata": {},
     "output_type": "execute_result"
    }
   ],
   "source": [
    "nltk.download('stopwords')\n",
    "nltk.download('wordnet')"
   ]
  },
  {
   "cell_type": "code",
   "execution_count": 36,
   "id": "a7b4c3ae",
   "metadata": {},
   "outputs": [],
   "source": [
    "from nltk.corpus import stopwords\n",
    "from nltk.stem import WordNetLemmatizer\n",
    "\n",
    "def simple_preprocess(sent):\n",
    "    words = nltk.word_tokenize(sent)\n",
    "    words = [word.lower() for word in words if word.isalpha()]\n",
    "    words = [word for word in words if word not in stopwords.words('english')]\n",
    "    lemmatizer = WordNetLemmatizer()\n",
    "    words = [lemmatizer.lemmatize(word) for word in words]\n",
    "    return words\n",
    "\n",
    "story = []\n",
    "\n",
    "for filename in os.listdir('data'):\n",
    "    with open(os.path.join('data', filename),'r', errors='ignore') as f:\n",
    "        corpus = f.read()\n",
    "    raw_sent = sent_tokenize(corpus)\n",
    "    for sent in raw_sent:\n",
    "        story.append(simple_preprocess(sent))\n",
    "\n",
    "story = [sent for sent in story if sent]"
   ]
  },
  {
   "cell_type": "code",
   "execution_count": 30,
   "id": "139704db",
   "metadata": {},
   "outputs": [],
   "source": [
    "story = []\n",
    "for filename in os.listdir('data'):\n",
    "    with open(os.path.join('data', filename),'r', errors='ignore') as f:\n",
    "        corpus = f.read()\n",
    "    raw_sent = sent_tokenize(corpus)\n",
    "    for sent in raw_sent:\n",
    "        story.append(simple_preprocess(sent)) # Simple process the sentence to remove punctuation, numbers and special characters and aslo perform tokenization on sentances\n",
    "    "
   ]
  },
  {
   "cell_type": "code",
   "execution_count": 37,
   "id": "b2a30742",
   "metadata": {},
   "outputs": [
    {
     "data": {
      "text/plain": [
       "[['game',\n",
       "  'throne',\n",
       "  'book',\n",
       "  'one',\n",
       "  'song',\n",
       "  'ice',\n",
       "  'fire',\n",
       "  'george',\n",
       "  'martin',\n",
       "  'prologue',\n",
       "  'start',\n",
       "  'back',\n",
       "  'gared',\n",
       "  'urged',\n",
       "  'wood',\n",
       "  'began',\n",
       "  'grow',\n",
       "  'dark',\n",
       "  'around'],\n",
       " ['wildlings', 'dead'],\n",
       " ['dead', 'frighten'],\n",
       " ['ser', 'waymar', 'royce', 'asked', 'hint', 'smile'],\n",
       " ['gared', 'rise', 'bait'],\n",
       " ['old', 'man', 'past', 'fifty', 'seen', 'lordlings', 'come', 'go'],\n",
       " ['dead', 'dead', 'said'],\n",
       " ['business', 'dead'],\n",
       " ['dead'],\n",
       " ['royce', 'asked', 'softly'],\n",
       " ['proof'],\n",
       " ['saw', 'gared', 'said'],\n",
       " ['say', 'dead', 'proof', 'enough'],\n",
       " ['known', 'would', 'drag', 'quarrel', 'sooner', 'later'],\n",
       " ['wished', 'later', 'rather', 'sooner'],\n",
       " ['mother', 'told', 'dead', 'men', 'sing', 'song', 'put'],\n",
       " ['wet', 'nurse', 'said', 'thing', 'royce', 'replied'],\n",
       " ['never', 'believe', 'anything', 'hear', 'woman', 'tit'],\n",
       " ['thing', 'learned', 'even', 'dead'],\n",
       " ['voice', 'echoed', 'loud', 'twilit', 'forest'],\n",
       " ['page', 'long', 'ride', 'u', 'gared', 'pointed'],\n",
       " ['eight', 'day', 'maybe', 'nine'],\n",
       " ['night', 'falling'],\n",
       " ['ser', 'waymar', 'royce', 'glanced', 'sky', 'disinterest'],\n",
       " ['every', 'day', 'time'],\n",
       " ['unmanned', 'dark', 'gared'],\n",
       " ['could',\n",
       "  'see',\n",
       "  'tightness',\n",
       "  'around',\n",
       "  'gared',\n",
       "  'mouth',\n",
       "  'barely',\n",
       "  'sup',\n",
       "  'pressed',\n",
       "  'anger',\n",
       "  'eye',\n",
       "  'thick',\n",
       "  'black',\n",
       "  'hood',\n",
       "  'cloak'],\n",
       " ['gared',\n",
       "  'spent',\n",
       "  'forty',\n",
       "  'year',\n",
       "  'night',\n",
       "  'watch',\n",
       "  'man',\n",
       "  'boy',\n",
       "  'accustomed',\n",
       "  'made',\n",
       "  'light'],\n",
       " ['yet'],\n",
       " ['wounded', 'pride', 'could', 'sense', 'something', 'else', 'older', 'man'],\n",
       " ['could', 'taste', 'nervous', 'tension', 'came', 'perilous', 'close', 'fear'],\n",
       " ['shared', 'unease'],\n",
       " ['four', 'year', 'wall'],\n",
       " ['first',\n",
       "  'time',\n",
       "  'sent',\n",
       "  'beyond',\n",
       "  'old',\n",
       "  'story',\n",
       "  'come',\n",
       "  'rushing',\n",
       "  'back',\n",
       "  'bowel',\n",
       "  'turned',\n",
       "  'water'],\n",
       " ['laughed', 'afterward'],\n",
       " ['veteran',\n",
       "  'hundred',\n",
       "  'rangings',\n",
       "  'endless',\n",
       "  'dark',\n",
       "  'wilderness',\n",
       "  'southron',\n",
       "  'called',\n",
       "  'haunted',\n",
       "  'forest',\n",
       "  'terror'],\n",
       " ['tonight'],\n",
       " ['something', 'different', 'tonight'],\n",
       " ['edge', 'darkness', 'made', 'hackle', 'rise'],\n",
       " ['nine',\n",
       "  'day',\n",
       "  'riding',\n",
       "  'north',\n",
       "  'northwest',\n",
       "  'north',\n",
       "  'farther',\n",
       "  'farther',\n",
       "  'wall',\n",
       "  'hard',\n",
       "  'track',\n",
       "  'band',\n",
       "  'wildling',\n",
       "  'raider'],\n",
       " ['day', 'worse', 'day', 'come'],\n",
       " ['today', 'worst'],\n",
       " ['cold',\n",
       "  'wind',\n",
       "  'blowing',\n",
       "  'north',\n",
       "  'made',\n",
       "  'tree',\n",
       "  'rustle',\n",
       "  'like',\n",
       "  'living',\n",
       "  'thing'],\n",
       " ['day',\n",
       "  'felt',\n",
       "  'though',\n",
       "  'something',\n",
       "  'watching',\n",
       "  'something',\n",
       "  'cold',\n",
       "  'implacable',\n",
       "  'loved'],\n",
       " ['gared', 'felt'],\n",
       " ['wanted',\n",
       "  'nothing',\n",
       "  'much',\n",
       "  'ride',\n",
       "  'hellbent',\n",
       "  'safety',\n",
       "  'wall',\n",
       "  'feeling',\n",
       "  'share',\n",
       "  'commander'],\n",
       " ['especially', 'commander', 'like', 'one'],\n",
       " ['ser',\n",
       "  'waymar',\n",
       "  'royce',\n",
       "  'youngest',\n",
       "  'son',\n",
       "  'ancient',\n",
       "  'house',\n",
       "  'many',\n",
       "  'heir'],\n",
       " ['handsome', 'youth', 'eighteen', 'graceful', 'slender', 'knife'],\n",
       " ['mounted',\n",
       "  'huge',\n",
       "  'black',\n",
       "  'destrier',\n",
       "  'knight',\n",
       "  'towered',\n",
       "  'gared',\n",
       "  'smaller',\n",
       "  'garrons'],\n",
       " ['wore',\n",
       "  'black',\n",
       "  'leather',\n",
       "  'boot',\n",
       "  'black',\n",
       "  'woolen',\n",
       "  'pant',\n",
       "  'black',\n",
       "  'moleskin',\n",
       "  'glove',\n",
       "  'fine',\n",
       "  'supple',\n",
       "  'coat',\n",
       "  'gleaming',\n",
       "  'black',\n",
       "  'ringmail',\n",
       "  'layer',\n",
       "  'black',\n",
       "  'wool',\n",
       "  'boiled',\n",
       "  'leather'],\n",
       " ['ser',\n",
       "  'waymar',\n",
       "  'sworn',\n",
       "  'brother',\n",
       "  'night',\n",
       "  'watch',\n",
       "  'le',\n",
       "  'half',\n",
       "  'year',\n",
       "  'one',\n",
       "  'could',\n",
       "  'say',\n",
       "  'prepared',\n",
       "  'vocation'],\n",
       " ['least', 'insofar', 'wardrobe', 'concerned'],\n",
       " ['cloak', 'crowning', 'glory', 'sable', 'thick', 'black', 'soft', 'sin'],\n",
       " ['bet',\n",
       "  'killed',\n",
       "  'gared',\n",
       "  'told',\n",
       "  'barrack',\n",
       "  'wine',\n",
       "  'twisted',\n",
       "  'little',\n",
       "  'head',\n",
       "  'mighty',\n",
       "  'warrior'],\n",
       " ['shared', 'laugh'],\n",
       " ['hard',\n",
       "  'take',\n",
       "  'order',\n",
       "  'man',\n",
       "  'laughed',\n",
       "  'cup',\n",
       "  'reflected',\n",
       "  'sat',\n",
       "  'shivering',\n",
       "  'atop',\n",
       "  'garron'],\n",
       " ['gared', 'must', 'felt'],\n",
       " ['mormont', 'said', 'track', 'gared', 'said'],\n",
       " ['dead'],\n",
       " ['sha', 'trouble', 'u'],\n",
       " ['hard', 'riding', 'u'],\n",
       " ['like', 'weather'],\n",
       " ['snow', 'could', 'fortnight', 'getting', 'back', 'snow', 'best', 'hope'],\n",
       " ['ever', 'seen', 'ice', 'storm', 'lord'],\n",
       " ['lordling', 'seemed', 'hear'],\n",
       " ['studied', 'deepening', 'twilight', 'page', 'way'],\n",
       " ['ridden',\n",
       "  'knight',\n",
       "  'long',\n",
       "  'enough',\n",
       "  'understand',\n",
       "  'best',\n",
       "  'interrupt',\n",
       "  'looked',\n",
       "  'like'],\n",
       " ['tell', 'saw'],\n",
       " ['detail'],\n",
       " ['leave', 'nothing'],\n",
       " ['hunter', 'joined', 'night', 'watch'],\n",
       " ['well', 'poacher', 'truth'],\n",
       " ['mallister',\n",
       "  'freeriders',\n",
       "  'caught',\n",
       "  'mallisters',\n",
       "  'wood',\n",
       "  'skinning',\n",
       "  'one',\n",
       "  'mallisters',\n",
       "  'buck',\n",
       "  'choice',\n",
       "  'putting',\n",
       "  'black',\n",
       "  'losing',\n",
       "  'hand'],\n",
       " ['one',\n",
       "  'could',\n",
       "  'move',\n",
       "  'wood',\n",
       "  'silent',\n",
       "  'taken',\n",
       "  'black',\n",
       "  'brother',\n",
       "  'long',\n",
       "  'discover',\n",
       "  'talent'],\n",
       " ['camp',\n",
       "  'two',\n",
       "  'mile',\n",
       "  'farther',\n",
       "  'ridge',\n",
       "  'hard',\n",
       "  'beside',\n",
       "  'stream',\n",
       "  'said'],\n",
       " ['got', 'close', 'dared'],\n",
       " ['eight', 'men', 'woman'],\n",
       " ['child', 'could', 'see'],\n",
       " ['put', 'rock'],\n",
       " ['snow', 'pretty', 'well', 'covered', 'could', 'still', 'make'],\n",
       " ['fire', 'burning', 'firepit', 'still', 'plain', 'day'],\n",
       " ['one', 'moving'],\n",
       " ['watched', 'long', 'time'],\n",
       " ['living', 'man', 'ever', 'lay', 'still'],\n",
       " ['see', 'blood'],\n",
       " ['well', 'admitted'],\n",
       " ['see', 'weapon'],\n",
       " ['sword', 'bow'],\n",
       " ['one', 'man', 'axe'],\n",
       " ['cruel', 'piece', 'iron'],\n",
       " ['ground', 'beside', 'right', 'hand'],\n",
       " ['make', 'note', 'position', 'body'],\n",
       " ['shrugged'],\n",
       " ['couple', 'sitting', 'rock'],\n",
       " ['ground'],\n",
       " ['fallen', 'like'],\n",
       " ['sleeping', 'royce', 'suggested'],\n",
       " ['fallen', 'insisted'],\n",
       " ['one', 'woman', 'ironwood', 'halfhid', 'branch'],\n",
       " ['smiled', 'thinly'],\n",
       " ['took', 'care', 'never', 'saw'],\n",
       " ['got', 'closer', 'saw', 'moving', 'neither'],\n",
       " ['despite', 'shivered'],\n",
       " ['chill'],\n",
       " ['royce', 'asked'],\n",
       " ['muttered'],\n",
       " ['wind'],\n",
       " ['young', 'knight', 'turned', 'back', 'grizzled'],\n",
       " ['frostfallen',\n",
       "  'leaf',\n",
       "  'whispered',\n",
       "  'past',\n",
       "  'royce',\n",
       "  'destrier',\n",
       "  'moved',\n",
       "  'restlessly'],\n",
       " ['think', 'might', 'killed', 'men', 'gared'],\n",
       " ['ser', 'waymar', 'asked', 'casually'],\n",
       " ['adjusted', 'drape', 'long', 'sable', 'cloak'],\n",
       " ['cold', 'gared', 'said', 'iron', 'certainty'],\n",
       " ['saw', 'men', 'freeze', 'last', 'winter', 'one', 'half', 'boy'],\n",
       " ['everyone',\n",
       "  'talk',\n",
       "  'snow',\n",
       "  'forty',\n",
       "  'foot',\n",
       "  'deep',\n",
       "  'ice',\n",
       "  'wind',\n",
       "  'come',\n",
       "  'howling',\n",
       "  'north',\n",
       "  'real',\n",
       "  'enemy',\n",
       "  'cold'],\n",
       " ['steal',\n",
       "  'quieter',\n",
       "  'first',\n",
       "  'shiver',\n",
       "  'teeth',\n",
       "  'chatter',\n",
       "  'stamp',\n",
       "  'foot',\n",
       "  'dream',\n",
       "  'mulled',\n",
       "  'wine',\n",
       "  'nice',\n",
       "  'hot',\n",
       "  'fire'],\n",
       " ['burn'],\n",
       " ['nothing', 'burn', 'like', 'cold'],\n",
       " ['get', 'inside', 'start', 'fill', 'strength', 'fight'],\n",
       " ['easier', 'sit', 'go', 'sleep'],\n",
       " ['say', 'feel', 'pain', 'toward', 'end'],\n",
       " ['first',\n",
       "  'go',\n",
       "  'weak',\n",
       "  'drowsy',\n",
       "  'everything',\n",
       "  'start',\n",
       "  'fade',\n",
       "  'like',\n",
       "  'sinking',\n",
       "  'sea',\n",
       "  'warm',\n",
       "  'milk'],\n",
       " ['peaceful', 'like'],\n",
       " ['eloquence', 'gared', 'ser', 'waymar', 'observed'],\n",
       " ['never', 'suspected'],\n",
       " ['page', 'cold', 'lordling'],\n",
       " ['gared',\n",
       "  'pulled',\n",
       "  'back',\n",
       "  'hood',\n",
       "  'giving',\n",
       "  'ser',\n",
       "  'waymar',\n",
       "  'good',\n",
       "  'long',\n",
       "  'look',\n",
       "  'stump',\n",
       "  'ear'],\n",
       " ['two', 'ear', 'three', 'toe', 'little', 'finger', 'left', 'hand'],\n",
       " ['got', 'light'],\n",
       " ['found', 'brother', 'frozen', 'watch', 'smile', 'face'],\n",
       " ['ser', 'waymar', 'shrugged'],\n",
       " ['ought', 'dress', 'warmly', 'gared'],\n",
       " ['gared',\n",
       "  'glared',\n",
       "  'lordling',\n",
       "  'scar',\n",
       "  'around',\n",
       "  'ear',\n",
       "  'hole',\n",
       "  'flushed',\n",
       "  'red',\n",
       "  'anger',\n",
       "  'maester',\n",
       "  'aemon',\n",
       "  'cut',\n",
       "  'ear',\n",
       "  'away'],\n",
       " ['see', 'warm', 'dress', 'winter', 'come'],\n",
       " ['pulled', 'hood', 'hunched', 'garron', 'silent', 'sullen'],\n",
       " ['gared', 'said', 'cold'],\n",
       " ['began'],\n",
       " ['drawn', 'watch', 'past', 'week'],\n",
       " ['yes'],\n",
       " ['never', 'week', 'draw', 'dozen', 'bloody', 'watch'],\n",
       " ['man', 'driving'],\n",
       " ['find', 'wall'],\n",
       " ['weeping', 'said', 'frowning'],\n",
       " ['saw', 'clear', 'enough', 'lordling', 'pointed'],\n",
       " ['could', 'froze'],\n",
       " ['wall', 'weeping'],\n",
       " ['cold', 'enough'],\n",
       " ['royce', 'nodded'],\n",
       " ['bright', 'lad'],\n",
       " ['light',\n",
       "  'frost',\n",
       "  'past',\n",
       "  'week',\n",
       "  'quick',\n",
       "  'flurry',\n",
       "  'snow',\n",
       "  'surely',\n",
       "  'cold',\n",
       "  'fierce',\n",
       "  'enough',\n",
       "  'kill',\n",
       "  'eight',\n",
       "  'grown',\n",
       "  'men'],\n",
       " ['men',\n",
       "  'clad',\n",
       "  'fur',\n",
       "  'leather',\n",
       "  'let',\n",
       "  'remind',\n",
       "  'shelter',\n",
       "  'near',\n",
       "  'hand',\n",
       "  'mean',\n",
       "  'making',\n",
       "  'fire'],\n",
       " ['knight', 'smile', 'cocksure'],\n",
       " ['lead', 'u'],\n",
       " ['would', 'see', 'dead', 'men'],\n",
       " ['nothing', 'done'],\n",
       " ['order', 'given', 'honor', 'bound', 'obey'],\n",
       " ['went',\n",
       "  'front',\n",
       "  'shaggy',\n",
       "  'little',\n",
       "  'garron',\n",
       "  'picking',\n",
       "  'way',\n",
       "  'carefully',\n",
       "  'undergrowth'],\n",
       " ['light',\n",
       "  'snow',\n",
       "  'fallen',\n",
       "  'night',\n",
       "  'stone',\n",
       "  'root',\n",
       "  'hidden',\n",
       "  'sink',\n",
       "  'lying',\n",
       "  'crust',\n",
       "  'waiting',\n",
       "  'careless',\n",
       "  'unwary'],\n",
       " ['ser',\n",
       "  'waymar',\n",
       "  'royce',\n",
       "  'came',\n",
       "  'next',\n",
       "  'great',\n",
       "  'black',\n",
       "  'destrier',\n",
       "  'snorting',\n",
       "  'impatiently'],\n",
       " ['warhorse', 'wrong', 'mount', 'ranging', 'try', 'tell', 'lordling'],\n",
       " ['gared', 'brought', 'rear'],\n",
       " ['old', 'muttered', 'rode'],\n",
       " ['twilight', 'deepened'],\n",
       " ['cloudless',\n",
       "  'sky',\n",
       "  'turned',\n",
       "  'deep',\n",
       "  'purple',\n",
       "  'color',\n",
       "  'old',\n",
       "  'bruise',\n",
       "  'faded',\n",
       "  'black'],\n",
       " ['star', 'began', 'come'],\n",
       " ['rose'],\n",
       " ['grateful', 'light'],\n",
       " ['make',\n",
       "  'better',\n",
       "  'pace',\n",
       "  'surely',\n",
       "  'royce',\n",
       "  'said',\n",
       "  'moon',\n",
       "  'full',\n",
       "  'risen'],\n",
       " ['horse', 'said'],\n",
       " ['fear', 'made', 'insolent'],\n",
       " ['perhaps', 'lord', 'would', 'care', 'take', 'lead'],\n",
       " ['ser', 'waymar', 'royce', 'deign', 'reply'],\n",
       " ['somewhere', 'wood', 'wolf', 'howled'],\n",
       " ['pulled',\n",
       "  'garron',\n",
       "  'beneath',\n",
       "  'ancient',\n",
       "  'gnarled',\n",
       "  'ironwood',\n",
       "  'dismounted'],\n",
       " ['page', 'stopping'],\n",
       " ['ser', 'waymar', 'asked'],\n",
       " ['best', 'go', 'rest', 'way', 'foot'],\n",
       " ['ridge'],\n",
       " ['royce', 'paused', 'moment', 'staring', 'distance', 'face', 'reflective'],\n",
       " ['cold', 'wind', 'whispered', 'tree'],\n",
       " ['great', 'sable', 'cloak', 'stirred', 'behind', 'like', 'something'],\n",
       " ['something', 'wrong', 'gared', 'muttered'],\n",
       " ['young', 'knight', 'gave', 'disdainful', 'smile'],\n",
       " ['ca', 'feel'],\n",
       " ['gared', 'asked'],\n",
       " ['listen', 'darkness'],\n",
       " ['could', 'feel'],\n",
       " ['four', 'year', 'night', 'watch', 'never', 'afraid'],\n",
       " ['wind'],\n",
       " ['tree', 'rustling'],\n",
       " ['wolf'],\n",
       " ['sound', 'unmans', 'gared'],\n",
       " ['gared', 'answer', 'royce', 'slid', 'gracefully', 'saddle'],\n",
       " ['tied',\n",
       "  'destrier',\n",
       "  'securely',\n",
       "  'limb',\n",
       "  'well',\n",
       "  'away',\n",
       "  'horse',\n",
       "  'drew',\n",
       "  'longsword',\n",
       "  'sheath'],\n",
       " ['jewel', 'glittered', 'hilt', 'moonlight', 'ran', 'shining', 'steel'],\n",
       " ['splendid', 'weapon', 'look'],\n",
       " ['doubted', 'ever', 'swung', 'anger'],\n",
       " ['tree', 'press', 'close', 'warned'],\n",
       " ['sword', 'tangle'],\n",
       " ['better', 'knife'],\n",
       " ['need', 'instruction', 'ask', 'young', 'lord', 'said'],\n",
       " ['gared', 'stay'],\n",
       " ['guard', 'horse'],\n",
       " ['gared', 'dismounted'],\n",
       " ['need', 'fire'],\n",
       " ['see'],\n",
       " ['big', 'fool', 'old', 'man'],\n",
       " ['enemy', 'wood', 'fire', 'last', 'thing', 'want'],\n",
       " ['enemy', 'fire', 'keep', 'away', 'gared', 'said'],\n",
       " ['bear', 'direwolves', 'thing'],\n",
       " ['ser', 'waymar', 'mouth', 'became', 'hard', 'line'],\n",
       " ['fire'],\n",
       " ['gared',\n",
       "  'hood',\n",
       "  'shadowed',\n",
       "  'face',\n",
       "  'could',\n",
       "  'see',\n",
       "  'hard',\n",
       "  'glitter',\n",
       "  'eye',\n",
       "  'stared',\n",
       "  'knight'],\n",
       " ['moment', 'afraid', 'older', 'man', 'would', 'go', 'sword'],\n",
       " ['short',\n",
       "  'ugly',\n",
       "  'thing',\n",
       "  'grip',\n",
       "  'discolored',\n",
       "  'sweat',\n",
       "  'edge',\n",
       "  'nicked',\n",
       "  'hard',\n",
       "  'use',\n",
       "  'would',\n",
       "  'given',\n",
       "  'iron',\n",
       "  'bob',\n",
       "  'lordling',\n",
       "  'life',\n",
       "  'gared',\n",
       "  'pulled',\n",
       "  'scabbard'],\n",
       " ['finally', 'gared', 'looked'],\n",
       " ['fire', 'muttered', 'low', 'breath'],\n",
       " ['royce', 'took', 'acquiescence', 'turned', 'away'],\n",
       " ['lead', 'said'],\n",
       " ['threaded',\n",
       "  'way',\n",
       "  'thicket',\n",
       "  'started',\n",
       "  'slope',\n",
       "  'low',\n",
       "  'ridge',\n",
       "  'found',\n",
       "  'vantage',\n",
       "  'point',\n",
       "  'sentinel',\n",
       "  'tree'],\n",
       " ['thin',\n",
       "  'crust',\n",
       "  'snow',\n",
       "  'ground',\n",
       "  'damp',\n",
       "  'muddy',\n",
       "  'slick',\n",
       "  'footing',\n",
       "  'rock',\n",
       "  'hidden',\n",
       "  'root',\n",
       "  'trip'],\n",
       " ['made', 'sound', 'climbed'],\n",
       " ['behind',\n",
       "  'heard',\n",
       "  'soft',\n",
       "  'metallic',\n",
       "  'slither',\n",
       "  'lordling',\n",
       "  'ringmail',\n",
       "  'rustle',\n",
       "  'leaf',\n",
       "  'muttered',\n",
       "  'curse',\n",
       "  'reaching',\n",
       "  'branch',\n",
       "  'grabbed',\n",
       "  'longsword',\n",
       "  'tugged',\n",
       "  'splendid',\n",
       "  'sable',\n",
       "  'cloak'],\n",
       " ['great',\n",
       "  'sentinel',\n",
       "  'right',\n",
       "  'top',\n",
       "  'ridge',\n",
       "  'known',\n",
       "  'would',\n",
       "  'lowest',\n",
       "  'branch',\n",
       "  'bare',\n",
       "  'foot',\n",
       "  'ground'],\n",
       " ['slid',\n",
       "  'underneath',\n",
       "  'flat',\n",
       "  'belly',\n",
       "  'snow',\n",
       "  'mud',\n",
       "  'page',\n",
       "  'looked',\n",
       "  'empty',\n",
       "  'clearing'],\n",
       " ['heart', 'stopped', 'chest'],\n",
       " ['moment', 'dared', 'breathe'],\n",
       " ['moonlight',\n",
       "  'shone',\n",
       "  'clearing',\n",
       "  'ash',\n",
       "  'firepit',\n",
       "  'great',\n",
       "  'rock',\n",
       "  'little',\n",
       "  'stream'],\n",
       " ['everything', 'hour', 'ago'],\n",
       " ['gone'],\n",
       " ['body', 'gone'],\n",
       " ['god'],\n",
       " ['heard', 'behind'],\n",
       " ['sword', 'slashed', 'branch', 'ser', 'waymar', 'royce', 'gained', 'ridge'],\n",
       " ['stood',\n",
       "  'beside',\n",
       "  'sentinel',\n",
       "  'longsword',\n",
       "  'hand',\n",
       "  'cloak',\n",
       "  'billowing',\n",
       "  'behind',\n",
       "  'wind',\n",
       "  'came',\n",
       "  'outlined',\n",
       "  'nobly',\n",
       "  'star',\n",
       "  'see'],\n",
       " ['get'],\n",
       " ['whispered', 'urgently'],\n",
       " ['something', 'wrong'],\n",
       " ['royce', 'move'],\n",
       " ['looked', 'empty', 'clearing', 'laughed'],\n",
       " ['dead', 'men', 'seem', 'moved', 'camp'],\n",
       " ['voice', 'abandoned'],\n",
       " ['groped', 'word', 'come'],\n",
       " ['possible'],\n",
       " ['eye', 'swept', 'back', 'forth', 'abandoned', 'campsite', 'stopped', 'axe'],\n",
       " ['huge', 'still', 'lying', 'seen', 'last', 'untouched'],\n",
       " ['valuable', 'weapon'],\n",
       " ['foot', 'ser', 'waymar', 'commanded'],\n",
       " ['one'],\n",
       " ['wo', 'hiding', 'bush'],\n",
       " ['reluctantly', 'obeyed'],\n",
       " ['ser', 'waymar', 'looked', 'open', 'disapproval'],\n",
       " ['going', 'back', 'castle', 'black', 'failure', 'first', 'ranging'],\n",
       " ['find', 'men'],\n",
       " ['glanced', 'around'],\n",
       " ['tree'],\n",
       " ['quick'],\n",
       " ['look', 'fire'],\n",
       " ['turned', 'away', 'wordless'],\n",
       " ['use', 'argue'],\n",
       " ['wind', 'moving'],\n",
       " ['cut', 'right'],\n",
       " ['went', 'tree', 'vaulting', 'sentinel', 'began', 'climb'],\n",
       " ['soon', 'hand', 'sticky', 'sap', 'lost', 'among', 'needle'],\n",
       " ['fear', 'filled', 'gut', 'like', 'meal', 'could', 'digest'],\n",
       " ['whispered',\n",
       "  'prayer',\n",
       "  'nameless',\n",
       "  'god',\n",
       "  'wood',\n",
       "  'slipped',\n",
       "  'dirk',\n",
       "  'free',\n",
       "  'sheath'],\n",
       " ['put', 'teeth', 'keep', 'hand', 'free', 'climbing'],\n",
       " ['taste', 'cold', 'iron', 'mouth', 'gave', 'comfort'],\n",
       " ['lordling', 'called', 'suddenly', 'go'],\n",
       " ['heard', 'uncertainty', 'challenge'],\n",
       " ['stopped', 'climbing', 'listened', 'watched'],\n",
       " ['wood',\n",
       "  'gave',\n",
       "  'answer',\n",
       "  'rustle',\n",
       "  'leaf',\n",
       "  'icy',\n",
       "  'rush',\n",
       "  'stream',\n",
       "  'distant',\n",
       "  'hoot',\n",
       "  'snow',\n",
       "  'owl'],\n",
       " ['others', 'made', 'sound'],\n",
       " ['saw', 'movement', 'corner', 'eye'],\n",
       " ['pale', 'shape', 'gliding', 'wood'],\n",
       " ['turned', 'head', 'glimpsed', 'white', 'shadow', 'darkness'],\n",
       " ['gone'],\n",
       " ['branch',\n",
       "  'stirred',\n",
       "  'gently',\n",
       "  'wind',\n",
       "  'scratching',\n",
       "  'one',\n",
       "  'another',\n",
       "  'wooden',\n",
       "  'finger'],\n",
       " ['opened', 'mouth', 'call', 'warning', 'word', 'seemed', 'freeze', 'throat'],\n",
       " ['perhaps', 'wrong'],\n",
       " ['perhaps', 'bird', 'reflection', 'snow', 'trick', 'moonlight'],\n",
       " ['seen'],\n",
       " ['ser', 'waymar', 'called'],\n",
       " ['see', 'anything'],\n",
       " ['turning', 'slow', 'circle', 'suddenly', 'wary', 'sword', 'hand'],\n",
       " ['must', 'felt', 'felt'],\n",
       " ['nothing', 'see'],\n",
       " ['page', 'answer'],\n",
       " ['cold'],\n",
       " ['cold'],\n",
       " ['shivering', 'clung', 'tightly', 'perch'],\n",
       " ['face', 'pressed', 'hard', 'trunk', 'sentinel'],\n",
       " ['could', 'feel', 'sweet', 'sticky', 'sap', 'cheek'],\n",
       " ['shadow', 'emerged', 'dark', 'wood'],\n",
       " ['stood', 'front', 'royce'],\n",
       " ['tall', 'gaunt', 'hard', 'old', 'bone', 'flesh', 'pale', 'milk'],\n",
       " ['armor',\n",
       "  'seemed',\n",
       "  'change',\n",
       "  'color',\n",
       "  'moved',\n",
       "  'white',\n",
       "  'snow',\n",
       "  'black',\n",
       "  'shadow',\n",
       "  'everywhere',\n",
       "  'dappled',\n",
       "  'deep',\n",
       "  'tree'],\n",
       " ['pattern', 'ran', 'like', 'moonlight', 'water', 'every', 'step', 'took'],\n",
       " ['heard', 'breath', 'go', 'ser', 'waymar', 'royce', 'long', 'hiss'],\n",
       " ['come', 'farther', 'lordling', 'warned'],\n",
       " ['voice', 'cracked', 'like', 'boy'],\n",
       " ['threw',\n",
       "  'long',\n",
       "  'sable',\n",
       "  'cloak',\n",
       "  'back',\n",
       "  'shoulder',\n",
       "  'free',\n",
       "  'arm',\n",
       "  'battle',\n",
       "  'took',\n",
       "  'sword',\n",
       "  'hand'],\n",
       " ['wind', 'stopped'],\n",
       " ['cold'],\n",
       " ['slid', 'forward', 'silent', 'foot'],\n",
       " ['hand', 'longsword', 'like', 'none', 'ever', 'seen'],\n",
       " ['human', 'metal', 'gone', 'forging', 'blade'],\n",
       " ['alive',\n",
       "  'moonlight',\n",
       "  'translucent',\n",
       "  'shard',\n",
       "  'crystal',\n",
       "  'thin',\n",
       "  'seemed',\n",
       "  'almost',\n",
       "  'vanish',\n",
       "  'seen'],\n",
       " ['faint',\n",
       "  'blue',\n",
       "  'shimmer',\n",
       "  'thing',\n",
       "  'played',\n",
       "  'around',\n",
       "  'edge',\n",
       "  'somehow',\n",
       "  'knew',\n",
       "  'sharper',\n",
       "  'razor'],\n",
       " ['ser', 'waymar', 'met', 'bravely'],\n",
       " ['dance'],\n",
       " ['lifted', 'sword', 'high', 'head', 'defiant'],\n",
       " ['hand', 'trembled', 'weight', 'perhaps', 'cold'],\n",
       " ['yet', 'moment', 'thought', 'boy', 'longer', 'man', 'night', 'watch'],\n",
       " ['halted'],\n",
       " ['saw',\n",
       "  'eye',\n",
       "  'blue',\n",
       "  'deeper',\n",
       "  'bluer',\n",
       "  'human',\n",
       "  'eye',\n",
       "  'blue',\n",
       "  'burned',\n",
       "  'like',\n",
       "  'ice'],\n",
       " ['fixed',\n",
       "  'longsword',\n",
       "  'trembling',\n",
       "  'high',\n",
       "  'watched',\n",
       "  'moonlight',\n",
       "  'running',\n",
       "  'cold',\n",
       "  'along',\n",
       "  'metal'],\n",
       " ['heartbeat', 'dared', 'hope'],\n",
       " ['emerged', 'silently', 'shadow', 'twin', 'first'],\n",
       " ['three'],\n",
       " ['four'],\n",
       " ['five'],\n",
       " ['ser',\n",
       "  'waymar',\n",
       "  'may',\n",
       "  'felt',\n",
       "  'cold',\n",
       "  'came',\n",
       "  'never',\n",
       "  'saw',\n",
       "  'never',\n",
       "  'heard'],\n",
       " ['call'],\n",
       " ['duty'],\n",
       " ['death'],\n",
       " ['shivered', 'hugged', 'tree', 'kept', 'silence'],\n",
       " ['pale', 'sword', 'came', 'shivering', 'air'],\n",
       " ['ser', 'waymar', 'met', 'steel'],\n",
       " ['blade',\n",
       "  'met',\n",
       "  'ring',\n",
       "  'metal',\n",
       "  'metal',\n",
       "  'high',\n",
       "  'thin',\n",
       "  'sound',\n",
       "  'edge',\n",
       "  'hearing',\n",
       "  'like',\n",
       "  'animal',\n",
       "  'screaming',\n",
       "  'pain'],\n",
       " ['royce', 'checked', 'second', 'blow', 'third', 'fell', 'back', 'step'],\n",
       " ['another', 'flurry', 'blow', 'fell', 'back'],\n",
       " ['behind',\n",
       "  'right',\n",
       "  'left',\n",
       "  'around',\n",
       "  'watcher',\n",
       "  'stood',\n",
       "  'patient',\n",
       "  'faceless',\n",
       "  'silent',\n",
       "  'shifting',\n",
       "  'pattern',\n",
       "  'delicate',\n",
       "  'armor',\n",
       "  'making',\n",
       "  'invisible',\n",
       "  'wood'],\n",
       " ['yet', 'made', 'move', 'interfere'],\n",
       " ['sword',\n",
       "  'met',\n",
       "  'wanted',\n",
       "  'cover',\n",
       "  'ear',\n",
       "  'strange',\n",
       "  'anguished',\n",
       "  'keening',\n",
       "  'clash'],\n",
       " ['ser', 'waymar', 'panting', 'effort', 'breath', 'steaming', 'moonlight'],\n",
       " ['blade', 'white', 'frost', 'danced', 'pale', 'blue', 'light'],\n",
       " ['royce', 'parry', 'came', 'beat', 'late'],\n",
       " ['pale', 'sword', 'bit', 'ringmail', 'beneath', 'arm'],\n",
       " ['young', 'lord', 'cried', 'pain'],\n",
       " ['blood', 'welled', 'ring'],\n",
       " ['steamed', 'cold', 'droplet', 'seemed', 'red', 'fire', 'touched', 'snow'],\n",
       " ['ser', 'page', 'waymar', 'finger', 'brushed', 'side'],\n",
       " ['moleskin', 'glove', 'came', 'away', 'soaked', 'red'],\n",
       " ['said',\n",
       "  'something',\n",
       "  'language',\n",
       "  'know',\n",
       "  'voice',\n",
       "  'like',\n",
       "  'cracking',\n",
       "  'ice',\n",
       "  'winter',\n",
       "  'lake',\n",
       "  'word',\n",
       "  'mocking'],\n",
       " ['ser', 'waymar', 'royce', 'found', 'fury'],\n",
       " ['robert'],\n",
       " ['shouted',\n",
       "  'came',\n",
       "  'snarling',\n",
       "  'lifting',\n",
       "  'longsword',\n",
       "  'hand',\n",
       "  'swinging',\n",
       "  'around',\n",
       "  'flat',\n",
       "  'sidearm',\n",
       "  'slash',\n",
       "  'weight',\n",
       "  'behind'],\n",
       " ['parry', 'almost', 'lazy'],\n",
       " ['blade', 'touched', 'steel', 'shattered'],\n",
       " ['scream',\n",
       "  'echoed',\n",
       "  'forest',\n",
       "  'night',\n",
       "  'longsword',\n",
       "  'shivered',\n",
       "  'hundred',\n",
       "  'brittle',\n",
       "  'piece',\n",
       "  'shard',\n",
       "  'scattering',\n",
       "  'like',\n",
       "  'rain',\n",
       "  'needle'],\n",
       " ['royce', 'went', 'knee', 'shrieking', 'covered', 'eye'],\n",
       " ['blood', 'welled', 'finger'],\n",
       " ['watcher', 'moved', 'forward', 'together', 'signal', 'given'],\n",
       " ['sword', 'rose', 'fell', 'deathly', 'silence'],\n",
       " ['cold', 'butchery'],\n",
       " ['pale', 'blade', 'sliced', 'ringmail', 'silk'],\n",
       " ['closed', 'eye'],\n",
       " ['far', 'beneath', 'heard', 'voice', 'laughter', 'sharp', 'icicle'],\n",
       " ['found', 'courage', 'look', 'long', 'time', 'passed', 'ridge', 'empty'],\n",
       " ['stayed',\n",
       "  'tree',\n",
       "  'scarce',\n",
       "  'daring',\n",
       "  'breathe',\n",
       "  'moon',\n",
       "  'crept',\n",
       "  'slowly',\n",
       "  'across',\n",
       "  'black',\n",
       "  'sky'],\n",
       " ['finally', 'muscle', 'cramping', 'finger', 'numb', 'cold', 'climbed'],\n",
       " ['royce', 'body', 'lay', 'facedown', 'snow', 'one', 'arm', 'outflung'],\n",
       " ['thick', 'sable', 'cloak', 'slashed', 'dozen', 'place'],\n",
       " ['lying', 'dead', 'like', 'saw', 'young'],\n",
       " ['boy'],\n",
       " ['found',\n",
       "  'left',\n",
       "  'sword',\n",
       "  'foot',\n",
       "  'away',\n",
       "  'end',\n",
       "  'splintered',\n",
       "  'twisted',\n",
       "  'like',\n",
       "  'tree',\n",
       "  'struck',\n",
       "  'lightning'],\n",
       " ['knelt', 'looked', 'around', 'warily', 'snatched'],\n",
       " ['broken', 'sword', 'would', 'proof'],\n",
       " ['gared',\n",
       "  'would',\n",
       "  'know',\n",
       "  'make',\n",
       "  'surely',\n",
       "  'old',\n",
       "  'bear',\n",
       "  'mormont',\n",
       "  'maester',\n",
       "  'aemon'],\n",
       " ['would', 'gared', 'still', 'waiting', 'horse'],\n",
       " ['hurry'],\n",
       " ['rose'],\n",
       " ['ser', 'waymar', 'royce', 'stood'],\n",
       " ['fine', 'clothes', 'tatter', 'face', 'ruin'],\n",
       " ['shard', 'sword', 'transfixed', 'blind', 'white', 'pupil', 'left', 'eye'],\n",
       " ['right', 'eye', 'open'],\n",
       " ['pupil', 'burned', 'blue'],\n",
       " ['saw'],\n",
       " ['broken', 'sword', 'fell', 'nerveless', 'finger'],\n",
       " ['closed', 'eye', 'pray'],\n",
       " ['long',\n",
       "  'elegant',\n",
       "  'hand',\n",
       "  'brushed',\n",
       "  'cheek',\n",
       "  'tightened',\n",
       "  'around',\n",
       "  'throat'],\n",
       " ['gloved',\n",
       "  'finest',\n",
       "  'moleskin',\n",
       "  'sticky',\n",
       "  'blood',\n",
       "  'yet',\n",
       "  'touch',\n",
       "  'icy',\n",
       "  'cold'],\n",
       " ['bran',\n",
       "  'morning',\n",
       "  'dawned',\n",
       "  'clear',\n",
       "  'cold',\n",
       "  'crispness',\n",
       "  'hinted',\n",
       "  'end',\n",
       "  'summer'],\n",
       " ['set',\n",
       "  'forth',\n",
       "  'daybreak',\n",
       "  'see',\n",
       "  'man',\n",
       "  'beheaded',\n",
       "  'twenty',\n",
       "  'bran',\n",
       "  'rode',\n",
       "  'among',\n",
       "  'nervous',\n",
       "  'excitement'],\n",
       " ['first',\n",
       "  'time',\n",
       "  'deemed',\n",
       "  'old',\n",
       "  'enough',\n",
       "  'go',\n",
       "  'lord',\n",
       "  'father',\n",
       "  'page',\n",
       "  'brother',\n",
       "  'see',\n",
       "  'king',\n",
       "  'justice',\n",
       "  'done'],\n",
       " ['ninth', 'year', 'summer', 'seventh', 'bran', 'life'],\n",
       " ['man', 'taken', 'outside', 'small', 'holdfast', 'hill'],\n",
       " ['robb', 'thought', 'wildling', 'sword', 'sworn', 'mance', 'rayder'],\n",
       " ['made', 'bran', 'skin', 'prickle', 'think'],\n",
       " ['remembered', 'hearth', 'tale', 'old', 'nan', 'told'],\n",
       " ['wildlings', 'cruel', 'men', 'said', 'slaver', 'slayer', 'thief'],\n",
       " ['consorted',\n",
       "  'giant',\n",
       "  'ghoul',\n",
       "  'stole',\n",
       "  'girl',\n",
       "  'child',\n",
       "  'dead',\n",
       "  'night',\n",
       "  'drank',\n",
       "  'blood',\n",
       "  'polished',\n",
       "  'horn'],\n",
       " ['woman', 'lay', 'others', 'long', 'night', 'sire', 'terrible', 'child'],\n",
       " ['man',\n",
       "  'found',\n",
       "  'bound',\n",
       "  'hand',\n",
       "  'foot',\n",
       "  'holdfast',\n",
       "  'wall',\n",
       "  'awaiting',\n",
       "  'king',\n",
       "  'justice',\n",
       "  'old',\n",
       "  'scrawny',\n",
       "  'much',\n",
       "  'taller',\n",
       "  'robb'],\n",
       " ['lost',\n",
       "  'ear',\n",
       "  'finger',\n",
       "  'frostbite',\n",
       "  'dressed',\n",
       "  'black',\n",
       "  'brother',\n",
       "  'night',\n",
       "  'watch',\n",
       "  'except',\n",
       "  'fur',\n",
       "  'ragged',\n",
       "  'greasy'],\n",
       " ['breath',\n",
       "  'man',\n",
       "  'horse',\n",
       "  'mingled',\n",
       "  'steaming',\n",
       "  'cold',\n",
       "  'morning',\n",
       "  'air',\n",
       "  'lord',\n",
       "  'father',\n",
       "  'man',\n",
       "  'cut',\n",
       "  'wall',\n",
       "  'dragged'],\n",
       " ['robb',\n",
       "  'jon',\n",
       "  'sat',\n",
       "  'tall',\n",
       "  'still',\n",
       "  'horse',\n",
       "  'bran',\n",
       "  'pony',\n",
       "  'trying',\n",
       "  'seem',\n",
       "  'older',\n",
       "  'seven',\n",
       "  'trying',\n",
       "  'pretend',\n",
       "  'seen'],\n",
       " ['faint', 'wind', 'blew', 'holdfast', 'gate'],\n",
       " ['head',\n",
       "  'flapped',\n",
       "  'banner',\n",
       "  'starks',\n",
       "  'winterfell',\n",
       "  'grey',\n",
       "  'direwolf',\n",
       "  'racing',\n",
       "  'across',\n",
       "  'field'],\n",
       " ['bran',\n",
       "  'father',\n",
       "  'sat',\n",
       "  'solemnly',\n",
       "  'horse',\n",
       "  'long',\n",
       "  'brown',\n",
       "  'hair',\n",
       "  'stirring',\n",
       "  'wind'],\n",
       " ['closely',\n",
       "  'trimmed',\n",
       "  'beard',\n",
       "  'shot',\n",
       "  'white',\n",
       "  'making',\n",
       "  'look',\n",
       "  'older',\n",
       "  'year'],\n",
       " ['grim',\n",
       "  'cast',\n",
       "  'grey',\n",
       "  'eye',\n",
       "  'day',\n",
       "  'seemed',\n",
       "  'man',\n",
       "  'would',\n",
       "  'sit',\n",
       "  'fire',\n",
       "  'evening',\n",
       "  'talk',\n",
       "  'softly',\n",
       "  'age',\n",
       "  'hero',\n",
       "  'child',\n",
       "  'forest'],\n",
       " ['taken',\n",
       "  'father',\n",
       "  'face',\n",
       "  'bran',\n",
       "  'thought',\n",
       "  'donned',\n",
       "  'face',\n",
       "  'lord',\n",
       "  'stark',\n",
       "  'winterfell'],\n",
       " ['question',\n",
       "  'asked',\n",
       "  'answer',\n",
       "  'given',\n",
       "  'chill',\n",
       "  'morning',\n",
       "  'afterward',\n",
       "  'bran',\n",
       "  'could',\n",
       "  'recall',\n",
       "  'much',\n",
       "  'said'],\n",
       " ['finally',\n",
       "  'lord',\n",
       "  'father',\n",
       "  'gave',\n",
       "  'command',\n",
       "  'two',\n",
       "  'guardsman',\n",
       "  'dragged',\n",
       "  'ragged',\n",
       "  'man',\n",
       "  'ironwood',\n",
       "  'stump',\n",
       "  'center',\n",
       "  'square'],\n",
       " ['forced', 'head', 'onto', 'hard', 'black', 'wood'],\n",
       " ['lord',\n",
       "  'eddard',\n",
       "  'stark',\n",
       "  'dismounted',\n",
       "  'ward',\n",
       "  'theon',\n",
       "  'greyjoy',\n",
       "  'brought',\n",
       "  'forth',\n",
       "  'sword'],\n",
       " ['ice', 'sword', 'called'],\n",
       " ['wide', 'across', 'man', 'hand', 'taller', 'even', 'robb'],\n",
       " ['blade', 'valyrian', 'steel', 'dark', 'smoke'],\n",
       " ['nothing', 'held', 'edge', 'like', 'valyrian', 'steel'],\n",
       " ['father',\n",
       "  'peeled',\n",
       "  'glove',\n",
       "  'handed',\n",
       "  'jory',\n",
       "  'cassel',\n",
       "  'captain',\n",
       "  'household',\n",
       "  'guard'],\n",
       " ['took',\n",
       "  'hold',\n",
       "  'ice',\n",
       "  'hand',\n",
       "  'said',\n",
       "  'name',\n",
       "  'robert',\n",
       "  'house',\n",
       "  'baratheon',\n",
       "  'first',\n",
       "  'name',\n",
       "  'king',\n",
       "  'andals',\n",
       "  'rhoynar',\n",
       "  'first',\n",
       "  'men',\n",
       "  'lord',\n",
       "  'seven',\n",
       "  'kingdom',\n",
       "  'protector',\n",
       "  'realm',\n",
       "  'word',\n",
       "  'eddard',\n",
       "  'house',\n",
       "  'stark',\n",
       "  'lord',\n",
       "  'winterfell',\n",
       "  'warden',\n",
       "  'north',\n",
       "  'sentence',\n",
       "  'die'],\n",
       " ['lifted', 'greatsword', 'high', 'head'],\n",
       " ['bran', 'bastard', 'brother', 'jon', 'snow', 'moved', 'closer'],\n",
       " ['keep', 'pony', 'well', 'hand', 'whispered'],\n",
       " ['look', 'away'],\n",
       " ['father', 'know'],\n",
       " ['bran', 'kept', 'pony', 'well', 'hand', 'look', 'away'],\n",
       " ['father', 'took', 'man', 'head', 'single', 'sure', 'stroke'],\n",
       " ['blood', 'sprayed', 'across', 'snow', 'red', 'surnmerwine'],\n",
       " ['one', 'horse', 'reared', 'restrained', 'keep', 'bolting'],\n",
       " ['bran', 'could', 'take', 'eye', 'blood'],\n",
       " ['snow', 'around', 'stump', 'drank', 'eagerly', 'reddening', 'watched'],\n",
       " ['head', 'bounced', 'thick', 'root', 'rolled'],\n",
       " ['came', 'near', 'greyjoy', 'foot'],\n",
       " ['theon',\n",
       "  'lean',\n",
       "  'dark',\n",
       "  'page',\n",
       "  'youth',\n",
       "  'nineteen',\n",
       "  'found',\n",
       "  'everything',\n",
       "  'amusing'],\n",
       " ['laughed', 'put', 'boot', 'head', 'kicked', 'away'],\n",
       " ['as', 'jon', 'muttered', 'low', 'enough', 'greyjoy', 'hear'],\n",
       " ['put', 'hand', 'bran', 'shoulder', 'bran', 'looked', 'bastard', 'brother'],\n",
       " ['well', 'jon', 'told', 'solemnly'],\n",
       " ['jon', 'fourteen', 'old', 'hand', 'justice'],\n",
       " ['seemed',\n",
       "  'colder',\n",
       "  'long',\n",
       "  'ride',\n",
       "  'back',\n",
       "  'winterfell',\n",
       "  'though',\n",
       "  'wind',\n",
       "  'died',\n",
       "  'sun',\n",
       "  'higher',\n",
       "  'sky'],\n",
       " ['bran',\n",
       "  'rode',\n",
       "  'brother',\n",
       "  'well',\n",
       "  'ahead',\n",
       "  'main',\n",
       "  'party',\n",
       "  'pony',\n",
       "  'struggling',\n",
       "  'hard',\n",
       "  'keep',\n",
       "  'horse'],\n",
       " ['deserter', 'died', 'bravely', 'robb', 'said'],\n",
       " ['big',\n",
       "  'broad',\n",
       "  'growing',\n",
       "  'every',\n",
       "  'day',\n",
       "  'mother',\n",
       "  'coloring',\n",
       "  'fair',\n",
       "  'skin',\n",
       "  'hair',\n",
       "  'blue',\n",
       "  'eye',\n",
       "  'tully',\n",
       "  'riverrun'],\n",
       " ['courage', 'least'],\n",
       " ['jon', 'snow', 'said', 'quietly'],\n",
       " ['courage'],\n",
       " ['one', 'dead', 'fear'],\n",
       " ['could', 'see', 'eye', 'stark'],\n",
       " ['jon', 'eye', 'grey', 'dark', 'seemed', 'almost', 'black', 'little', 'see'],\n",
       " ['age', 'robb', 'look', 'alike'],\n",
       " ['jon',\n",
       "  'slender',\n",
       "  'robb',\n",
       "  'muscular',\n",
       "  'dark',\n",
       "  'robb',\n",
       "  'fair',\n",
       "  'graceful',\n",
       "  'quick',\n",
       "  'half',\n",
       "  'brother',\n",
       "  'strong',\n",
       "  'fast'],\n",
       " ['robb', 'impressed'],\n",
       " ['others', 'take', 'eye', 'swore'],\n",
       " ['died', 'well'],\n",
       " ['race', 'bridge'],\n",
       " ['done', 'jon', 'said', 'kicking', 'horse', 'forward'],\n",
       " ['robb',\n",
       "  'cursed',\n",
       "  'followed',\n",
       "  'galloped',\n",
       "  'trail',\n",
       "  'robb',\n",
       "  'laughing',\n",
       "  'hooting',\n",
       "  'jon',\n",
       "  'silent',\n",
       "  'intent'],\n",
       " ['hoof', 'horse', 'kicked', 'shower', 'snow', 'went'],\n",
       " ['bran', 'try', 'follow'],\n",
       " ['pony', 'could', 'keep'],\n",
       " ['seen', 'ragged', 'man', 'eye', 'thinking'],\n",
       " ['sound', 'robb', 'laughter', 'receded', 'wood', 'grew', 'silent'],\n",
       " ['deep',\n",
       "  'thought',\n",
       "  'never',\n",
       "  'heard',\n",
       "  'rest',\n",
       "  'party',\n",
       "  'father',\n",
       "  'moved',\n",
       "  'ride',\n",
       "  'beside'],\n",
       " ['well', 'bran'],\n",
       " ['asked', 'unkindly'],\n",
       " ['yes', 'father', 'bran', 'told'],\n",
       " ['looked'],\n",
       " ['wrapped',\n",
       "  'fur',\n",
       "  'leather',\n",
       "  'mounted',\n",
       "  'great',\n",
       "  'warhorse',\n",
       "  'lord',\n",
       "  'father',\n",
       "  'loomed',\n",
       "  'like',\n",
       "  'giant'],\n",
       " ['robb', 'say', 'man', 'died', 'bravely', 'jon', 'say', 'afraid'],\n",
       " ['think'],\n",
       " ['father', 'asked'],\n",
       " ['bran', 'thought'],\n",
       " ['man', 'still', 'brave', 'afraid'],\n",
       " ['time', 'man', 'brave', 'father', 'told'],\n",
       " ['understand'],\n",
       " ['wildling', 'bran', 'said'],\n",
       " ['carry', 'woman', 'sell', 'others'],\n",
       " ['lord', 'father', 'smiled'],\n",
       " ['old', 'nan', 'telling', 'story'],\n",
       " ['truth', 'man', 'oathbreaker', 'deserter', 'night', 'watch'],\n",
       " ['man', 'dangerous'],\n",
       " ['deserter',\n",
       "  'know',\n",
       "  'life',\n",
       "  'forfeit',\n",
       "  'taken',\n",
       "  'flinch',\n",
       "  'crime',\n",
       "  'matter',\n",
       "  'vile'],\n",
       " ['mistake'],\n",
       " ['question', 'man', 'die', 'must'],\n",
       " ['page', 'bran', 'answer'],\n",
       " ['king', 'robert', 'headsman', 'said', 'uncertainly'],\n",
       " ['father', 'admitted'],\n",
       " ['targaryen', 'king'],\n",
       " ['yet', 'way', 'older', 'way'],\n",
       " ['blood',\n",
       "  'first',\n",
       "  'men',\n",
       "  'still',\n",
       "  'flow',\n",
       "  'vein',\n",
       "  'starks',\n",
       "  'hold',\n",
       "  'belief',\n",
       "  'man',\n",
       "  'pass',\n",
       "  'sentence',\n",
       "  'swing',\n",
       "  'sword'],\n",
       " ['would',\n",
       "  'take',\n",
       "  'man',\n",
       "  'life',\n",
       "  'owe',\n",
       "  'look',\n",
       "  'eye',\n",
       "  'hear',\n",
       "  'final',\n",
       "  'word'],\n",
       " ['bear', 'perhaps', 'man', 'deserve', 'die'],\n",
       " ['one',\n",
       "  'day',\n",
       "  'bran',\n",
       "  'robb',\n",
       "  'bannerman',\n",
       "  'holding',\n",
       "  'keep',\n",
       "  'brother',\n",
       "  'king',\n",
       "  'justice',\n",
       "  'fall'],\n",
       " ['day',\n",
       "  'come',\n",
       "  'must',\n",
       "  'take',\n",
       "  'pleasure',\n",
       "  'task',\n",
       "  'neither',\n",
       "  'must',\n",
       "  'look',\n",
       "  'away'],\n",
       " ['ruler',\n",
       "  'hide',\n",
       "  'behind',\n",
       "  'paid',\n",
       "  'executioner',\n",
       "  'soon',\n",
       "  'forgets',\n",
       "  'death'],\n",
       " ['jon', 'reappeared', 'crest', 'hill'],\n",
       " ['waved', 'shouted'],\n",
       " ['father', 'bran', 'come', 'quickly', 'see', 'robb', 'found'],\n",
       " ['gone'],\n",
       " ['jory', 'rode', 'beside'],\n",
       " ['trouble', 'lord'],\n",
       " ['beyond', 'doubt', 'lord', 'father', 'said'],\n",
       " ['come', 'let', 'u', 'see', 'mischief', 'son', 'rooted'],\n",
       " ['sent', 'horse', 'trot'],\n",
       " ['jory', 'bran', 'rest', 'came'],\n",
       " ['found',\n",
       "  'robb',\n",
       "  'riverbank',\n",
       "  'north',\n",
       "  'bridge',\n",
       "  'jon',\n",
       "  'still',\n",
       "  'mounted',\n",
       "  'beside'],\n",
       " ['late', 'summer', 'snow', 'heavy', 'moonturn'],\n",
       " ['robb', 'stood', 'white', 'hood', 'pulled', 'back', 'sun', 'shone', 'hair'],\n",
       " ['cradling',\n",
       "  'something',\n",
       "  'arm',\n",
       "  'boy',\n",
       "  'talked',\n",
       "  'hushed',\n",
       "  'excited',\n",
       "  'voice'],\n",
       " ['rider',\n",
       "  'picked',\n",
       "  'way',\n",
       "  'carefully',\n",
       "  'drift',\n",
       "  'groping',\n",
       "  'solid',\n",
       "  'footing',\n",
       "  'hidden',\n",
       "  'uneven',\n",
       "  'ground'],\n",
       " ['jory', 'cassel', 'theon', 'greyjoy', 'first', 'reach', 'boy'],\n",
       " ['greyjoy', 'laughing', 'joking', 'rode'],\n",
       " ['bran', 'heard', 'breath', 'go'],\n",
       " ['god'],\n",
       " ['exclaimed', 'struggling', 'keep', 'control', 'horse', 'reached', 'sword'],\n",
       " ['jory', 'sword', 'already'],\n",
       " ['robb', 'get', 'away'],\n",
       " ['called', 'horse', 'reared'],\n",
       " ['robb', 'grinned', 'looked', 'bundle', 'arm'],\n",
       " ['ca', 'hurt', 'said'],\n",
       " ['dead', 'jory'],\n",
       " ['bran', 'afire', 'curiosity'],\n",
       " ['would',\n",
       "  'spurred',\n",
       "  'pony',\n",
       "  'faster',\n",
       "  'father',\n",
       "  'made',\n",
       "  'dismount',\n",
       "  'beside',\n",
       "  'bridge',\n",
       "  'approach',\n",
       "  'foot'],\n",
       " ['bran', 'jumped', 'ran'],\n",
       " ['jon', 'jory', 'theon', 'greyjoy', 'dismounted', 'well'],\n",
       " ['seven', 'hell'],\n",
       " ['greyjoy', 'saying'],\n",
       " ['wolf', 'robb', 'told'],\n",
       " ['freak', 'greyjoy', 'said'],\n",
       " ['look', 'size'],\n",
       " ['bran', 'heart', 'thumping', 'chest', 'pushed', 'drift', 'brother', 'side'],\n",
       " ['bloodstained', 'snow', 'huge', 'dark', 'shape', 'slumped', 'death'],\n",
       " ['ice',\n",
       "  'formed',\n",
       "  'shaggy',\n",
       "  'grey',\n",
       "  'fur',\n",
       "  'faint',\n",
       "  'smell',\n",
       "  'corruption',\n",
       "  'clung',\n",
       "  'like',\n",
       "  'woman',\n",
       "  'perfume'],\n",
       " ['bran',\n",
       "  'glimpsed',\n",
       "  'blind',\n",
       "  'eye',\n",
       "  'crawling',\n",
       "  'maggot',\n",
       "  'wide',\n",
       "  'mouth',\n",
       "  'full',\n",
       "  'yellowed',\n",
       "  'teeth'],\n",
       " ['size', 'made', 'gasp'],\n",
       " ['bigger', 'pony', 'twice', 'size', 'largest', 'hound', 'father', 'kennel'],\n",
       " ['page', 'freak', 'jon', 'said', 'calmly'],\n",
       " ['direwolf'],\n",
       " ['grow', 'larger', 'kind'],\n",
       " ['theon',\n",
       "  'greyjoy',\n",
       "  'said',\n",
       "  'direwolf',\n",
       "  'sighted',\n",
       "  'south',\n",
       "  'wall',\n",
       "  'two',\n",
       "  'hundred',\n",
       "  'year'],\n",
       " ['see', 'one', 'jon', 'replied'],\n",
       " ['bran', 'tore', 'eye', 'away', 'monster'],\n",
       " ['noticed', 'bundle', 'robb', 'arm'],\n",
       " ['gave', 'cry', 'delight', 'moved', 'closer'],\n",
       " ['pup', 'tiny', 'ball', 'fur', 'eye', 'still', 'closed'],\n",
       " ['nuzzled',\n",
       "  'blindly',\n",
       "  'robb',\n",
       "  'chest',\n",
       "  'cradled',\n",
       "  'searching',\n",
       "  'milk',\n",
       "  'among',\n",
       "  'leather',\n",
       "  'making',\n",
       "  'sad',\n",
       "  'little',\n",
       "  'whimpery',\n",
       "  'sound'],\n",
       " ['bran', 'reached', 'hesitantly'],\n",
       " ['go', 'robb', 'told'],\n",
       " ['touch'],\n",
       " ['bran',\n",
       "  'gave',\n",
       "  'pup',\n",
       "  'quick',\n",
       "  'nervous',\n",
       "  'stroke',\n",
       "  'turned',\n",
       "  'jon',\n",
       "  'said',\n",
       "  'go'],\n",
       " ['half', 'brother', 'put', 'second', 'pup', 'arm'],\n",
       " ['five'],\n",
       " ['bran', 'sat', 'snow', 'hugged', 'wolf', 'pup', 'face'],\n",
       " ['fur', 'soft', 'warm', 'cheek'],\n",
       " ['direwolves',\n",
       "  'loose',\n",
       "  'realm',\n",
       "  'many',\n",
       "  'year',\n",
       "  'muttered',\n",
       "  'hullen',\n",
       "  'master',\n",
       "  'horse'],\n",
       " ['like'],\n",
       " ['sign', 'jory', 'said'],\n",
       " ['father', 'frowned'],\n",
       " ['dead', 'animal', 'jory', 'said'],\n",
       " ['yet', 'seemed', 'troubled'],\n",
       " ['snow', 'crunched', 'boot', 'moved', 'around', 'body'],\n",
       " ['know', 'killed'],\n",
       " ['something',\n",
       "  'throat',\n",
       "  'robb',\n",
       "  'told',\n",
       "  'proud',\n",
       "  'found',\n",
       "  'answer',\n",
       "  'father',\n",
       "  'even',\n",
       "  'asked'],\n",
       " ['father', 'knelt', 'groped', 'beast', 'head', 'hand'],\n",
       " ['gave', 'yank', 'held', 'see'],\n",
       " ['foot', 'shattered', 'antler', 'tine', 'snapped', 'wet', 'blood'],\n",
       " ['sudden', 'silence', 'descended', 'party'],\n",
       " ['men', 'looked', 'antler', 'uneasily', 'one', 'dared', 'speak'],\n",
       " ['even', 'bran', 'could', 'sense', 'fear', 'though', 'understand'],\n",
       " ['father', 'tossed', 'antler', 'side', 'cleansed', 'hand', 'snow'],\n",
       " ['surprised', 'lived', 'long', 'enough', 'whelp', 'said'],\n",
       " ['voice', 'broke', 'spell'],\n",
       " ['maybe', 'jory', 'said'],\n",
       " ['heard', 'tale'],\n",
       " ['maybe', 'bitch', 'already', 'dead', 'pup', 'came'],\n",
       " ['born', 'dead', 'another', 'man', 'put'],\n",
       " ['worse', 'luck'],\n",
       " ['matter', 'said', 'hullen'],\n",
       " ['dead', 'soon', 'enough'],\n",
       " ['bran', 'gave', 'wordless', 'cry', 'dismay'],\n",
       " ['sooner', 'better', 'theon', 'greyjoy', 'agreed'],\n",
       " ['drew', 'sword'],\n",
       " ['give', 'beast', 'bran'],\n",
       " ['little', 'thing', 'squirmed', 'heard', 'understood'],\n",
       " ['bran', 'cried', 'fiercely'],\n",
       " ['mine'],\n",
       " ['page', 'put', 'away', 'sword', 'greyjoy', 'robb', 'said'],\n",
       " ['moment',\n",
       "  'sounded',\n",
       "  'commanding',\n",
       "  'father',\n",
       "  'like',\n",
       "  'lord',\n",
       "  'would',\n",
       "  'someday'],\n",
       " ['keep', 'pup'],\n",
       " ['boy', 'said', 'harwin', 'hullen', 'son'],\n",
       " ['mercy', 'kill', 'hullen', 'said'],\n",
       " ['bran',\n",
       "  'looked',\n",
       "  'lord',\n",
       "  'father',\n",
       "  'rescue',\n",
       "  'got',\n",
       "  'frown',\n",
       "  'furrowed',\n",
       "  'brow'],\n",
       " ['hullen', 'speaks', 'truly', 'son'],\n",
       " ['better', 'swift', 'death', 'hard', 'one', 'cold', 'starvation'],\n",
       " ['could', 'feel', 'tear', 'welling', 'eye', 'looked', 'away'],\n",
       " ['want', 'cry', 'front', 'father'],\n",
       " ['robb', 'resisted', 'stubbornly'],\n",
       " ['ser', 'rodrik', 'red', 'bitch', 'whelped', 'last', 'week', 'said'],\n",
       " ['small', 'litter', 'two', 'live', 'pup'],\n",
       " ['milk', 'enough'],\n",
       " ['rip', 'apart', 'try', 'nurse'],\n",
       " ['lord', 'stark', 'jon', 'said'],\n",
       " ['strange', 'hear', 'call', 'father', 'formal'],\n",
       " ['bran', 'looked', 'desperate', 'hope'],\n",
       " ['five', 'pup', 'told', 'father'],\n",
       " ['three', 'male', 'two', 'female'],\n",
       " ['jon'],\n",
       " ['five', 'trueborn', 'child', 'jon', 'said'],\n",
       " ['three', 'son', 'two', 'daughter'],\n",
       " ['direwolf', 'sigil', 'house'],\n",
       " ['child', 'meant', 'pup', 'lord'],\n",
       " ['bran',\n",
       "  'saw',\n",
       "  'father',\n",
       "  'face',\n",
       "  'change',\n",
       "  'saw',\n",
       "  'men',\n",
       "  'exchange',\n",
       "  'glance'],\n",
       " ['loved', 'jon', 'heart', 'moment'],\n",
       " ['even', 'seven', 'bran', 'understood', 'brother', 'done'],\n",
       " ['count', 'come', 'right', 'jon', 'omitted'],\n",
       " ['included',\n",
       "  'girl',\n",
       "  'included',\n",
       "  'even',\n",
       "  'rickon',\n",
       "  'baby',\n",
       "  'bastard',\n",
       "  'bore',\n",
       "  'surname',\n",
       "  'snow',\n",
       "  'name',\n",
       "  'custom',\n",
       "  'decreed',\n",
       "  'given',\n",
       "  'north',\n",
       "  'unlucky',\n",
       "  'enough',\n",
       "  'born',\n",
       "  'name'],\n",
       " ['father', 'understood', 'well'],\n",
       " ['want', 'pup', 'jon'],\n",
       " ['asked', 'softly'],\n",
       " ['direwolf', 'grace', 'banner', 'house', 'stark', 'jon', 'pointed'],\n",
       " ['stark', 'father'],\n",
       " ['lord', 'father', 'regarded', 'jon', 'thoughtfully'],\n",
       " ['robb', 'rushed', 'silence', 'left'],\n",
       " ['nurse', 'father', 'promised'],\n",
       " ['soak', 'towel', 'warm', 'milk', 'give', 'suck'],\n",
       " ['bran', 'echoed'],\n",
       " ['lord', 'weighed', 'son', 'long', 'carefully', 'eye'],\n",
       " ['easy', 'say', 'harder'],\n",
       " ['wasting', 'servant', 'time'],\n",
       " ['want', 'pup', 'feed'],\n",
       " ['understood'],\n",
       " ['bran', 'nodded', 'eagerly'],\n",
       " ['pup', 'squirmed', 'grasp', 'licked', 'face', 'warm', 'tongue'],\n",
       " ['must', 'train', 'well', 'father', 'said'],\n",
       " ['must', 'train'],\n",
       " ['kennelmaster', 'nothing', 'monster', 'promise'],\n",
       " ['god', 'help', 'neglect', 'brutalize', 'train', 'badly'],\n",
       " ['dog', 'beg', 'treat', 'slink', 'kick'],\n",
       " ['direwolf',\n",
       "  'rip',\n",
       "  'page',\n",
       "  'man',\n",
       "  'arm',\n",
       "  'shoulder',\n",
       "  'easily',\n",
       "  'dog',\n",
       "  'kill',\n",
       "  'rat'],\n",
       " ['sure', 'want'],\n",
       " ['yes', 'father', 'bran', 'said'],\n",
       " ['yes', 'robb', 'agreed'],\n",
       " ['pup', 'may', 'die', 'anyway', 'despite'],\n",
       " ['wo', 'die', 'robb', 'said'],\n",
       " ['wo', 'let', 'die'],\n",
       " ['keep'],\n",
       " ['jory', 'desmond', 'gather', 'pup'],\n",
       " ['time', 'back', 'winterfell'],\n",
       " ['mounted', 'way', 'bran', 'allowed', 'taste', 'sweet', 'air', 'victory'],\n",
       " ['pup',\n",
       "  'snuggled',\n",
       "  'inside',\n",
       "  'leather',\n",
       "  'warm',\n",
       "  'safe',\n",
       "  'long',\n",
       "  'ride',\n",
       "  'home'],\n",
       " ['bran', 'wondering', 'name'],\n",
       " ['halfway', 'across', 'bridge', 'jon', 'pulled', 'suddenly'],\n",
       " ['jon'],\n",
       " ['lord', 'father', 'asked'],\n",
       " ['ca', 'hear'],\n",
       " ['bran',\n",
       "  'could',\n",
       "  'hear',\n",
       "  'wind',\n",
       "  'tree',\n",
       "  'clatter',\n",
       "  'hoof',\n",
       "  'ironwood',\n",
       "  'plank',\n",
       "  'whimpering',\n",
       "  'hungry',\n",
       "  'pup',\n",
       "  'jon',\n",
       "  'listening',\n",
       "  'something',\n",
       "  'else'],\n",
       " ['jon', 'said'],\n",
       " ['swung', 'horse', 'around', 'galloped', 'back', 'across', 'bridge'],\n",
       " ['watched',\n",
       "  'dismount',\n",
       "  'direwolf',\n",
       "  'lay',\n",
       "  'dead',\n",
       "  'snow',\n",
       "  'watched',\n",
       "  'kneel'],\n",
       " ['moment', 'later', 'riding', 'back', 'smiling'],\n",
       " ['must', 'crawled', 'away', 'others', 'jon', 'said'],\n",
       " ['driven', 'away', 'father', 'said', 'looking', 'sixth', 'pup'],\n",
       " ['fur', 'white', 'rest', 'litter', 'grey'],\n",
       " ['eye', 'red', 'blood', 'ragged', 'man', 'died', 'morning'],\n",
       " ['bran',\n",
       "  'thought',\n",
       "  'curious',\n",
       "  'pup',\n",
       "  'alone',\n",
       "  'would',\n",
       "  'opened',\n",
       "  'eye',\n",
       "  'others',\n",
       "  'still',\n",
       "  'blind'],\n",
       " ['albino', 'theon', 'greyjoy', 'said', 'wry', 'amusement'],\n",
       " ['one', 'die', 'even', 'faster', 'others'],\n",
       " ['jon', 'snow', 'gave', 'father', 'ward', 'long', 'chilling', 'look'],\n",
       " ['think', 'greyjoy', 'said'],\n",
       " ['one', 'belongs'],\n",
       " ['catelyn', 'catelyn', 'never', 'liked', 'godswood'],\n",
       " ['born', 'tully', 'riverrun', 'far', 'south', 'red', 'fork', 'trident'],\n",
       " ['godswood',\n",
       "  'garden',\n",
       "  'bright',\n",
       "  'airy',\n",
       "  'tall',\n",
       "  'redwood',\n",
       "  'spread',\n",
       "  'dappled',\n",
       "  'shadow',\n",
       "  'across',\n",
       "  'tinkling',\n",
       "  'stream',\n",
       "  'bird',\n",
       "  'sang',\n",
       "  'hidden',\n",
       "  'nest',\n",
       "  'air',\n",
       "  'spicy',\n",
       "  'scent',\n",
       "  'flower'],\n",
       " ['page', 'god', 'winterfell', 'kept', 'different', 'sort', 'wood'],\n",
       " ['dark',\n",
       "  'primal',\n",
       "  'place',\n",
       "  'three',\n",
       "  'acre',\n",
       "  'old',\n",
       "  'forest',\n",
       "  'untouched',\n",
       "  'ten',\n",
       "  'thousand',\n",
       "  'year',\n",
       "  'gloomy',\n",
       "  'castle',\n",
       "  'rose',\n",
       "  'around'],\n",
       " ['smelled', 'moist', 'earth', 'decay'],\n",
       " ['redwood', 'grew'],\n",
       " ['wood',\n",
       "  'stubborn',\n",
       "  'sentinel',\n",
       "  'tree',\n",
       "  'armored',\n",
       "  'needle',\n",
       "  'mighty',\n",
       "  'oak',\n",
       "  'ironwood',\n",
       "  'old',\n",
       "  'realm'],\n",
       " ['thick',\n",
       "  'black',\n",
       "  'trunk',\n",
       "  'crowded',\n",
       "  'close',\n",
       "  'together',\n",
       "  'twisted',\n",
       "  'branch',\n",
       "  'wove',\n",
       "  'dense',\n",
       "  'canopy',\n",
       "  'overhead',\n",
       "  'misshappen',\n",
       "  'root',\n",
       "  'wrestled',\n",
       "  'beneath',\n",
       "  'soil'],\n",
       " ['place', 'deep', 'silence', 'brooding', 'shadow', 'god', 'lived', 'name'],\n",
       " ['knew', 'would', 'find', 'husband', 'tonight'],\n",
       " ['whenever',\n",
       "  'took',\n",
       "  'man',\n",
       "  'life',\n",
       "  'afterward',\n",
       "  'would',\n",
       "  'seek',\n",
       "  'quiet',\n",
       "  'godswood'],\n",
       " ['catelyn',\n",
       "  'anointed',\n",
       "  'seven',\n",
       "  'oil',\n",
       "  'named',\n",
       "  'rainbow',\n",
       "  'light',\n",
       "  'filled',\n",
       "  'sept',\n",
       "  'riverrun'],\n",
       " ['faith', 'like', 'father', 'grandfather', 'father'],\n",
       " ['god', 'name', 'face', 'familiar', 'face', 'parent'],\n",
       " ['worship',\n",
       "  'septon',\n",
       "  'censer',\n",
       "  'smell',\n",
       "  'incense',\n",
       "  'crystal',\n",
       "  'alive',\n",
       "  'light',\n",
       "  'voice',\n",
       "  'raised',\n",
       "  'song'],\n",
       " ['tully',\n",
       "  'kept',\n",
       "  'godswood',\n",
       "  'great',\n",
       "  'house',\n",
       "  'place',\n",
       "  'walk',\n",
       "  'read',\n",
       "  'lie',\n",
       "  'sun'],\n",
       " ['worship',\n",
       "  'sake',\n",
       "  'ned',\n",
       "  'built',\n",
       "  'small',\n",
       "  'sept',\n",
       "  'might',\n",
       "  'sing',\n",
       "  'seven',\n",
       "  'face',\n",
       "  'god',\n",
       "  'blood',\n",
       "  'first',\n",
       "  'men',\n",
       "  'still',\n",
       "  'flowed',\n",
       "  'vein',\n",
       "  'starks',\n",
       "  'god',\n",
       "  'old',\n",
       "  'one',\n",
       "  'nameless',\n",
       "  'faceless',\n",
       "  'god',\n",
       "  'greenwood',\n",
       "  'shared',\n",
       "  'vanished',\n",
       "  'child',\n",
       "  'forest'],\n",
       " ['center',\n",
       "  'grove',\n",
       "  'ancient',\n",
       "  'weirwood',\n",
       "  'brooded',\n",
       "  'small',\n",
       "  'pool',\n",
       "  'water',\n",
       "  'black',\n",
       "  'cold'],\n",
       " ['heart', 'tree', 'ned', 'called'],\n",
       " ['weirwood',\n",
       "  'bark',\n",
       "  'white',\n",
       "  'bone',\n",
       "  'leaf',\n",
       "  'dark',\n",
       "  'red',\n",
       "  'like',\n",
       "  'thousand',\n",
       "  'bloodstained',\n",
       "  'hand'],\n",
       " ['face',\n",
       "  'carved',\n",
       "  'trunk',\n",
       "  'great',\n",
       "  'tree',\n",
       "  'feature',\n",
       "  'long',\n",
       "  'melancholy',\n",
       "  'eye',\n",
       "  'red',\n",
       "  'dried',\n",
       "  'sap',\n",
       "  'strangely',\n",
       "  'watchful'],\n",
       " ['old', 'eye', 'older', 'winterfell'],\n",
       " ['seen',\n",
       "  'brandon',\n",
       "  'builder',\n",
       "  'set',\n",
       "  'first',\n",
       "  'stone',\n",
       "  'tale',\n",
       "  'true',\n",
       "  'watched',\n",
       "  'castle',\n",
       "  'granite',\n",
       "  'wall',\n",
       "  'rise',\n",
       "  'around'],\n",
       " ['said',\n",
       "  'child',\n",
       "  'forest',\n",
       "  'carved',\n",
       "  'face',\n",
       "  'tree',\n",
       "  'dawn',\n",
       "  'century',\n",
       "  'coming',\n",
       "  'first',\n",
       "  'men',\n",
       "  'across',\n",
       "  'narrow',\n",
       "  'sea'],\n",
       " ['south',\n",
       "  'last',\n",
       "  'weirwoods',\n",
       "  'cut',\n",
       "  'burned',\n",
       "  'thousand',\n",
       "  'year',\n",
       "  'ago',\n",
       "  'except',\n",
       "  'isle',\n",
       "  'face',\n",
       "  'green',\n",
       "  'men',\n",
       "  'kept',\n",
       "  'silent',\n",
       "  'watch'],\n",
       " ['different'],\n",
       " ['every',\n",
       "  'castle',\n",
       "  'godswood',\n",
       "  'every',\n",
       "  'godswood',\n",
       "  'heart',\n",
       "  'tree',\n",
       "  'every',\n",
       "  'heart',\n",
       "  'tree',\n",
       "  'face'],\n",
       " ['catelyn', 'found', 'husband', 'beneath', 'weirwood', 'seated', 'stone'],\n",
       " ['greatsword',\n",
       "  'ice',\n",
       "  'across',\n",
       "  'lap',\n",
       "  'cleaning',\n",
       "  'blade',\n",
       "  'water',\n",
       "  'black',\n",
       "  'night'],\n",
       " ['thousand',\n",
       "  'year',\n",
       "  'humus',\n",
       "  'lay',\n",
       "  'thick',\n",
       "  'upon',\n",
       "  'godswood',\n",
       "  'floor',\n",
       "  'swallowing',\n",
       "  'sound',\n",
       "  'foot',\n",
       "  'red',\n",
       "  'eye',\n",
       "  'weirwood',\n",
       "  'seemed',\n",
       "  'follow',\n",
       "  'came'],\n",
       " ['ned', 'called', 'softly'],\n",
       " ['lifted', 'head', 'look'],\n",
       " ['catelyn', 'said'],\n",
       " ['voice', 'distant', 'formal'],\n",
       " ['child'],\n",
       " ['would', 'always', 'ask'],\n",
       " ['kitchen', 'arguing', 'name', 'wolf', 'pup'],\n",
       " ['spread',\n",
       "  'cloak',\n",
       "  'forest',\n",
       "  'floor',\n",
       "  'sat',\n",
       "  'beside',\n",
       "  'pool',\n",
       "  'back',\n",
       "  'weirwood'],\n",
       " ['could', 'feel', 'eye', 'watching', 'best', 'ignore'],\n",
       " ['arya',\n",
       "  'already',\n",
       "  'love',\n",
       "  'sansa',\n",
       "  'charmed',\n",
       "  'gracious',\n",
       "  'rickon',\n",
       "  'quite',\n",
       "  'sure'],\n",
       " ['afraid'],\n",
       " ['ned', 'asked'],\n",
       " ['page', 'little', 'admitted'],\n",
       " ['three'],\n",
       " ['ned', 'frowned'],\n",
       " ['must', 'learn', 'face', 'fear'],\n",
       " ['three', 'forever'],\n",
       " ['winter', 'coming'],\n",
       " ['yes', 'catelyn', 'agreed'],\n",
       " ['word', 'gave', 'chill', 'always'],\n",
       " ['stark', 'word'],\n",
       " ['every', 'noble', 'house', 'word'],\n",
       " ['family',\n",
       "  'motto',\n",
       "  'touchstone',\n",
       "  'prayer',\n",
       "  'sort',\n",
       "  'boasted',\n",
       "  'honor',\n",
       "  'glory',\n",
       "  'promised',\n",
       "  'loyalty',\n",
       "  'truth',\n",
       "  'swore',\n",
       "  'faith',\n",
       "  'courage'],\n",
       " ['starks'],\n",
       " ['winter', 'coming', 'said', 'stark', 'word'],\n",
       " ['first', 'time', 'reflected', 'strange', 'people', 'northerner'],\n",
       " ['man', 'died', 'well', 'give', 'ned', 'said'],\n",
       " ['swatch', 'oiled', 'leather', 'one', 'hand'],\n",
       " ['ran',\n",
       "  'lightly',\n",
       "  'greatsword',\n",
       "  'spoke',\n",
       "  'polishing',\n",
       "  'metal',\n",
       "  'dark',\n",
       "  'glow'],\n",
       " ['glad', 'bran', 'sake'],\n",
       " ['would', 'proud', 'bran'],\n",
       " ['always',\n",
       "  'proud',\n",
       "  'bran',\n",
       "  'catelyn',\n",
       "  'replied',\n",
       "  'watching',\n",
       "  'sword',\n",
       "  'stroked'],\n",
       " ['could',\n",
       "  'see',\n",
       "  'rippling',\n",
       "  'deep',\n",
       "  'within',\n",
       "  'steel',\n",
       "  'metal',\n",
       "  'folded',\n",
       "  'back',\n",
       "  'hundred',\n",
       "  'time',\n",
       "  'forging'],\n",
       " ['catelyn', 'love', 'sword', 'could', 'deny', 'ice', 'beauty'],\n",
       " ['forged',\n",
       "  'valyria',\n",
       "  'doom',\n",
       "  'come',\n",
       "  'old',\n",
       "  'freehold',\n",
       "  'ironsmiths',\n",
       "  'worked',\n",
       "  'metal',\n",
       "  'spell',\n",
       "  'well',\n",
       "  'hammer'],\n",
       " ['four', 'hundred', 'year', 'old', 'sharp', 'day', 'forged'],\n",
       " ['name',\n",
       "  'bore',\n",
       "  'older',\n",
       "  'still',\n",
       "  'legacy',\n",
       "  'age',\n",
       "  'hero',\n",
       "  'starks',\n",
       "  'king',\n",
       "  'north'],\n",
       " ['fourth', 'year', 'ned', 'said', 'grimly'],\n",
       " ['poor', 'man'],\n",
       " ['something', 'put', 'fear', 'deep', 'word', 'could', 'reach'],\n",
       " ['sighed'],\n",
       " ['ben', 'writes', 'strength', 'night', 'watch', 'thousand'],\n",
       " ['desertion'],\n",
       " ['losing', 'men', 'rangings', 'well'],\n",
       " ['wildlings'],\n",
       " ['asked'],\n",
       " ['else'],\n",
       " ['ned', 'lifted', 'ice', 'looked', 'cool', 'steel', 'length'],\n",
       " ['grow', 'worse'],\n",
       " ['day',\n",
       "  'may',\n",
       "  'come',\n",
       "  'choice',\n",
       "  'call',\n",
       "  'banner',\n",
       "  'ride',\n",
       "  'north',\n",
       "  'deal',\n",
       "  'good'],\n",
       " ['beyond', 'wall'],\n",
       " ['thought', 'made', 'catelyn', 'shudder'],\n",
       " ['ned', 'saw', 'dread', 'face'],\n",
       " ['mance', 'rayder', 'nothing', 'u', 'fear'],\n",
       " ['darker', 'thing', 'beyond', 'wall'],\n",
       " ['glanced',\n",
       "  'behind',\n",
       "  'heart',\n",
       "  'tree',\n",
       "  'pale',\n",
       "  'bark',\n",
       "  'red',\n",
       "  'eye',\n",
       "  'watching',\n",
       "  'listening',\n",
       "  'thinking',\n",
       "  'long',\n",
       "  'slow',\n",
       "  'thought'],\n",
       " ['smile', 'gentle'],\n",
       " ['listen', 'many', 'old', 'nan', 'story'],\n",
       " ['others', 'dead', 'child', 'forest', 'gone', 'eight', 'thousand', 'year'],\n",
       " ['maester', 'luwin', 'tell', 'never', 'lived'],\n",
       " ['living', 'man', 'ever', 'seen', 'one'],\n",
       " ['morning',\n",
       "  'living',\n",
       "  'man',\n",
       "  'ever',\n",
       "  'seen',\n",
       "  'direwolf',\n",
       "  'either',\n",
       "  'catelyn',\n",
       "  'reminded'],\n",
       " ['ought', 'know', 'better', 'argue', 'tully', 'said', 'rueful', 'smile'],\n",
       " ['slid', 'ice', 'back', 'sheath'],\n",
       " ['come', 'tell', 'crib', 'tale'],\n",
       " ['know', 'little', 'like', 'place'],\n",
       " ['lady'],\n",
       " ['catelyn', 'took', 'husband', 'hand'],\n",
       " ['grievous', 'news', 'today', 'lord'],\n",
       " ['wish', 'trouble', 'cleansed'],\n",
       " ['way', 'soften', 'blow', 'told', 'straight'],\n",
       " ['page', 'sorry', 'love'],\n",
       " ['jon', 'arryn', 'dead'],\n",
       " ['eye', 'found', 'could', 'see', 'hard', 'took', 'known', 'would'],\n",
       " ['youth',\n",
       "  'ned',\n",
       "  'fostered',\n",
       "  'eyrie',\n",
       "  'childless',\n",
       "  'lord',\n",
       "  'arryn',\n",
       "  'become',\n",
       "  'second',\n",
       "  'father',\n",
       "  'fellow',\n",
       "  'ward',\n",
       "  'robert',\n",
       "  'baratheon'],\n",
       " ['mad',\n",
       "  'king',\n",
       "  'aery',\n",
       "  'targaryen',\n",
       "  'demanded',\n",
       "  'head',\n",
       "  'lord',\n",
       "  'eyrie',\n",
       "  'raised',\n",
       "  'banner',\n",
       "  'revolt',\n",
       "  'rather',\n",
       "  'give',\n",
       "  'pledged',\n",
       "  'protect'],\n",
       " ['one',\n",
       "  'day',\n",
       "  'fifteen',\n",
       "  'year',\n",
       "  'ago',\n",
       "  'second',\n",
       "  'father',\n",
       "  'become',\n",
       "  'brother',\n",
       "  'well',\n",
       "  'ned',\n",
       "  'stood',\n",
       "  'together',\n",
       "  'sept',\n",
       "  'riverrun',\n",
       "  'wed',\n",
       "  'two',\n",
       "  'sister',\n",
       "  'daughter',\n",
       "  'lord',\n",
       "  'hoster',\n",
       "  'tully'],\n",
       " ['jon'],\n",
       " ['said'],\n",
       " ['news', 'certain'],\n",
       " ['king', 'seal', 'letter', 'robert', 'hand'],\n",
       " ['saved'],\n",
       " ['said', 'lord', 'arryn', 'taken', 'quickly'],\n",
       " ['even',\n",
       "  'maester',\n",
       "  'pycelle',\n",
       "  'helpless',\n",
       "  'brought',\n",
       "  'milk',\n",
       "  'poppy',\n",
       "  'jon',\n",
       "  'linger',\n",
       "  'long',\n",
       "  'pain'],\n",
       " ['small', 'mercy', 'suppose', 'said'],\n",
       " ['could', 'see', 'grief', 'face', 'even', 'thought', 'first'],\n",
       " ['sister', 'said'],\n",
       " ['jon', 'boy'],\n",
       " ['word'],\n",
       " ['message', 'said', 'well', 'returned', 'eyrie', 'catelyn', 'said'],\n",
       " ['wish', 'gone', 'riverrun', 'instead'],\n",
       " ['eyrie', 'high', 'lonely', 'ever', 'husband', 'place'],\n",
       " ['lord', 'jon', 'memory', 'haunt', 'stone'],\n",
       " ['know', 'sister'],\n",
       " ['need', 'comfort', 'family', 'friend', 'around'],\n",
       " ['uncle', 'wait', 'vale'],\n",
       " ['jon', 'named', 'knight', 'gate', 'heard'],\n",
       " ['catelyn', 'nodded'],\n",
       " ['brynden', 'boy'],\n",
       " ['comfort', 'still'],\n",
       " ['go', 'ned', 'urged'],\n",
       " ['take', 'child'],\n",
       " ['fill', 'hall', 'noise', 'shout', 'laughter'],\n",
       " ['boy', 'need', 'child', 'lysa', 'alone', 'grief'],\n",
       " ['would', 'could', 'catelyn', 'said'],\n",
       " ['letter', 'tidings'],\n",
       " ['king', 'riding', 'winterfell', 'seek'],\n",
       " ['took',\n",
       "  'ned',\n",
       "  'moment',\n",
       "  'comprehend',\n",
       "  'word',\n",
       "  'understanding',\n",
       "  'came',\n",
       "  'darkness',\n",
       "  'left',\n",
       "  'eye'],\n",
       " ['robert', 'coming'],\n",
       " ['nodded', 'smile', 'broke', 'across', 'face'],\n",
       " ['catelyn', 'wished', 'could', 'share', 'joy'],\n",
       " ['heard',\n",
       "  'talk',\n",
       "  'yard',\n",
       "  'direwolf',\n",
       "  'dead',\n",
       "  'snow',\n",
       "  'broken',\n",
       "  'antler',\n",
       "  'throat'],\n",
       " ['dread',\n",
       "  'coiled',\n",
       "  'within',\n",
       "  'like',\n",
       "  'snake',\n",
       "  'forced',\n",
       "  'smile',\n",
       "  'man',\n",
       "  'loved',\n",
       "  'man',\n",
       "  'put',\n",
       "  'faith',\n",
       "  'sign'],\n",
       " ['knew', 'would', 'please', 'said'],\n",
       " ['send', 'word', 'brother', 'wall'],\n",
       " ['yes', 'course', 'agreed'],\n",
       " ['ben', 'want'],\n",
       " ['shall', 'tell', 'maester', 'luwin', 'send', 'swiftest', 'bird'],\n",
       " ['ned', 'rose', 'pulled', 'foot'],\n",
       " ['damnation', 'many', 'year'],\n",
       " ['give', 'u', 'notice'],\n",
       " ['many', 'party', 'message', 'say'],\n",
       " ['think',\n",
       "  'hundred',\n",
       "  'knight',\n",
       "  'least',\n",
       "  'retainer',\n",
       "  'half',\n",
       "  'many',\n",
       "  'freeriders'],\n",
       " ['page', 'cersei', 'child', 'travel'],\n",
       " ['robert', 'keep', 'easy', 'pace', 'sake', 'said'],\n",
       " ['well'],\n",
       " ['give', 'u', 'time', 'prepare'],\n",
       " ['queen', 'brother', 'also', 'party', 'told'],\n",
       " ['ned', 'grimaced'],\n",
       " ['small', 'love', 'queen', 'family', 'catelyn', 'knew'],\n",
       " ['lannisters',\n",
       "  'casterly',\n",
       "  'rock',\n",
       "  'come',\n",
       "  'late',\n",
       "  'robert',\n",
       "  'cause',\n",
       "  'victory',\n",
       "  'certain',\n",
       "  'never',\n",
       "  'forgiven'],\n",
       " ['well', 'price', 'robert', 'company', 'infestation', 'lannisters'],\n",
       " ['sound', 'though', 'robert', 'bringing', 'half', 'court'],\n",
       " ['king', 'go', 'realm', 'follows', 'said'],\n",
       " ['good', 'see', 'child'],\n",
       " ['youngest',\n",
       "  'still',\n",
       "  'sucking',\n",
       "  'lannister',\n",
       "  'woman',\n",
       "  'teat',\n",
       "  'last',\n",
       "  'time',\n",
       "  'saw'],\n",
       " ['must', 'five'],\n",
       " ['prince', 'tornmen', 'seven', 'told'],\n",
       " ['age', 'bran'],\n",
       " ['please', 'ned', 'guard', 'tongue'],\n",
       " ['lannister',\n",
       "  'woman',\n",
       "  'queen',\n",
       "  'pride',\n",
       "  'said',\n",
       "  'grow',\n",
       "  'every',\n",
       "  'passing',\n",
       "  'year'],\n",
       " ['ned', 'squeezed', 'hand'],\n",
       " ['must', 'feast', 'course', 'singer', 'robert', 'want', 'hunt'],\n",
       " ['shall',\n",
       "  'send',\n",
       "  'jory',\n",
       "  'south',\n",
       "  'honor',\n",
       "  'guard',\n",
       "  'meet',\n",
       "  'kingsroad',\n",
       "  'escort',\n",
       "  'back'],\n",
       " ['god', 'going', 'feed'],\n",
       " ['way', 'already', 'said'],\n",
       " ['damn', 'man'],\n",
       " ['damn', 'royal', 'hide'],\n",
       " ['daenerys', 'brother', 'held', 'gown', 'inspection'],\n",
       " ['beauty'],\n",
       " ['touch'],\n",
       " ['go'],\n",
       " ['caress', 'fabric'],\n",
       " ['dany', 'touched'],\n",
       " ['cloth', 'smooth', 'seemed', 'run', 'finger', 'like', 'water'],\n",
       " ['could', 'remember', 'ever', 'wearing', 'anything', 'soft'],\n",
       " ['frightened'],\n",
       " ['pulled', 'hand', 'away'],\n",
       " ['really', 'mine'],\n",
       " ['gift', 'magister', 'illyrio', 'viserys', 'said', 'smiling'],\n",
       " ['brother', 'high', 'mood', 'tonight'],\n",
       " ['color', 'bring', 'violet', 'eye'],\n",
       " ['shall', 'gold', 'well', 'jewel', 'sort'],\n",
       " ['illyrio', 'promised'],\n",
       " ['tonight', 'must', 'look', 'like', 'princess'],\n",
       " ['princess', 'dany', 'thought'],\n",
       " ['forgotten', 'like'],\n",
       " ['perhaps', 'never', 'really', 'known'],\n",
       " ['give', 'u', 'much'],\n",
       " ['asked'],\n",
       " ['want', 'u'],\n",
       " ['nigh',\n",
       "  'half',\n",
       "  'year',\n",
       "  'lived',\n",
       "  'magister',\n",
       "  'house',\n",
       "  'eating',\n",
       "  'food',\n",
       "  'pampered',\n",
       "  'servant'],\n",
       " ['dany',\n",
       "  'thirteen',\n",
       "  'old',\n",
       "  'enough',\n",
       "  'know',\n",
       "  'gift',\n",
       "  'seldom',\n",
       "  'come',\n",
       "  'without',\n",
       "  'price',\n",
       "  'free',\n",
       "  'city',\n",
       "  'pentos'],\n",
       " ['illyrio', 'fool', 'viserys', 'said'],\n",
       " ['gaunt',\n",
       "  'young',\n",
       "  'man',\n",
       "  'nervous',\n",
       "  'hand',\n",
       "  'feverish',\n",
       "  'look',\n",
       "  'pale',\n",
       "  'lilac',\n",
       "  'eye'],\n",
       " ['magister', 'know', 'forget', 'friend', 'come', 'throne'],\n",
       " ['dany', 'said', 'nothing'],\n",
       " ['magister',\n",
       "  'illyrio',\n",
       "  'dealer',\n",
       "  'spice',\n",
       "  'gemstone',\n",
       "  'dragonbone',\n",
       "  'le',\n",
       "  'savory',\n",
       "  'thing'],\n",
       " ['friend',\n",
       "  'nine',\n",
       "  'free',\n",
       "  'city',\n",
       "  'said',\n",
       "  'even',\n",
       "  'beyond',\n",
       "  'vaes',\n",
       "  'dothrak',\n",
       "  'fabled',\n",
       "  'land',\n",
       "  'beside',\n",
       "  'jade',\n",
       "  'sea'],\n",
       " ['also',\n",
       "  'said',\n",
       "  'never',\n",
       "  'friend',\n",
       "  'would',\n",
       "  'page',\n",
       "  'cheerfully',\n",
       "  'sell',\n",
       "  'right',\n",
       "  'price'],\n",
       " ['dany',\n",
       "  'listened',\n",
       "  'talk',\n",
       "  'street',\n",
       "  'heard',\n",
       "  'thing',\n",
       "  'knew',\n",
       "  'better',\n",
       "  'question',\n",
       "  'brother',\n",
       "  'wove',\n",
       "  'web',\n",
       "  'dream'],\n",
       " ['anger', 'terrible', 'thing', 'roused'],\n",
       " ['viserys', 'called', 'waking', 'dragon'],\n",
       " ['brother', 'hung', 'gown', 'beside', 'door'],\n",
       " ['illyrio', 'send', 'slave', 'bathe'],\n",
       " ['sure', 'wash', 'stink', 'stable'],\n",
       " ['khal',\n",
       "  'drogo',\n",
       "  'thousand',\n",
       "  'horse',\n",
       "  'tonight',\n",
       "  'look',\n",
       "  'different',\n",
       "  'sort',\n",
       "  'mount'],\n",
       " ['studied', 'critically'],\n",
       " ['still', 'slouch'],\n",
       " ['straighten', 'pushed', 'back', 'shoulder', 'hand'],\n",
       " ['let', 'see', 'woman', 'shape'],\n",
       " ['finger', 'brushed', 'lightly', 'budding', 'breast', 'tightened', 'nipple'],\n",
       " ['fail', 'tonight'],\n",
       " ['go', 'hard'],\n",
       " ['want', 'wake', 'dragon'],\n",
       " ['finger', 'twisted', 'pinch', 'cruelly', 'hard', 'rough', 'fabric', 'tunic'],\n",
       " ['repeated'],\n",
       " ['dany', 'said', 'meekly'],\n",
       " ['brother', 'smiled'],\n",
       " ['good'],\n",
       " ['touched', 'hair', 'almost', 'affection'],\n",
       " ['write', 'history', 'reign', 'sweet', 'sister', 'say', 'began', 'tonight'],\n",
       " ['gone', 'dany', 'went', 'window', 'looked', 'wistfully', 'water', 'bay'],\n",
       " ['square',\n",
       "  'brick',\n",
       "  'tower',\n",
       "  'pentos',\n",
       "  'black',\n",
       "  'silhouette',\n",
       "  'outlined',\n",
       "  'setting',\n",
       "  'sun'],\n",
       " ['dany',\n",
       "  'could',\n",
       "  'hear',\n",
       "  'singing',\n",
       "  'red',\n",
       "  'priest',\n",
       "  'lit',\n",
       "  'night',\n",
       "  'fire',\n",
       "  'shout',\n",
       "  'ragged',\n",
       "  'child',\n",
       "  'playing',\n",
       "  'game',\n",
       "  'beyond',\n",
       "  'wall',\n",
       "  'estate'],\n",
       " ['moment',\n",
       "  'wished',\n",
       "  'could',\n",
       "  'barefoot',\n",
       "  'breathless',\n",
       "  'dressed',\n",
       "  'tatter',\n",
       "  'past',\n",
       "  'future',\n",
       "  'feast',\n",
       "  'attend',\n",
       "  'khal',\n",
       "  'drogo',\n",
       "  'manse'],\n",
       " ['somewhere',\n",
       "  'beyond',\n",
       "  'sunset',\n",
       "  'across',\n",
       "  'narrow',\n",
       "  'sea',\n",
       "  'lay',\n",
       "  'land',\n",
       "  'green',\n",
       "  'hill',\n",
       "  'flowered',\n",
       "  'plain',\n",
       "  'great',\n",
       "  'rushing',\n",
       "  'river',\n",
       "  'tower',\n",
       "  'dark',\n",
       "  'stone',\n",
       "  'rose',\n",
       "  'amidst',\n",
       "  'magnificent',\n",
       "  'mountain',\n",
       "  'armored',\n",
       "  'knight',\n",
       "  'rode',\n",
       "  'battle',\n",
       "  'beneath',\n",
       "  'banner',\n",
       "  'lord'],\n",
       " ['dothraki', 'called', 'land', 'rhaesh', 'andahli', 'land', 'andals'],\n",
       " ['free', 'city', 'talked', 'westeros', 'sunset', 'kingdom'],\n",
       " ['brother', 'simpler', 'name'],\n",
       " ['land', 'called'],\n",
       " ['word', 'like', 'prayer'],\n",
       " ['said', 'enough', 'god', 'sure', 'hear'],\n",
       " ['blood', 'right', 'taken', 'u', 'treachery', 'still', 'forever'],\n",
       " ['steal', 'dragon', 'oh'],\n",
       " ['dragon', 'remembers'],\n",
       " ['perhaps', 'dragon', 'remember', 'dany', 'could'],\n",
       " ['never',\n",
       "  'seen',\n",
       "  'land',\n",
       "  'brother',\n",
       "  'said',\n",
       "  'realm',\n",
       "  'beyond',\n",
       "  'narrow',\n",
       "  'sea'],\n",
       " ['place',\n",
       "  'talked',\n",
       "  'casterly',\n",
       "  'rock',\n",
       "  'eyrie',\n",
       "  'highgarden',\n",
       "  'vale',\n",
       "  'arryn',\n",
       "  'dorne',\n",
       "  'isle',\n",
       "  'face',\n",
       "  'word'],\n",
       " ['viserys',\n",
       "  'boy',\n",
       "  'eight',\n",
       "  'fled',\n",
       "  'king',\n",
       "  'landing',\n",
       "  'escape',\n",
       "  'advancing',\n",
       "  'army',\n",
       "  'usurper',\n",
       "  'daenerys',\n",
       "  'quickening',\n",
       "  'mother',\n",
       "  'womb'],\n",
       " ['yet',\n",
       "  'sometimes',\n",
       "  'dany',\n",
       "  'would',\n",
       "  'picture',\n",
       "  'way',\n",
       "  'often',\n",
       "  'brother',\n",
       "  'told',\n",
       "  'story'],\n",
       " ['midnight',\n",
       "  'flight',\n",
       "  'dragonstone',\n",
       "  'moonlight',\n",
       "  'shimmering',\n",
       "  'ship',\n",
       "  'black',\n",
       "  'sail'],\n",
       " ['brother',\n",
       "  'rhaegar',\n",
       "  'battling',\n",
       "  'usurper',\n",
       "  'bloody',\n",
       "  'water',\n",
       "  'trident',\n",
       "  'dying',\n",
       "  'woman',\n",
       "  'loved'],\n",
       " ['sack',\n",
       "  'king',\n",
       "  'landing',\n",
       "  'one',\n",
       "  'viserys',\n",
       "  'called',\n",
       "  'usurper',\n",
       "  'dog',\n",
       "  'lord',\n",
       "  'lannister',\n",
       "  'stark'],\n",
       " ['princess',\n",
       "  'elia',\n",
       "  'dorne',\n",
       "  'pleading',\n",
       "  'mercy',\n",
       "  'rhaegar',\n",
       "  'heir',\n",
       "  'ripped',\n",
       "  'breast',\n",
       "  'murdered',\n",
       "  'eye'],\n",
       " ['polished',\n",
       "  'skull',\n",
       "  'last',\n",
       "  'dragon',\n",
       "  'staring',\n",
       "  'sightlessly',\n",
       "  'wall',\n",
       "  'throne',\n",
       "  'room',\n",
       "  'kingslayer',\n",
       "  'opened',\n",
       "  'father',\n",
       "  'throat',\n",
       "  'golden',\n",
       "  'sword'],\n",
       " ['born',\n",
       "  'dragonstone',\n",
       "  'nine',\n",
       "  'moon',\n",
       "  'flight',\n",
       "  'raging',\n",
       "  'summer',\n",
       "  'storm',\n",
       "  'threatened',\n",
       "  'rip',\n",
       "  'island',\n",
       "  'fastness',\n",
       "  'apart'],\n",
       " ['said', 'storm', 'terrible'],\n",
       " ['targaryen',\n",
       "  'fleet',\n",
       "  'smashed',\n",
       "  'lay',\n",
       "  'anchor',\n",
       "  'huge',\n",
       "  'stone',\n",
       "  'block',\n",
       "  'ripped',\n",
       "  'parapet',\n",
       "  'sent',\n",
       "  'hurtling',\n",
       "  'wild',\n",
       "  'water',\n",
       "  'narrow',\n",
       "  'sea'],\n",
       " ['mother',\n",
       "  'died',\n",
       "  'birthing',\n",
       "  'brother',\n",
       "  'viserys',\n",
       "  'never',\n",
       "  'page',\n",
       "  'forgiven'],\n",
       " ['remember', 'dragonstone', 'either'],\n",
       " ['run', 'usurper', 'brother', 'set', 'sail', 'fleet'],\n",
       " ['dragonstone', 'ancient', 'seat', 'house', 'remained', 'seven', 'kingdom'],\n",
       " ['would', 'remain', 'long'],\n",
       " ['garrison',\n",
       "  'prepared',\n",
       "  'sell',\n",
       "  'usurper',\n",
       "  'one',\n",
       "  'night',\n",
       "  'ser',\n",
       "  'willem',\n",
       "  'darry',\n",
       "  'four',\n",
       "  'loyal',\n",
       "  'men',\n",
       "  'broken',\n",
       "  'nursery',\n",
       "  'stolen',\n",
       "  'along',\n",
       "  'wet',\n",
       "  'nurse',\n",
       "  'set',\n",
       "  'sail',\n",
       "  'cover',\n",
       "  'darkness',\n",
       "  'safety',\n",
       "  'braavosian',\n",
       "  'coast'],\n",
       " ['remembered',\n",
       "  'ser',\n",
       "  'willem',\n",
       "  'dimly',\n",
       "  'great',\n",
       "  'grey',\n",
       "  'bear',\n",
       "  'man',\n",
       "  'halfblind',\n",
       "  'roaring',\n",
       "  'bellowing',\n",
       "  'order',\n",
       "  'sickbed'],\n",
       " ['servant', 'lived', 'terror', 'always', 'kind', 'dany'],\n",
       " ['called',\n",
       "  'little',\n",
       "  'princess',\n",
       "  'sometimes',\n",
       "  'lady',\n",
       "  'hand',\n",
       "  'soft',\n",
       "  'old',\n",
       "  'leather'],\n",
       " ['never',\n",
       "  'left',\n",
       "  'bed',\n",
       "  'though',\n",
       "  'smell',\n",
       "  'sickness',\n",
       "  'clung',\n",
       "  'day',\n",
       "  'night',\n",
       "  'hot',\n",
       "  'moist',\n",
       "  'sickly',\n",
       "  'sweet',\n",
       "  'odor'],\n",
       " ['lived', 'braavos', 'big', 'house', 'red', 'door'],\n",
       " ['dany', 'room', 'lemon', 'tree', 'outside', 'window'],\n",
       " ['ser',\n",
       "  'willem',\n",
       "  'died',\n",
       "  'servant',\n",
       "  'stolen',\n",
       "  'little',\n",
       "  'money',\n",
       "  'left',\n",
       "  'soon',\n",
       "  'put',\n",
       "  'big',\n",
       "  'house'],\n",
       " ['dany', 'cried', 'red', 'door', 'closed', 'behind', 'forever'],\n",
       " ['wandered',\n",
       "  'since',\n",
       "  'braavos',\n",
       "  'myr',\n",
       "  'myr',\n",
       "  'tyrosh',\n",
       "  'qohor',\n",
       "  'volantis',\n",
       "  'lys',\n",
       "  'never',\n",
       "  'staying',\n",
       "  'long',\n",
       "  'one',\n",
       "  'place'],\n",
       " ['brother', 'would', 'allow'],\n",
       " ['usurper',\n",
       "  'hired',\n",
       "  'knife',\n",
       "  'close',\n",
       "  'behind',\n",
       "  'insisted',\n",
       "  'though',\n",
       "  'dany',\n",
       "  'never',\n",
       "  'seen',\n",
       "  'one'],\n",
       " ['first',\n",
       "  'magisters',\n",
       "  'archons',\n",
       "  'merchant',\n",
       "  'prince',\n",
       "  'pleased',\n",
       "  'welcome',\n",
       "  'last',\n",
       "  'targaryens',\n",
       "  'home',\n",
       "  'table',\n",
       "  'year',\n",
       "  'passed',\n",
       "  'usurper',\n",
       "  'continued',\n",
       "  'sit',\n",
       "  'upon',\n",
       "  'iron',\n",
       "  'throne',\n",
       "  'door',\n",
       "  'closed',\n",
       "  'life',\n",
       "  'grew',\n",
       "  'meaner'],\n",
       " ['year',\n",
       "  'past',\n",
       "  'forced',\n",
       "  'sell',\n",
       "  'last',\n",
       "  'treasure',\n",
       "  'even',\n",
       "  'coin',\n",
       "  'gotten',\n",
       "  'mother',\n",
       "  'crown',\n",
       "  'gone'],\n",
       " ['alley', 'wine', 'sink', 'pentos', 'called', 'brother', 'beggar', 'king'],\n",
       " ['dany', 'want', 'know', 'called'],\n",
       " ['back', 'someday', 'sweet', 'sister', 'would', 'promise'],\n",
       " ['sometimes', 'hand', 'shook', 'talked'],\n",
       " ['jewel',\n",
       "  'silk',\n",
       "  'dragonstone',\n",
       "  'king',\n",
       "  'landing',\n",
       "  'iron',\n",
       "  'throne',\n",
       "  'seven',\n",
       "  'kingdom',\n",
       "  'taken',\n",
       "  'u',\n",
       "  'back'],\n",
       " ['viserys', 'lived', 'day'],\n",
       " ['daenerys',\n",
       "  'wanted',\n",
       "  'back',\n",
       "  'big',\n",
       "  'house',\n",
       "  'red',\n",
       "  'door',\n",
       "  'lemon',\n",
       "  'tree',\n",
       "  'outside',\n",
       "  'window',\n",
       "  'childhood',\n",
       "  'never',\n",
       "  'known'],\n",
       " ['came', 'soft', 'knock', 'door'],\n",
       " ['come', 'dany', 'said', 'turning', 'away', 'window'],\n",
       " ['illyrio', 'servant', 'entered', 'bowed', 'set', 'business'],\n",
       " ['slave', 'gift', 'one', 'magister', 'many', 'dothraki', 'friend'],\n",
       " ['slavery', 'free', 'city', 'pentos'],\n",
       " ['nonetheless', 'slave'],\n",
       " ['old',\n",
       "  'woman',\n",
       "  'small',\n",
       "  'grey',\n",
       "  'mouse',\n",
       "  'never',\n",
       "  'said',\n",
       "  'word',\n",
       "  'girl',\n",
       "  'made'],\n",
       " ['illyrio',\n",
       "  'favorite',\n",
       "  'wench',\n",
       "  'sixteen',\n",
       "  'chattered',\n",
       "  'constantly',\n",
       "  'worked'],\n",
       " ['filled',\n",
       "  'bath',\n",
       "  'hot',\n",
       "  'water',\n",
       "  'brought',\n",
       "  'kitchen',\n",
       "  'scented',\n",
       "  'fragrant',\n",
       "  'oil'],\n",
       " ['girl',\n",
       "  'pulled',\n",
       "  'rough',\n",
       "  'cotton',\n",
       "  'tunic',\n",
       "  'dany',\n",
       "  'head',\n",
       "  'helped',\n",
       "  'tub'],\n",
       " ['water', 'scalding', 'hot', 'daenerys', 'flinch', 'cry'],\n",
       " ['liked', 'heat'],\n",
       " ['made', 'feel', 'clean'],\n",
       " ['besides', 'brother', 'often', 'told', 'never', 'hot', 'targaryen'],\n",
       " ['house', 'dragon', 'would', 'say'],\n",
       " ['fire', 'blood'],\n",
       " ['old',\n",
       "  'woman',\n",
       "  'washed',\n",
       "  'long',\n",
       "  'hair',\n",
       "  'gently',\n",
       "  'combed',\n",
       "  'snag',\n",
       "  'silence'],\n",
       " ['girl', 'scrubbed', 'back', 'foot', 'told', 'lucky'],\n",
       " ['drogo', 'rich', 'even', 'slave', 'page', 'wear', 'golden', 'collar'],\n",
       " ['hundred',\n",
       "  'thousand',\n",
       "  'men',\n",
       "  'ride',\n",
       "  'khalasar',\n",
       "  'palace',\n",
       "  'vaes',\n",
       "  'dothrak',\n",
       "  'two',\n",
       "  'hundred',\n",
       "  'room',\n",
       "  'door',\n",
       "  'solid',\n",
       "  'silver'],\n",
       " ['like',\n",
       "  'much',\n",
       "  'handsome',\n",
       "  'man',\n",
       "  'khal',\n",
       "  'tall',\n",
       "  'fierce',\n",
       "  'fearless',\n",
       "  'battle',\n",
       "  'best',\n",
       "  'rider',\n",
       "  'ever',\n",
       "  'mount',\n",
       "  'horse',\n",
       "  'demon',\n",
       "  'archer'],\n",
       " ['daenerys', 'said', 'nothing'],\n",
       " ['always', 'assumed', 'would', 'wed', 'viserys', 'came', 'age'],\n",
       " ['century',\n",
       "  'targaryens',\n",
       "  'married',\n",
       "  'brother',\n",
       "  'sister',\n",
       "  'since',\n",
       "  'aegon',\n",
       "  'conqueror',\n",
       "  'taken',\n",
       "  'sister',\n",
       "  'bride'],\n",
       " ['line',\n",
       "  'must',\n",
       "  'kept',\n",
       "  'pure',\n",
       "  'viserys',\n",
       "  'told',\n",
       "  'thousand',\n",
       "  'time',\n",
       "  'kingsblood',\n",
       "  'golden',\n",
       "  'blood',\n",
       "  'old',\n",
       "  'valyria',\n",
       "  'blood',\n",
       "  'dragon'],\n",
       " ['dragon',\n",
       "  'mate',\n",
       "  'beast',\n",
       "  'field',\n",
       "  'targaryens',\n",
       "  'mingle',\n",
       "  'blood',\n",
       "  'lesser',\n",
       "  'men'],\n",
       " ['yet', 'viserys', 'schemed', 'sell', 'stranger', 'barbarian'],\n",
       " ['clean', 'slave', 'helped', 'water', 'toweled', 'dry'],\n",
       " ['girl',\n",
       "  'brushed',\n",
       "  'hair',\n",
       "  'shone',\n",
       "  'like',\n",
       "  'molten',\n",
       "  'silver',\n",
       "  'old',\n",
       "  'woman',\n",
       "  'anointed',\n",
       "  'spiceflower',\n",
       "  'perfume',\n",
       "  'dothraki',\n",
       "  'plain',\n",
       "  'dab',\n",
       "  'wrist',\n",
       "  'behind',\n",
       "  'ear',\n",
       "  'tip',\n",
       "  'breast',\n",
       "  'one',\n",
       "  'last',\n",
       "  'one',\n",
       "  'cool',\n",
       "  'lip',\n",
       "  'leg'],\n",
       " ['dressed',\n",
       "  'wisp',\n",
       "  'magister',\n",
       "  'illyrio',\n",
       "  'sent',\n",
       "  'gown',\n",
       "  'deep',\n",
       "  'plum',\n",
       "  'silk',\n",
       "  'bring',\n",
       "  'violet',\n",
       "  'eye'],\n",
       " ['girl',\n",
       "  'slid',\n",
       "  'gilded',\n",
       "  'sandal',\n",
       "  'onto',\n",
       "  'foot',\n",
       "  'old',\n",
       "  'woman',\n",
       "  'fixed',\n",
       "  'tiara',\n",
       "  'hair',\n",
       "  'slid',\n",
       "  'golden',\n",
       "  'bracelet',\n",
       "  'crusted',\n",
       "  'amethyst',\n",
       "  'around',\n",
       "  'wrist'],\n",
       " ['last',\n",
       "  'came',\n",
       "  'collar',\n",
       "  'heavy',\n",
       "  'golden',\n",
       "  'tore',\n",
       "  'emblazoned',\n",
       "  'ancient',\n",
       "  'valyrian',\n",
       "  'glyph'],\n",
       " ['look', 'princess', 'girl', 'said', 'breathlessly', 'done'],\n",
       " ['dany',\n",
       "  'glanced',\n",
       "  'image',\n",
       "  'silvered',\n",
       "  'looking',\n",
       "  'glass',\n",
       "  'illyrio',\n",
       "  'thoughtfully',\n",
       "  'provided'],\n",
       " ['princess',\n",
       "  'thought',\n",
       "  'remembered',\n",
       "  'girl',\n",
       "  'said',\n",
       "  'khal',\n",
       "  'drogo',\n",
       "  'rich',\n",
       "  'even',\n",
       "  'slave',\n",
       "  'wore',\n",
       "  'golden',\n",
       "  'collar'],\n",
       " ['felt', 'sudden', 'chill', 'gooseflesh', 'pimpled', 'bare', 'arm'],\n",
       " ['brother',\n",
       "  'waiting',\n",
       "  'cool',\n",
       "  'entry',\n",
       "  'hall',\n",
       "  'seated',\n",
       "  'edge',\n",
       "  'pool',\n",
       "  'hand',\n",
       "  'trailing',\n",
       "  'water'],\n",
       " ['rose', 'appeared', 'looked', 'critically'],\n",
       " ['stand', 'told'],\n",
       " ['turn', 'around'],\n",
       " ['yes'],\n",
       " ['good'],\n",
       " ['look'],\n",
       " ['regal', 'magister', 'illyrio', 'said', 'stepping', 'archway'],\n",
       " ['moved', 'surprising', 'delicacy', 'massive', 'man'],\n",
       " ['beneath', 'loose', 'garment', 'silk', 'roll', 'fat', 'jiggled', 'walked'],\n",
       " ['gemstone',\n",
       "  'glittered',\n",
       "  'every',\n",
       "  'finger',\n",
       "  'man',\n",
       "  'oiled',\n",
       "  'forked',\n",
       "  'yellow',\n",
       "  'beard',\n",
       "  'shone',\n",
       "  'like',\n",
       "  'real',\n",
       "  'gold'],\n",
       " ['may',\n",
       "  'lord',\n",
       "  'light',\n",
       "  'shower',\n",
       "  'blessing',\n",
       "  'fortunate',\n",
       "  'day',\n",
       "  'princess',\n",
       "  'daenerys',\n",
       "  'magister',\n",
       "  'said',\n",
       "  'took',\n",
       "  'hand'],\n",
       " ['bowed',\n",
       "  'head',\n",
       "  'showing',\n",
       "  'thin',\n",
       "  'glimpse',\n",
       "  'crooked',\n",
       "  'yellow',\n",
       "  'teeth',\n",
       "  'gold',\n",
       "  'beard'],\n",
       " ...]"
      ]
     },
     "execution_count": 37,
     "metadata": {},
     "output_type": "execute_result"
    }
   ],
   "source": [
    "story"
   ]
  },
  {
   "cell_type": "code",
   "execution_count": 38,
   "id": "56e82e5f",
   "metadata": {},
   "outputs": [],
   "source": [
    "model = gensim.models.Word2Vec( vector_size = 300, workers = 4, \n",
    "    window=10,\n",
    "    min_count=2\n",
    ")"
   ]
  },
  {
   "cell_type": "code",
   "execution_count": 39,
   "id": "dd99ef10",
   "metadata": {},
   "outputs": [],
   "source": [
    "model.build_vocab(story)"
   ]
  },
  {
   "cell_type": "code",
   "execution_count": 40,
   "id": "f51fb739",
   "metadata": {},
   "outputs": [
    {
     "data": {
      "text/plain": [
       "(4348885, 4543790)"
      ]
     },
     "execution_count": 40,
     "metadata": {},
     "output_type": "execute_result"
    }
   ],
   "source": [
    "model.train(story, total_examples=model.corpus_count, epochs=model.epochs)"
   ]
  },
  {
   "cell_type": "code",
   "execution_count": 41,
   "id": "073e6f4e",
   "metadata": {},
   "outputs": [
    {
     "data": {
      "text/plain": [
       "[('stormborn', 0.882585346698761),\n",
       " ('unburnt', 0.8575162887573242),\n",
       " ('dowager', 0.8175472617149353),\n",
       " ('targaryen', 0.8149791359901428),\n",
       " ('mellario', 0.8123872876167297),\n",
       " ('rhaegar', 0.8051071763038635),\n",
       " ('regent', 0.7956405282020569),\n",
       " ('elia', 0.7947189211845398),\n",
       " ('doran', 0.7931036353111267),\n",
       " ('unworthy', 0.7838451266288757)]"
      ]
     },
     "execution_count": 41,
     "metadata": {},
     "output_type": "execute_result"
    }
   ],
   "source": [
    "model.wv.most_similar('daenerys')"
   ]
  },
  {
   "cell_type": "code",
   "execution_count": 42,
   "id": "2b235d21",
   "metadata": {},
   "outputs": [
    {
     "data": {
      "text/plain": [
       "'jon'"
      ]
     },
     "execution_count": 42,
     "metadata": {},
     "output_type": "execute_result"
    }
   ],
   "source": [
    "model.wv.doesnt_match(['jon','rikon','robb','arya','sansa','bran'])"
   ]
  },
  {
   "cell_type": "code",
   "execution_count": 43,
   "id": "258e2b1f",
   "metadata": {},
   "outputs": [
    {
     "data": {
      "text/plain": [
       "'bronn'"
      ]
     },
     "execution_count": 43,
     "metadata": {},
     "output_type": "execute_result"
    }
   ],
   "source": [
    "model.wv.doesnt_match(['cersei', 'jaime', 'bronn', 'tyrion'])"
   ]
  },
  {
   "cell_type": "code",
   "execution_count": 27,
   "id": "ba332386",
   "metadata": {},
   "outputs": [
    {
     "data": {
      "text/plain": [
       "300"
      ]
     },
     "execution_count": 27,
     "metadata": {},
     "output_type": "execute_result"
    }
   ],
   "source": [
    "len(model.wv['king'])"
   ]
  },
  {
   "cell_type": "code",
   "execution_count": 44,
   "id": "14101f96",
   "metadata": {},
   "outputs": [
    {
     "data": {
      "text/plain": [
       "0.7959989"
      ]
     },
     "execution_count": 44,
     "metadata": {},
     "output_type": "execute_result"
    }
   ],
   "source": [
    "model.wv.similarity('arya','sansa')"
   ]
  },
  {
   "cell_type": "code",
   "execution_count": 15,
   "id": "b978159e",
   "metadata": {},
   "outputs": [
    {
     "data": {
      "text/plain": [
       "0.7394308"
      ]
     },
     "execution_count": 15,
     "metadata": {},
     "output_type": "execute_result"
    }
   ],
   "source": [
    "model.wv.similarity('cersei','sansa')"
   ]
  },
  {
   "cell_type": "code",
   "execution_count": 45,
   "id": "ed358183",
   "metadata": {},
   "outputs": [
    {
     "data": {
      "text/plain": [
       "0.33461455"
      ]
     },
     "execution_count": 45,
     "metadata": {},
     "output_type": "execute_result"
    }
   ],
   "source": [
    "model.wv.similarity('tywin','sansa')"
   ]
  },
  {
   "cell_type": "code",
   "execution_count": 88,
   "id": "959c5f26",
   "metadata": {},
   "outputs": [
    {
     "data": {
      "text/plain": [
       "array([[-0.11974421, -0.18864349,  0.20628448, ..., -0.11863696,\n",
       "         0.00497017,  0.02195935],\n",
       "       [-0.25077537, -0.03254947,  0.22424528, ..., -0.10946808,\n",
       "         0.02671707,  0.08537447],\n",
       "       [ 0.06232982, -0.02960947, -0.04660568, ..., -0.09887758,\n",
       "         0.09963721, -0.08160619],\n",
       "       ...,\n",
       "       [-0.03013285,  0.04750119, -0.01497496, ...,  0.00407487,\n",
       "         0.01391101,  0.05480921],\n",
       "       [-0.00955141,  0.07727367,  0.11235627, ..., -0.03055063,\n",
       "        -0.00149143, -0.13749485],\n",
       "       [-0.04895716,  0.05263472,  0.12851088, ..., -0.05369092,\n",
       "         0.09577035, -0.07121768]], dtype=float32)"
      ]
     },
     "execution_count": 88,
     "metadata": {},
     "output_type": "execute_result"
    }
   ],
   "source": [
    "model.wv.get_normed_vectors()"
   ]
  },
  {
   "cell_type": "code",
   "execution_count": 64,
   "id": "683f518f",
   "metadata": {},
   "outputs": [],
   "source": [
    "y = model.wv.index_to_key"
   ]
  },
  {
   "cell_type": "code",
   "execution_count": 90,
   "id": "2076548a",
   "metadata": {},
   "outputs": [
    {
     "data": {
      "text/plain": [
       "['the',\n",
       " 'and',\n",
       " 'to',\n",
       " 'of',\n",
       " 'he',\n",
       " 'his',\n",
       " 'was',\n",
       " 'you',\n",
       " 'her',\n",
       " 'in',\n",
       " 'it',\n",
       " 'had',\n",
       " 'that',\n",
       " 'she',\n",
       " 'as',\n",
       " 'with',\n",
       " 'him',\n",
       " 'not',\n",
       " 'but',\n",
       " 'for',\n",
       " 'they',\n",
       " 'is',\n",
       " 'at',\n",
       " 'on',\n",
       " 'said',\n",
       " 'my',\n",
       " 'have',\n",
       " 'be',\n",
       " 'lord',\n",
       " 'them',\n",
       " 'no',\n",
       " 'from',\n",
       " 'would',\n",
       " 'were',\n",
       " 'me',\n",
       " 'your',\n",
       " 'one',\n",
       " 'all',\n",
       " 'when',\n",
       " 'will',\n",
       " 'ser',\n",
       " 'if',\n",
       " 'so',\n",
       " 'their',\n",
       " 'we',\n",
       " 'could',\n",
       " 'are',\n",
       " 'man',\n",
       " 'there',\n",
       " 'this',\n",
       " 'up',\n",
       " 'been',\n",
       " 'what',\n",
       " 'did',\n",
       " 'by',\n",
       " 'king',\n",
       " 'do',\n",
       " 'men',\n",
       " 'back',\n",
       " 'out',\n",
       " 'more',\n",
       " 'or',\n",
       " 'who',\n",
       " 'down',\n",
       " 'well',\n",
       " 'than',\n",
       " 'only',\n",
       " 'like',\n",
       " 'jon',\n",
       " 'some',\n",
       " 'father',\n",
       " 'old',\n",
       " 'hand',\n",
       " 'even',\n",
       " 'too',\n",
       " 'tyrion',\n",
       " 'before',\n",
       " 'never',\n",
       " 'an',\n",
       " 'off',\n",
       " 'see',\n",
       " 'know',\n",
       " 'into',\n",
       " 'made',\n",
       " 'now',\n",
       " 'eyes',\n",
       " 'black',\n",
       " 'told',\n",
       " 'lady',\n",
       " 'thought',\n",
       " 'time',\n",
       " 'then',\n",
       " 'how',\n",
       " 'long',\n",
       " 'has',\n",
       " 'can',\n",
       " 'might',\n",
       " 'us',\n",
       " 'come',\n",
       " 'where',\n",
       " 'here',\n",
       " 'through',\n",
       " 'still',\n",
       " 'face',\n",
       " 'head',\n",
       " 'red',\n",
       " 'll',\n",
       " 'way',\n",
       " 'boy',\n",
       " 'page',\n",
       " 'must',\n",
       " 'once',\n",
       " 'queen',\n",
       " 'good',\n",
       " 'two',\n",
       " 'brother',\n",
       " 'night',\n",
       " 'over',\n",
       " 'little',\n",
       " 'about',\n",
       " 'took',\n",
       " 'other',\n",
       " 'came',\n",
       " 'though',\n",
       " 'again',\n",
       " 'say',\n",
       " 'three',\n",
       " 'should',\n",
       " 'away',\n",
       " 'dead',\n",
       " 'son',\n",
       " 'own',\n",
       " 'blood',\n",
       " 'am',\n",
       " 'take',\n",
       " 'go',\n",
       " 'half',\n",
       " 'make',\n",
       " 'arya',\n",
       " 'saw',\n",
       " 'day',\n",
       " 'white',\n",
       " 'jaime',\n",
       " 'first',\n",
       " 'himself',\n",
       " 'our',\n",
       " 'look',\n",
       " 'want',\n",
       " 'after',\n",
       " 'much',\n",
       " 'enough',\n",
       " 'sword',\n",
       " 'tell',\n",
       " 'girl',\n",
       " 'bran',\n",
       " 'great',\n",
       " 'its',\n",
       " 'looked',\n",
       " 'left',\n",
       " 'knew',\n",
       " 'asked',\n",
       " 'gave',\n",
       " 'maester',\n",
       " 'called',\n",
       " 'wall',\n",
       " 'every',\n",
       " 'heard',\n",
       " 'sansa',\n",
       " 'let',\n",
       " 'yet',\n",
       " 'went',\n",
       " 'turned',\n",
       " 'dany',\n",
       " 'why',\n",
       " 'need',\n",
       " 'behind',\n",
       " 'around',\n",
       " 'just',\n",
       " 'woman',\n",
       " 'another',\n",
       " 'snow',\n",
       " 'beneath',\n",
       " 'across',\n",
       " 'knight',\n",
       " 'keep',\n",
       " 'grace',\n",
       " 'found',\n",
       " 'gold',\n",
       " 'any',\n",
       " 'last',\n",
       " 'cersei',\n",
       " 'castle',\n",
       " 'those',\n",
       " 'stark',\n",
       " 'gods',\n",
       " 'think',\n",
       " 'hair',\n",
       " 'many',\n",
       " 'feet',\n",
       " 'against',\n",
       " 'hands',\n",
       " 'stannis',\n",
       " 'mother',\n",
       " 'catelyn',\n",
       " 'robert',\n",
       " 'seemed',\n",
       " 'prince',\n",
       " 'may',\n",
       " 'ever',\n",
       " 'robb',\n",
       " 'done',\n",
       " 'don',\n",
       " 'find',\n",
       " 'lannister',\n",
       " 're',\n",
       " 'hear',\n",
       " 'grey',\n",
       " 'name',\n",
       " 'horse',\n",
       " 'high',\n",
       " 'put',\n",
       " 'stone',\n",
       " 'wine',\n",
       " 'hard',\n",
       " 'water',\n",
       " 'upon',\n",
       " 'fire',\n",
       " 'iron',\n",
       " 'until',\n",
       " 'these',\n",
       " 'voice',\n",
       " 'gone',\n",
       " 'give',\n",
       " 'sam',\n",
       " 'seen',\n",
       " 'better',\n",
       " 'shall',\n",
       " 'ned',\n",
       " 'always',\n",
       " 'years',\n",
       " 'between',\n",
       " 'dark',\n",
       " 'place',\n",
       " 'small',\n",
       " 'cold',\n",
       " 'winterfell',\n",
       " 'most',\n",
       " 'hundred',\n",
       " 'stood',\n",
       " 'end',\n",
       " 'sister',\n",
       " 'words',\n",
       " 'sea',\n",
       " 'right',\n",
       " 'nothing',\n",
       " 'walls',\n",
       " 'fingers',\n",
       " 'same',\n",
       " 'cloak',\n",
       " 'house',\n",
       " 'young',\n",
       " 'does',\n",
       " 'beside',\n",
       " 'get',\n",
       " 'mouth',\n",
       " 'seven',\n",
       " 'watch',\n",
       " 'door',\n",
       " 'joffrey',\n",
       " 'green',\n",
       " 'big',\n",
       " 'under',\n",
       " 'few',\n",
       " 'sent',\n",
       " 'perhaps',\n",
       " 'almost',\n",
       " 'such',\n",
       " 'wanted',\n",
       " 'daughter',\n",
       " 'true',\n",
       " 'while',\n",
       " 'leave',\n",
       " 'city',\n",
       " 'wind',\n",
       " 'light',\n",
       " 'arms',\n",
       " 'children',\n",
       " 'herself',\n",
       " 'sweet',\n",
       " 'others',\n",
       " 'lost',\n",
       " 'theon',\n",
       " 'each',\n",
       " 'felt',\n",
       " 'side',\n",
       " 'yes',\n",
       " 'brothers',\n",
       " 'best',\n",
       " 'very',\n",
       " 'die',\n",
       " 'brought',\n",
       " 'soon',\n",
       " 'far',\n",
       " 'died',\n",
       " 'north',\n",
       " 'child',\n",
       " 'fear',\n",
       " 'along',\n",
       " 'word',\n",
       " 'brienne',\n",
       " 'both',\n",
       " 'taken',\n",
       " 'battle',\n",
       " 'help',\n",
       " 'new',\n",
       " 'tywin',\n",
       " 'davos',\n",
       " 'lords',\n",
       " 'something',\n",
       " 've',\n",
       " 'wife',\n",
       " 'mean',\n",
       " 'rest',\n",
       " 'hall',\n",
       " 'kill',\n",
       " 'strong',\n",
       " 'steel',\n",
       " 'began',\n",
       " 'sound',\n",
       " 'won',\n",
       " 'dragon',\n",
       " 'past',\n",
       " 'life',\n",
       " 'tower',\n",
       " 'killed',\n",
       " 'arm',\n",
       " 'sons',\n",
       " 'tried',\n",
       " 'free',\n",
       " 'thing',\n",
       " 'days',\n",
       " 'bear',\n",
       " 'bloody',\n",
       " 'heart',\n",
       " 'pale',\n",
       " 'love',\n",
       " 'moment',\n",
       " 'sat',\n",
       " 'bring',\n",
       " 'bed',\n",
       " 'close',\n",
       " 'knights',\n",
       " 'cut',\n",
       " 'wolf',\n",
       " 'horses',\n",
       " 'smile',\n",
       " 'death',\n",
       " 'inside',\n",
       " 'four',\n",
       " 'brown',\n",
       " 'dragons',\n",
       " 'hot',\n",
       " 'silver',\n",
       " 'part',\n",
       " 'bastard',\n",
       " 'open',\n",
       " 'nor',\n",
       " 'thousand',\n",
       " 'landing',\n",
       " 'uncle',\n",
       " 'above',\n",
       " 'going',\n",
       " 'blue',\n",
       " 'air',\n",
       " 'captain',\n",
       " 'please',\n",
       " 'laughed',\n",
       " 'river',\n",
       " 'sun',\n",
       " 'rose',\n",
       " 'fell',\n",
       " 'war',\n",
       " 'golden',\n",
       " 'sleep',\n",
       " 'without',\n",
       " 'swords',\n",
       " 'speak',\n",
       " 'renly',\n",
       " 'full',\n",
       " 'fool',\n",
       " 'certain',\n",
       " 'beyond',\n",
       " 'feel',\n",
       " 'send',\n",
       " 'tongue',\n",
       " 'got',\n",
       " 'fight',\n",
       " 'rode',\n",
       " 'set',\n",
       " 'thick',\n",
       " 'throat',\n",
       " 'world',\n",
       " 'deep',\n",
       " 'legs',\n",
       " 'call',\n",
       " 'honor',\n",
       " 'rock',\n",
       " 'trees',\n",
       " 'tall',\n",
       " 'table',\n",
       " 'pulled',\n",
       " 'broken',\n",
       " 'mormont',\n",
       " 'women',\n",
       " 'steps',\n",
       " 'things',\n",
       " 'next',\n",
       " 'hodor',\n",
       " 'heavy',\n",
       " 'burned',\n",
       " 'oh',\n",
       " 'toward',\n",
       " 'together',\n",
       " 'skin',\n",
       " 'given',\n",
       " 'since',\n",
       " 'smiled',\n",
       " 'dwarf',\n",
       " 'alone',\n",
       " 'moved',\n",
       " 'storm',\n",
       " 'raised',\n",
       " 'ride',\n",
       " 'ask',\n",
       " 'hope',\n",
       " 'eye',\n",
       " 'soft',\n",
       " 'reached',\n",
       " 'frey',\n",
       " 'second',\n",
       " 'remember',\n",
       " 'someone',\n",
       " 'remembered',\n",
       " 'coming',\n",
       " 'meant',\n",
       " 'cannot',\n",
       " 'hold',\n",
       " 'morning',\n",
       " 'ten',\n",
       " 'teeth',\n",
       " 'else',\n",
       " 'throne',\n",
       " 'command',\n",
       " 'which',\n",
       " 'fat',\n",
       " 'truth',\n",
       " 'commander',\n",
       " 'walder',\n",
       " 'doubt',\n",
       " 'ground',\n",
       " 'jorah',\n",
       " 'cup',\n",
       " 'outside',\n",
       " 'known',\n",
       " 'wore',\n",
       " 'ran',\n",
       " 'gate',\n",
       " 'room',\n",
       " 'held',\n",
       " 'closed',\n",
       " 'home',\n",
       " 'matter',\n",
       " 'sky',\n",
       " 'south',\n",
       " 'wood',\n",
       " 'dozen',\n",
       " 'wed',\n",
       " 'people',\n",
       " 'neck',\n",
       " 'riverrun',\n",
       " 'food',\n",
       " 'instead',\n",
       " 'near',\n",
       " 'talk',\n",
       " 'turn',\n",
       " 'none',\n",
       " 'ships',\n",
       " 'tyrell',\n",
       " 'below',\n",
       " 'moon',\n",
       " 'summer',\n",
       " 'bolton',\n",
       " 'shadow',\n",
       " 'lips',\n",
       " 'watched',\n",
       " 'times',\n",
       " 'leather',\n",
       " 'varys',\n",
       " 'shoulder',\n",
       " 'septon',\n",
       " 'warm',\n",
       " 'caught',\n",
       " 'believe',\n",
       " 'least',\n",
       " 'guards',\n",
       " 'answer',\n",
       " 'god',\n",
       " 'blade',\n",
       " 'wondered',\n",
       " 'ice',\n",
       " 'opened',\n",
       " 'shield',\n",
       " 'barristan',\n",
       " 'mine',\n",
       " 'armor',\n",
       " 'safe',\n",
       " 'six',\n",
       " 'kept',\n",
       " 'wish',\n",
       " 'return',\n",
       " 'tommen',\n",
       " 'used',\n",
       " 'smell',\n",
       " 'less',\n",
       " 'being',\n",
       " 'foot',\n",
       " 'floor',\n",
       " 'squire',\n",
       " 'eddard',\n",
       " 'empty',\n",
       " 'run',\n",
       " 'followed',\n",
       " 'friends',\n",
       " 'serve',\n",
       " 'beard',\n",
       " 'boys',\n",
       " 'baratheon',\n",
       " 'cloaks',\n",
       " 'wedding',\n",
       " 'eat',\n",
       " 'wrong',\n",
       " 'daenerys',\n",
       " 'ghost',\n",
       " 'sight',\n",
       " 'flesh',\n",
       " 'five',\n",
       " 'hound',\n",
       " 'ship',\n",
       " 'strength',\n",
       " 'returned',\n",
       " 'bones',\n",
       " 'nose',\n",
       " 'crown',\n",
       " 'yellow',\n",
       " 'chest',\n",
       " 'covered',\n",
       " 'says',\n",
       " 'commanded',\n",
       " 'petyr',\n",
       " 'filled',\n",
       " 'aemon',\n",
       " 'sometimes',\n",
       " 'friend',\n",
       " 'led',\n",
       " 'aye',\n",
       " 'common',\n",
       " 'yours',\n",
       " 'spoke',\n",
       " 'fighting',\n",
       " 'show',\n",
       " 'flames',\n",
       " 'asha',\n",
       " 'huge',\n",
       " 'aside',\n",
       " 'lysa',\n",
       " 'crow',\n",
       " 'belly',\n",
       " 'master',\n",
       " 'breath',\n",
       " 'seem',\n",
       " 'yard',\n",
       " 'gates',\n",
       " 'waiting',\n",
       " 'within',\n",
       " 'looking',\n",
       " 'wet',\n",
       " 'wooden',\n",
       " 'realm',\n",
       " 'thin',\n",
       " 'work',\n",
       " 'bad',\n",
       " 'use',\n",
       " 'promised',\n",
       " 'later',\n",
       " 'tree',\n",
       " 'husband',\n",
       " 'grew',\n",
       " 'onto',\n",
       " 'wildlings',\n",
       " 'loved',\n",
       " 'afraid',\n",
       " 'girls',\n",
       " 'greyjoy',\n",
       " 'shoulders',\n",
       " 'rain',\n",
       " 'shouted',\n",
       " 'walked',\n",
       " 'maid',\n",
       " 'mance',\n",
       " 'remained',\n",
       " 'late',\n",
       " 'guard',\n",
       " 'littlefinger',\n",
       " 'meereen',\n",
       " 'liked',\n",
       " 'fall',\n",
       " 'year',\n",
       " 'margaery',\n",
       " 'dog',\n",
       " 'passed',\n",
       " 'hurt',\n",
       " 'balon',\n",
       " 'taste',\n",
       " 'dothraki',\n",
       " 'lay',\n",
       " 'drew',\n",
       " 'spear',\n",
       " 'song',\n",
       " 'realized',\n",
       " 'pushed',\n",
       " 'sure',\n",
       " 'named',\n",
       " 'finally',\n",
       " 'whispered',\n",
       " 'reach',\n",
       " 'brave',\n",
       " 'stand',\n",
       " 'different',\n",
       " 'wolves',\n",
       " 'suddenly',\n",
       " 'poor',\n",
       " 'kingsguard',\n",
       " 'drogo',\n",
       " 'stay',\n",
       " 'arryn',\n",
       " 'stop',\n",
       " 'kingdoms',\n",
       " 'broke',\n",
       " 'ears',\n",
       " 'edmure',\n",
       " 'princess',\n",
       " 'burning',\n",
       " 'faces',\n",
       " 'lannisters',\n",
       " 'dream',\n",
       " 'axe',\n",
       " 'direwolf',\n",
       " 'west',\n",
       " 'tears',\n",
       " 'heir',\n",
       " 'drink',\n",
       " 'clegane',\n",
       " 'darkness',\n",
       " 'either',\n",
       " 'pointed',\n",
       " 'raven',\n",
       " 'hill',\n",
       " 'try',\n",
       " 'forward',\n",
       " 'sworn',\n",
       " 'pain',\n",
       " 'khal',\n",
       " 'lie',\n",
       " 'dagger',\n",
       " 'truly',\n",
       " 'kings',\n",
       " 'seat',\n",
       " 'grown',\n",
       " 'born',\n",
       " 'road',\n",
       " 'harrenhal',\n",
       " 'care',\n",
       " 'bronn',\n",
       " 'round',\n",
       " 'helm',\n",
       " 'feast',\n",
       " 'understand',\n",
       " 'quick',\n",
       " 'pycelle',\n",
       " 'meat',\n",
       " 'amongst',\n",
       " 'lifted',\n",
       " 'longer',\n",
       " 'reminded',\n",
       " 'whilst',\n",
       " 'maybe',\n",
       " 'mountain',\n",
       " 'short',\n",
       " 'step',\n",
       " 'rodrik',\n",
       " 'pretty',\n",
       " 'melisandre',\n",
       " 'ones',\n",
       " 'third',\n",
       " 'stopped',\n",
       " 'bit',\n",
       " 'worse',\n",
       " 'lands',\n",
       " 'aegon',\n",
       " 'sit',\n",
       " 'victarion',\n",
       " 'save',\n",
       " 'sharp',\n",
       " 'knows',\n",
       " 'smoke',\n",
       " 'whose',\n",
       " 'live',\n",
       " 'pray',\n",
       " 'leg',\n",
       " 'window',\n",
       " 'horn',\n",
       " 'younger',\n",
       " 'westeros',\n",
       " 'didn',\n",
       " 'twenty',\n",
       " 'silk',\n",
       " 'heads',\n",
       " 'slaves',\n",
       " 'septa',\n",
       " 'pie',\n",
       " 'ago',\n",
       " 'peace',\n",
       " 'laugh',\n",
       " 'hizdahr',\n",
       " 'mind',\n",
       " 'low',\n",
       " 'bread',\n",
       " 'wants',\n",
       " 'east',\n",
       " 'blind',\n",
       " 'sooner',\n",
       " 'towers',\n",
       " 'bright',\n",
       " 'myself',\n",
       " 'reek',\n",
       " 'mad',\n",
       " 'making',\n",
       " 'camp',\n",
       " 'coin',\n",
       " 'slain',\n",
       " 'older',\n",
       " 'narrow',\n",
       " 'drowned',\n",
       " 'served',\n",
       " 'wait',\n",
       " 'salt',\n",
       " 'point',\n",
       " 'walk',\n",
       " 'glanced',\n",
       " 'cheeks',\n",
       " 'cousin',\n",
       " 'luwin',\n",
       " 'knife',\n",
       " 'targaryen',\n",
       " 'shook',\n",
       " 'touched',\n",
       " 'quiet',\n",
       " 'stepped',\n",
       " 'sort',\n",
       " 'often',\n",
       " 'riding',\n",
       " 'naked',\n",
       " 'twisted',\n",
       " 'loras',\n",
       " 'choice',\n",
       " 'during',\n",
       " 'lion',\n",
       " 'forgotten',\n",
       " 'silence',\n",
       " 'fish',\n",
       " 'kevan',\n",
       " 'ramsay',\n",
       " 'hung',\n",
       " 'read',\n",
       " 'gift',\n",
       " 'running',\n",
       " 'replied',\n",
       " 'fallen',\n",
       " 'large',\n",
       " 'knees',\n",
       " 'silent',\n",
       " 'fought',\n",
       " 'company',\n",
       " 'cat',\n",
       " 'ahead',\n",
       " 'sept',\n",
       " 'beautiful',\n",
       " 'dawn',\n",
       " 'rhaegar',\n",
       " 'dogs',\n",
       " 'needs',\n",
       " 'knee',\n",
       " 'pass',\n",
       " 'dorne',\n",
       " 'casterly',\n",
       " 'mud',\n",
       " 'themselves',\n",
       " 'tully',\n",
       " 'body',\n",
       " 'singer',\n",
       " 'gregor',\n",
       " 'court',\n",
       " 'stupid',\n",
       " 'age',\n",
       " 'meera',\n",
       " 'trying',\n",
       " 'top',\n",
       " 'swear',\n",
       " 'kind',\n",
       " 'offered',\n",
       " 'gendry',\n",
       " 'leaves',\n",
       " 'whole',\n",
       " 'clothes',\n",
       " 'closer',\n",
       " 'anything',\n",
       " 'kiss',\n",
       " 'whatever',\n",
       " 'threw',\n",
       " 'wonder',\n",
       " 'agreed',\n",
       " 'pay',\n",
       " 'answered',\n",
       " 'climbed',\n",
       " 'saying',\n",
       " 'saddle',\n",
       " 'wide',\n",
       " 'stars',\n",
       " 'comes',\n",
       " 'stones',\n",
       " 'chain',\n",
       " 'trust',\n",
       " 'host',\n",
       " 'fair',\n",
       " 'pleased',\n",
       " 'trident',\n",
       " 'yourself',\n",
       " 'dry',\n",
       " 'eight',\n",
       " 'hour',\n",
       " 'dying',\n",
       " 'yunkai',\n",
       " 'spears',\n",
       " 'ear',\n",
       " 'insisted',\n",
       " 'fast',\n",
       " 'carried',\n",
       " 'service',\n",
       " 'doors',\n",
       " 'ought',\n",
       " 'fist',\n",
       " 'woods',\n",
       " 'mail',\n",
       " 'council',\n",
       " 'wasn',\n",
       " 'fine',\n",
       " 'crossed',\n",
       " 'needed',\n",
       " 'join',\n",
       " 'thank',\n",
       " 'milk',\n",
       " 'wildling',\n",
       " 'quentyn',\n",
       " 'finger',\n",
       " 'gilly',\n",
       " 'shadows',\n",
       " 'doing',\n",
       " 'tent',\n",
       " 'land',\n",
       " 'bird',\n",
       " 'helped',\n",
       " 'win',\n",
       " 'boots',\n",
       " 'imp',\n",
       " 'crows',\n",
       " 'names',\n",
       " 'somehow',\n",
       " 'folk',\n",
       " 'kissed',\n",
       " 'winter',\n",
       " 'letter',\n",
       " 'banners',\n",
       " 'screamed',\n",
       " 'angry',\n",
       " 'pink',\n",
       " 'frightened',\n",
       " 'learn',\n",
       " 'alive',\n",
       " 'torch',\n",
       " 'chair',\n",
       " 'eunuch',\n",
       " 'watching',\n",
       " 'daughters',\n",
       " 'tarly',\n",
       " 'dragonstone',\n",
       " 'harm',\n",
       " 'fires',\n",
       " 'learned',\n",
       " 'standing',\n",
       " 'serving',\n",
       " 'easy',\n",
       " 'neither',\n",
       " 'nine',\n",
       " 'wings',\n",
       " 'question',\n",
       " 'drunk',\n",
       " 'sail',\n",
       " 'priest',\n",
       " 'sisters',\n",
       " 'myrcella',\n",
       " 'nodded',\n",
       " 'forth',\n",
       " 'bone',\n",
       " 'warned',\n",
       " 'harbor',\n",
       " 'giant',\n",
       " 'slow',\n",
       " 'field',\n",
       " 'slipped',\n",
       " 'slid',\n",
       " 'slowly',\n",
       " 'bronze',\n",
       " 'dreams',\n",
       " 'falling',\n",
       " 'atop',\n",
       " 'promise',\n",
       " 'slave',\n",
       " 'illyrio',\n",
       " 'rise',\n",
       " 'move',\n",
       " 'whore',\n",
       " 'line',\n",
       " 'flowers',\n",
       " 'pyke',\n",
       " 'makes',\n",
       " 'laughter',\n",
       " 'loose',\n",
       " 'earth',\n",
       " 'grass',\n",
       " 'faced',\n",
       " 'bay',\n",
       " 'declared',\n",
       " 'lived',\n",
       " 'front',\n",
       " 'viserys',\n",
       " 'power',\n",
       " 'twice',\n",
       " 'cell',\n",
       " 'happened',\n",
       " 'because',\n",
       " 'play',\n",
       " 'chains',\n",
       " 'break',\n",
       " 'dance',\n",
       " 'oldtown',\n",
       " 'aerys',\n",
       " 'clean',\n",
       " 'surely',\n",
       " 'claim',\n",
       " 'unless',\n",
       " 'jeyne',\n",
       " 'eyrie',\n",
       " 'cried',\n",
       " 'fresh',\n",
       " 'craster',\n",
       " 'tormund',\n",
       " 'laid',\n",
       " 'pair',\n",
       " 'quite',\n",
       " 'morrow',\n",
       " 'shouting',\n",
       " 'sad',\n",
       " 'game',\n",
       " 'met',\n",
       " 'already',\n",
       " 'rule',\n",
       " 'touch',\n",
       " 'softly',\n",
       " 'steward',\n",
       " 'sense',\n",
       " 'woke',\n",
       " 'afterward',\n",
       " 'mounted',\n",
       " 'count',\n",
       " 'started',\n",
       " 'waters',\n",
       " 'sudden',\n",
       " 'captive',\n",
       " 'hide',\n",
       " 'jojen',\n",
       " ...]"
      ]
     },
     "execution_count": 90,
     "metadata": {},
     "output_type": "execute_result"
    }
   ],
   "source": [
    "y"
   ]
  },
  {
   "cell_type": "code",
   "execution_count": 67,
   "id": "67604c5d",
   "metadata": {},
   "outputs": [],
   "source": [
    "from sklearn.decomposition import PCA"
   ]
  },
  {
   "cell_type": "code",
   "execution_count": 71,
   "id": "5aba7549",
   "metadata": {},
   "outputs": [],
   "source": [
    "pca = PCA(n_components=3)"
   ]
  },
  {
   "cell_type": "code",
   "execution_count": 72,
   "id": "cc7d0377",
   "metadata": {},
   "outputs": [],
   "source": [
    "X = pca.fit_transform(model.wv.get_normed_vectors())"
   ]
  },
  {
   "cell_type": "code",
   "execution_count": 91,
   "id": "0511c867",
   "metadata": {},
   "outputs": [
    {
     "data": {
      "text/plain": [
       "(17453, 3)"
      ]
     },
     "execution_count": 91,
     "metadata": {},
     "output_type": "execute_result"
    }
   ],
   "source": [
    "X.shape"
   ]
  },
  {
   "cell_type": "code",
   "execution_count": 93,
   "id": "bb830a41",
   "metadata": {},
   "outputs": [
    {
     "data": {
      "application/vnd.plotly.v1+json": {
       "config": {
        "plotlyServerURL": "https://plot.ly"
       },
       "data": [
        {
         "hovertemplate": "color=hands<br>0=%{x}<br>1=%{y}<br>2=%{z}<extra></extra>",
         "legendgroup": "hands",
         "marker": {
          "color": "#636efa",
          "symbol": "circle"
         },
         "mode": "markers",
         "name": "hands",
         "scene": "scene",
         "showlegend": true,
         "type": "scatter3d",
         "x": [
          -0.5166324377059937
         ],
         "y": [
          0.4360288679599762
         ],
         "z": [
          -0.24432404339313507
         ]
        },
        {
         "hovertemplate": "color=stannis<br>0=%{x}<br>1=%{y}<br>2=%{z}<extra></extra>",
         "legendgroup": "stannis",
         "marker": {
          "color": "#EF553B",
          "symbol": "circle"
         },
         "mode": "markers",
         "name": "stannis",
         "scene": "scene",
         "showlegend": true,
         "type": "scatter3d",
         "x": [
          -0.6464323997497559
         ],
         "y": [
          -0.2774393856525421
         ],
         "z": [
          0.24532340466976166
         ]
        },
        {
         "hovertemplate": "color=mother<br>0=%{x}<br>1=%{y}<br>2=%{z}<extra></extra>",
         "legendgroup": "mother",
         "marker": {
          "color": "#00cc96",
          "symbol": "circle"
         },
         "mode": "markers",
         "name": "mother",
         "scene": "scene",
         "showlegend": true,
         "type": "scatter3d",
         "x": [
          -0.6448858976364136
         ],
         "y": [
          -0.34323984384536743
         ],
         "z": [
          0.05025641247630119
         ]
        },
        {
         "hovertemplate": "color=catelyn<br>0=%{x}<br>1=%{y}<br>2=%{z}<extra></extra>",
         "legendgroup": "catelyn",
         "marker": {
          "color": "#ab63fa",
          "symbol": "circle"
         },
         "mode": "markers",
         "name": "catelyn",
         "scene": "scene",
         "showlegend": true,
         "type": "scatter3d",
         "x": [
          -0.5385292768478394
         ],
         "y": [
          -0.1345166563987732
         ],
         "z": [
          -0.10985331982374191
         ]
        },
        {
         "hovertemplate": "color=robert<br>0=%{x}<br>1=%{y}<br>2=%{z}<extra></extra>",
         "legendgroup": "robert",
         "marker": {
          "color": "#FFA15A",
          "symbol": "circle"
         },
         "mode": "markers",
         "name": "robert",
         "scene": "scene",
         "showlegend": true,
         "type": "scatter3d",
         "x": [
          -0.6315737962722778
         ],
         "y": [
          -0.4325582981109619
         ],
         "z": [
          0.06472726911306381
         ]
        },
        {
         "hovertemplate": "color=seemed<br>0=%{x}<br>1=%{y}<br>2=%{z}<extra></extra>",
         "legendgroup": "seemed",
         "marker": {
          "color": "#19d3f3",
          "symbol": "circle"
         },
         "mode": "markers",
         "name": "seemed",
         "scene": "scene",
         "showlegend": true,
         "type": "scatter3d",
         "x": [
          -0.6160882711410522
         ],
         "y": [
          0.12635058164596558
         ],
         "z": [
          -0.12046352028846741
         ]
        },
        {
         "hovertemplate": "color=prince<br>0=%{x}<br>1=%{y}<br>2=%{z}<extra></extra>",
         "legendgroup": "prince",
         "marker": {
          "color": "#FF6692",
          "symbol": "circle"
         },
         "mode": "markers",
         "name": "prince",
         "scene": "scene",
         "showlegend": true,
         "type": "scatter3d",
         "x": [
          -0.5963289141654968
         ],
         "y": [
          -0.4627262055873871
         ],
         "z": [
          0.0068453834392130375
         ]
        },
        {
         "hovertemplate": "color=may<br>0=%{x}<br>1=%{y}<br>2=%{z}<extra></extra>",
         "legendgroup": "may",
         "marker": {
          "color": "#B6E880",
          "symbol": "circle"
         },
         "mode": "markers",
         "name": "may",
         "scene": "scene",
         "showlegend": true,
         "type": "scatter3d",
         "x": [
          -0.7061557173728943
         ],
         "y": [
          -0.3955051302909851
         ],
         "z": [
          0.04178757965564728
         ]
        },
        {
         "hovertemplate": "color=ever<br>0=%{x}<br>1=%{y}<br>2=%{z}<extra></extra>",
         "legendgroup": "ever",
         "marker": {
          "color": "#FF97FF",
          "symbol": "circle"
         },
         "mode": "markers",
         "name": "ever",
         "scene": "scene",
         "showlegend": true,
         "type": "scatter3d",
         "x": [
          -0.7155900597572327
         ],
         "y": [
          -0.24571539461612701
         ],
         "z": [
          0.10190823674201965
         ]
        },
        {
         "hovertemplate": "color=robb<br>0=%{x}<br>1=%{y}<br>2=%{z}<extra></extra>",
         "legendgroup": "robb",
         "marker": {
          "color": "#FECB52",
          "symbol": "circle"
         },
         "mode": "markers",
         "name": "robb",
         "scene": "scene",
         "showlegend": true,
         "type": "scatter3d",
         "x": [
          -0.6119003891944885
         ],
         "y": [
          -0.27837392687797546
         ],
         "z": [
          -0.003915582317858934
         ]
        },
        {
         "hovertemplate": "color=done<br>0=%{x}<br>1=%{y}<br>2=%{z}<extra></extra>",
         "legendgroup": "done",
         "marker": {
          "color": "#636efa",
          "symbol": "circle"
         },
         "mode": "markers",
         "name": "done",
         "scene": "scene",
         "showlegend": true,
         "type": "scatter3d",
         "x": [
          -0.7659319043159485
         ],
         "y": [
          -0.2817215621471405
         ],
         "z": [
          -0.03726749122142792
         ]
        },
        {
         "hovertemplate": "color=don<br>0=%{x}<br>1=%{y}<br>2=%{z}<extra></extra>",
         "legendgroup": "don",
         "marker": {
          "color": "#EF553B",
          "symbol": "circle"
         },
         "mode": "markers",
         "name": "don",
         "scene": "scene",
         "showlegend": true,
         "type": "scatter3d",
         "x": [
          -0.666720986366272
         ],
         "y": [
          -0.30414676666259766
         ],
         "z": [
          -0.1579516977071762
         ]
        },
        {
         "hovertemplate": "color=find<br>0=%{x}<br>1=%{y}<br>2=%{z}<extra></extra>",
         "legendgroup": "find",
         "marker": {
          "color": "#00cc96",
          "symbol": "circle"
         },
         "mode": "markers",
         "name": "find",
         "scene": "scene",
         "showlegend": true,
         "type": "scatter3d",
         "x": [
          -0.7390592694282532
         ],
         "y": [
          -0.20736034214496613
         ],
         "z": [
          -0.08138279616832733
         ]
        },
        {
         "hovertemplate": "color=lannister<br>0=%{x}<br>1=%{y}<br>2=%{z}<extra></extra>",
         "legendgroup": "lannister",
         "marker": {
          "color": "#ab63fa",
          "symbol": "circle"
         },
         "mode": "markers",
         "name": "lannister",
         "scene": "scene",
         "showlegend": true,
         "type": "scatter3d",
         "x": [
          -0.5016990900039673
         ],
         "y": [
          -0.30235981941223145
         ],
         "z": [
          0.06114776059985161
         ]
        },
        {
         "hovertemplate": "color=re<br>0=%{x}<br>1=%{y}<br>2=%{z}<extra></extra>",
         "legendgroup": "re",
         "marker": {
          "color": "#FFA15A",
          "symbol": "circle"
         },
         "mode": "markers",
         "name": "re",
         "scene": "scene",
         "showlegend": true,
         "type": "scatter3d",
         "x": [
          -0.664251983165741
         ],
         "y": [
          -0.1940760761499405
         ],
         "z": [
          -0.054611943662166595
         ]
        },
        {
         "hovertemplate": "color=hear<br>0=%{x}<br>1=%{y}<br>2=%{z}<extra></extra>",
         "legendgroup": "hear",
         "marker": {
          "color": "#19d3f3",
          "symbol": "circle"
         },
         "mode": "markers",
         "name": "hear",
         "scene": "scene",
         "showlegend": true,
         "type": "scatter3d",
         "x": [
          -0.6819397807121277
         ],
         "y": [
          0.0036589845549315214
         ],
         "z": [
          -0.18915604054927826
         ]
        },
        {
         "hovertemplate": "color=grey<br>0=%{x}<br>1=%{y}<br>2=%{z}<extra></extra>",
         "legendgroup": "grey",
         "marker": {
          "color": "#FF6692",
          "symbol": "circle"
         },
         "mode": "markers",
         "name": "grey",
         "scene": "scene",
         "showlegend": true,
         "type": "scatter3d",
         "x": [
          -0.20420153439044952
         ],
         "y": [
          0.5147679448127747
         ],
         "z": [
          0.06920750439167023
         ]
        },
        {
         "hovertemplate": "color=name<br>0=%{x}<br>1=%{y}<br>2=%{z}<extra></extra>",
         "legendgroup": "name",
         "marker": {
          "color": "#B6E880",
          "symbol": "circle"
         },
         "mode": "markers",
         "name": "name",
         "scene": "scene",
         "showlegend": true,
         "type": "scatter3d",
         "x": [
          -0.7576094269752502
         ],
         "y": [
          -0.37749767303466797
         ],
         "z": [
          0.05449104681611061
         ]
        },
        {
         "hovertemplate": "color=horse<br>0=%{x}<br>1=%{y}<br>2=%{z}<extra></extra>",
         "legendgroup": "horse",
         "marker": {
          "color": "#FF97FF",
          "symbol": "circle"
         },
         "mode": "markers",
         "name": "horse",
         "scene": "scene",
         "showlegend": true,
         "type": "scatter3d",
         "x": [
          -0.5016273856163025
         ],
         "y": [
          0.4870339035987854
         ],
         "z": [
          -0.15863396227359772
         ]
        },
        {
         "hovertemplate": "color=high<br>0=%{x}<br>1=%{y}<br>2=%{z}<extra></extra>",
         "legendgroup": "high",
         "marker": {
          "color": "#FECB52",
          "symbol": "circle"
         },
         "mode": "markers",
         "name": "high",
         "scene": "scene",
         "showlegend": true,
         "type": "scatter3d",
         "x": [
          -0.32192590832710266
         ],
         "y": [
          0.21337845921516418
         ],
         "z": [
          0.3471122086048126
         ]
        },
        {
         "hovertemplate": "color=put<br>0=%{x}<br>1=%{y}<br>2=%{z}<extra></extra>",
         "legendgroup": "put",
         "marker": {
          "color": "#636efa",
          "symbol": "circle"
         },
         "mode": "markers",
         "name": "put",
         "scene": "scene",
         "showlegend": true,
         "type": "scatter3d",
         "x": [
          -0.6572953462600708
         ],
         "y": [
          -0.04297730326652527
         ],
         "z": [
          -0.3950529098510742
         ]
        },
        {
         "hovertemplate": "color=stone<br>0=%{x}<br>1=%{y}<br>2=%{z}<extra></extra>",
         "legendgroup": "stone",
         "marker": {
          "color": "#EF553B",
          "symbol": "circle"
         },
         "mode": "markers",
         "name": "stone",
         "scene": "scene",
         "showlegend": true,
         "type": "scatter3d",
         "x": [
          -0.2838098704814911
         ],
         "y": [
          0.6973659992218018
         ],
         "z": [
          0.3018648028373718
         ]
        },
        {
         "hovertemplate": "color=wine<br>0=%{x}<br>1=%{y}<br>2=%{z}<extra></extra>",
         "legendgroup": "wine",
         "marker": {
          "color": "#00cc96",
          "symbol": "circle"
         },
         "mode": "markers",
         "name": "wine",
         "scene": "scene",
         "showlegend": true,
         "type": "scatter3d",
         "x": [
          -0.46231934428215027
         ],
         "y": [
          0.2179029881954193
         ],
         "z": [
          -0.18810783326625824
         ]
        },
        {
         "hovertemplate": "color=hard<br>0=%{x}<br>1=%{y}<br>2=%{z}<extra></extra>",
         "legendgroup": "hard",
         "marker": {
          "color": "#ab63fa",
          "symbol": "circle"
         },
         "mode": "markers",
         "name": "hard",
         "scene": "scene",
         "showlegend": true,
         "type": "scatter3d",
         "x": [
          -0.5161798596382141
         ],
         "y": [
          0.5024341940879822
         ],
         "z": [
          -0.18108880519866943
         ]
        },
        {
         "hovertemplate": "color=water<br>0=%{x}<br>1=%{y}<br>2=%{z}<extra></extra>",
         "legendgroup": "water",
         "marker": {
          "color": "#FFA15A",
          "symbol": "circle"
         },
         "mode": "markers",
         "name": "water",
         "scene": "scene",
         "showlegend": true,
         "type": "scatter3d",
         "x": [
          -0.435503751039505
         ],
         "y": [
          0.7200837135314941
         ],
         "z": [
          0.028159016743302345
         ]
        },
        {
         "hovertemplate": "color=upon<br>0=%{x}<br>1=%{y}<br>2=%{z}<extra></extra>",
         "legendgroup": "upon",
         "marker": {
          "color": "#19d3f3",
          "symbol": "circle"
         },
         "mode": "markers",
         "name": "upon",
         "scene": "scene",
         "showlegend": true,
         "type": "scatter3d",
         "x": [
          -0.47850510478019714
         ],
         "y": [
          0.2407311350107193
         ],
         "z": [
          0.05216514691710472
         ]
        },
        {
         "hovertemplate": "color=fire<br>0=%{x}<br>1=%{y}<br>2=%{z}<extra></extra>",
         "legendgroup": "fire",
         "marker": {
          "color": "#FF6692",
          "symbol": "circle"
         },
         "mode": "markers",
         "name": "fire",
         "scene": "scene",
         "showlegend": true,
         "type": "scatter3d",
         "x": [
          -0.5187239646911621
         ],
         "y": [
          0.6646447777748108
         ],
         "z": [
          0.21189358830451965
         ]
        },
        {
         "hovertemplate": "color=iron<br>0=%{x}<br>1=%{y}<br>2=%{z}<extra></extra>",
         "legendgroup": "iron",
         "marker": {
          "color": "#B6E880",
          "symbol": "circle"
         },
         "mode": "markers",
         "name": "iron",
         "scene": "scene",
         "showlegend": true,
         "type": "scatter3d",
         "x": [
          -0.3666013181209564
         ],
         "y": [
          0.30697497725486755
         ],
         "z": [
          0.3049635589122772
         ]
        },
        {
         "hovertemplate": "color=until<br>0=%{x}<br>1=%{y}<br>2=%{z}<extra></extra>",
         "legendgroup": "until",
         "marker": {
          "color": "#FF97FF",
          "symbol": "circle"
         },
         "mode": "markers",
         "name": "until",
         "scene": "scene",
         "showlegend": true,
         "type": "scatter3d",
         "x": [
          -0.6995481848716736
         ],
         "y": [
          0.289239764213562
         ],
         "z": [
          -0.12002689391374588
         ]
        },
        {
         "hovertemplate": "color=these<br>0=%{x}<br>1=%{y}<br>2=%{z}<extra></extra>",
         "legendgroup": "these",
         "marker": {
          "color": "#FECB52",
          "symbol": "circle"
         },
         "mode": "markers",
         "name": "these",
         "scene": "scene",
         "showlegend": true,
         "type": "scatter3d",
         "x": [
          -0.6198936700820923
         ],
         "y": [
          -0.26188063621520996
         ],
         "z": [
          0.6332640647888184
         ]
        },
        {
         "hovertemplate": "color=voice<br>0=%{x}<br>1=%{y}<br>2=%{z}<extra></extra>",
         "legendgroup": "voice",
         "marker": {
          "color": "#636efa",
          "symbol": "circle"
         },
         "mode": "markers",
         "name": "voice",
         "scene": "scene",
         "showlegend": true,
         "type": "scatter3d",
         "x": [
          -0.5219343304634094
         ],
         "y": [
          0.11604469269514084
         ],
         "z": [
          -0.2897094190120697
         ]
        },
        {
         "hovertemplate": "color=gone<br>0=%{x}<br>1=%{y}<br>2=%{z}<extra></extra>",
         "legendgroup": "gone",
         "marker": {
          "color": "#EF553B",
          "symbol": "circle"
         },
         "mode": "markers",
         "name": "gone",
         "scene": "scene",
         "showlegend": true,
         "type": "scatter3d",
         "x": [
          -0.6513966917991638
         ],
         "y": [
          0.11715863645076752
         ],
         "z": [
          -0.05449715629220009
         ]
        },
        {
         "hovertemplate": "color=give<br>0=%{x}<br>1=%{y}<br>2=%{z}<extra></extra>",
         "legendgroup": "give",
         "marker": {
          "color": "#00cc96",
          "symbol": "circle"
         },
         "mode": "markers",
         "name": "give",
         "scene": "scene",
         "showlegend": true,
         "type": "scatter3d",
         "x": [
          -0.6778371334075928
         ],
         "y": [
          -0.3788796067237854
         ],
         "z": [
          -0.17509253323078156
         ]
        },
        {
         "hovertemplate": "color=sam<br>0=%{x}<br>1=%{y}<br>2=%{z}<extra></extra>",
         "legendgroup": "sam",
         "marker": {
          "color": "#ab63fa",
          "symbol": "circle"
         },
         "mode": "markers",
         "name": "sam",
         "scene": "scene",
         "showlegend": true,
         "type": "scatter3d",
         "x": [
          -0.5878780484199524
         ],
         "y": [
          0.1729511022567749
         ],
         "z": [
          -0.2559956908226013
         ]
        },
        {
         "hovertemplate": "color=seen<br>0=%{x}<br>1=%{y}<br>2=%{z}<extra></extra>",
         "legendgroup": "seen",
         "marker": {
          "color": "#FFA15A",
          "symbol": "circle"
         },
         "mode": "markers",
         "name": "seen",
         "scene": "scene",
         "showlegend": true,
         "type": "scatter3d",
         "x": [
          -0.6645168662071228
         ],
         "y": [
          0.03443374112248421
         ],
         "z": [
          0.036318883299827576
         ]
        },
        {
         "hovertemplate": "color=better<br>0=%{x}<br>1=%{y}<br>2=%{z}<extra></extra>",
         "legendgroup": "better",
         "marker": {
          "color": "#19d3f3",
          "symbol": "circle"
         },
         "mode": "markers",
         "name": "better",
         "scene": "scene",
         "showlegend": true,
         "type": "scatter3d",
         "x": [
          -0.6637166738510132
         ],
         "y": [
          -0.27929607033729553
         ],
         "z": [
          0.0688706636428833
         ]
        },
        {
         "hovertemplate": "color=shall<br>0=%{x}<br>1=%{y}<br>2=%{z}<extra></extra>",
         "legendgroup": "shall",
         "marker": {
          "color": "#FF6692",
          "symbol": "circle"
         },
         "mode": "markers",
         "name": "shall",
         "scene": "scene",
         "showlegend": true,
         "type": "scatter3d",
         "x": [
          -0.6612712740898132
         ],
         "y": [
          -0.3568207621574402
         ],
         "z": [
          0.11232422292232513
         ]
        },
        {
         "hovertemplate": "color=ned<br>0=%{x}<br>1=%{y}<br>2=%{z}<extra></extra>",
         "legendgroup": "ned",
         "marker": {
          "color": "#B6E880",
          "symbol": "circle"
         },
         "mode": "markers",
         "name": "ned",
         "scene": "scene",
         "showlegend": true,
         "type": "scatter3d",
         "x": [
          -0.5796999335289001
         ],
         "y": [
          -0.16770878434181213
         ],
         "z": [
          -0.12880782783031464
         ]
        },
        {
         "hovertemplate": "color=always<br>0=%{x}<br>1=%{y}<br>2=%{z}<extra></extra>",
         "legendgroup": "always",
         "marker": {
          "color": "#FF97FF",
          "symbol": "circle"
         },
         "mode": "markers",
         "name": "always",
         "scene": "scene",
         "showlegend": true,
         "type": "scatter3d",
         "x": [
          -0.6820055246353149
         ],
         "y": [
          -0.271821528673172
         ],
         "z": [
          0.06643715500831604
         ]
        },
        {
         "hovertemplate": "color=years<br>0=%{x}<br>1=%{y}<br>2=%{z}<extra></extra>",
         "legendgroup": "years",
         "marker": {
          "color": "#FECB52",
          "symbol": "circle"
         },
         "mode": "markers",
         "name": "years",
         "scene": "scene",
         "showlegend": true,
         "type": "scatter3d",
         "x": [
          -0.6226434111595154
         ],
         "y": [
          -0.15951769053936005
         ],
         "z": [
          0.3693343997001648
         ]
        },
        {
         "hovertemplate": "color=between<br>0=%{x}<br>1=%{y}<br>2=%{z}<extra></extra>",
         "legendgroup": "between",
         "marker": {
          "color": "#636efa",
          "symbol": "circle"
         },
         "mode": "markers",
         "name": "between",
         "scene": "scene",
         "showlegend": true,
         "type": "scatter3d",
         "x": [
          -0.36037755012512207
         ],
         "y": [
          0.5023365020751953
         ],
         "z": [
          -0.13220635056495667
         ]
        },
        {
         "hovertemplate": "color=dark<br>0=%{x}<br>1=%{y}<br>2=%{z}<extra></extra>",
         "legendgroup": "dark",
         "marker": {
          "color": "#EF553B",
          "symbol": "circle"
         },
         "mode": "markers",
         "name": "dark",
         "scene": "scene",
         "showlegend": true,
         "type": "scatter3d",
         "x": [
          -0.34278902411460876
         ],
         "y": [
          0.6277737617492676
         ],
         "z": [
          0.12209918349981308
         ]
        },
        {
         "hovertemplate": "color=place<br>0=%{x}<br>1=%{y}<br>2=%{z}<extra></extra>",
         "legendgroup": "place",
         "marker": {
          "color": "#00cc96",
          "symbol": "circle"
         },
         "mode": "markers",
         "name": "place",
         "scene": "scene",
         "showlegend": true,
         "type": "scatter3d",
         "x": [
          -0.7243974804878235
         ],
         "y": [
          0.010338089428842068
         ],
         "z": [
          0.3014986217021942
         ]
        },
        {
         "hovertemplate": "color=small<br>0=%{x}<br>1=%{y}<br>2=%{z}<extra></extra>",
         "legendgroup": "small",
         "marker": {
          "color": "#ab63fa",
          "symbol": "circle"
         },
         "mode": "markers",
         "name": "small",
         "scene": "scene",
         "showlegend": true,
         "type": "scatter3d",
         "x": [
          -0.2841823101043701
         ],
         "y": [
          0.2902635633945465
         ],
         "z": [
          0.2838512659072876
         ]
        },
        {
         "hovertemplate": "color=cold<br>0=%{x}<br>1=%{y}<br>2=%{z}<extra></extra>",
         "legendgroup": "cold",
         "marker": {
          "color": "#FFA15A",
          "symbol": "circle"
         },
         "mode": "markers",
         "name": "cold",
         "scene": "scene",
         "showlegend": true,
         "type": "scatter3d",
         "x": [
          -0.5365848541259766
         ],
         "y": [
          0.5359442234039307
         ],
         "z": [
          -0.029064679518342018
         ]
        },
        {
         "hovertemplate": "color=winterfell<br>0=%{x}<br>1=%{y}<br>2=%{z}<extra></extra>",
         "legendgroup": "winterfell",
         "marker": {
          "color": "#19d3f3",
          "symbol": "circle"
         },
         "mode": "markers",
         "name": "winterfell",
         "scene": "scene",
         "showlegend": true,
         "type": "scatter3d",
         "x": [
          -0.681026041507721
         ],
         "y": [
          -0.17246434092521667
         ],
         "z": [
          0.29920703172683716
         ]
        },
        {
         "hovertemplate": "color=most<br>0=%{x}<br>1=%{y}<br>2=%{z}<extra></extra>",
         "legendgroup": "most",
         "marker": {
          "color": "#FF6692",
          "symbol": "circle"
         },
         "mode": "markers",
         "name": "most",
         "scene": "scene",
         "showlegend": true,
         "type": "scatter3d",
         "x": [
          -0.5903750061988831
         ],
         "y": [
          -0.2999769449234009
         ],
         "z": [
          0.5404090881347656
         ]
        },
        {
         "hovertemplate": "color=hundred<br>0=%{x}<br>1=%{y}<br>2=%{z}<extra></extra>",
         "legendgroup": "hundred",
         "marker": {
          "color": "#B6E880",
          "symbol": "circle"
         },
         "mode": "markers",
         "name": "hundred",
         "scene": "scene",
         "showlegend": true,
         "type": "scatter3d",
         "x": [
          -0.41428399085998535
         ],
         "y": [
          0.089680977165699
         ],
         "z": [
          0.591873824596405
         ]
        },
        {
         "hovertemplate": "color=stood<br>0=%{x}<br>1=%{y}<br>2=%{z}<extra></extra>",
         "legendgroup": "stood",
         "marker": {
          "color": "#FF97FF",
          "symbol": "circle"
         },
         "mode": "markers",
         "name": "stood",
         "scene": "scene",
         "showlegend": true,
         "type": "scatter3d",
         "x": [
          -0.3625858724117279
         ],
         "y": [
          0.3581230938434601
         ],
         "z": [
          -0.05381706729531288
         ]
        },
        {
         "hovertemplate": "color=end<br>0=%{x}<br>1=%{y}<br>2=%{z}<extra></extra>",
         "legendgroup": "end",
         "marker": {
          "color": "#FECB52",
          "symbol": "circle"
         },
         "mode": "markers",
         "name": "end",
         "scene": "scene",
         "showlegend": true,
         "type": "scatter3d",
         "x": [
          -0.6763197183609009
         ],
         "y": [
          0.08388200402259827
         ],
         "z": [
          0.23866045475006104
         ]
        },
        {
         "hovertemplate": "color=sister<br>0=%{x}<br>1=%{y}<br>2=%{z}<extra></extra>",
         "legendgroup": "sister",
         "marker": {
          "color": "#636efa",
          "symbol": "circle"
         },
         "mode": "markers",
         "name": "sister",
         "scene": "scene",
         "showlegend": true,
         "type": "scatter3d",
         "x": [
          -0.6823331117630005
         ],
         "y": [
          -0.42111703753471375
         ],
         "z": [
          -0.101203054189682
         ]
        },
        {
         "hovertemplate": "color=words<br>0=%{x}<br>1=%{y}<br>2=%{z}<extra></extra>",
         "legendgroup": "words",
         "marker": {
          "color": "#EF553B",
          "symbol": "circle"
         },
         "mode": "markers",
         "name": "words",
         "scene": "scene",
         "showlegend": true,
         "type": "scatter3d",
         "x": [
          -0.7137272953987122
         ],
         "y": [
          -0.06214069575071335
         ],
         "z": [
          -0.07018257677555084
         ]
        },
        {
         "hovertemplate": "color=sea<br>0=%{x}<br>1=%{y}<br>2=%{z}<extra></extra>",
         "legendgroup": "sea",
         "marker": {
          "color": "#00cc96",
          "symbol": "circle"
         },
         "mode": "markers",
         "name": "sea",
         "scene": "scene",
         "showlegend": true,
         "type": "scatter3d",
         "x": [
          -0.5538049340248108
         ],
         "y": [
          0.27811405062675476
         ],
         "z": [
          0.5806957483291626
         ]
        },
        {
         "hovertemplate": "color=right<br>0=%{x}<br>1=%{y}<br>2=%{z}<extra></extra>",
         "legendgroup": "right",
         "marker": {
          "color": "#ab63fa",
          "symbol": "circle"
         },
         "mode": "markers",
         "name": "right",
         "scene": "scene",
         "showlegend": true,
         "type": "scatter3d",
         "x": [
          -0.6208338141441345
         ],
         "y": [
          0.2756388485431671
         ],
         "z": [
          -0.21845228970050812
         ]
        },
        {
         "hovertemplate": "color=nothing<br>0=%{x}<br>1=%{y}<br>2=%{z}<extra></extra>",
         "legendgroup": "nothing",
         "marker": {
          "color": "#FFA15A",
          "symbol": "circle"
         },
         "mode": "markers",
         "name": "nothing",
         "scene": "scene",
         "showlegend": true,
         "type": "scatter3d",
         "x": [
          -0.6868341565132141
         ],
         "y": [
          -0.03948156163096428
         ],
         "z": [
          0.12156064063310623
         ]
        },
        {
         "hovertemplate": "color=walls<br>0=%{x}<br>1=%{y}<br>2=%{z}<extra></extra>",
         "legendgroup": "walls",
         "marker": {
          "color": "#19d3f3",
          "symbol": "circle"
         },
         "mode": "markers",
         "name": "walls",
         "scene": "scene",
         "showlegend": true,
         "type": "scatter3d",
         "x": [
          -0.41298314929008484
         ],
         "y": [
          0.5419219136238098
         ],
         "z": [
          0.5651727318763733
         ]
        },
        {
         "hovertemplate": "color=fingers<br>0=%{x}<br>1=%{y}<br>2=%{z}<extra></extra>",
         "legendgroup": "fingers",
         "marker": {
          "color": "#FF6692",
          "symbol": "circle"
         },
         "mode": "markers",
         "name": "fingers",
         "scene": "scene",
         "showlegend": true,
         "type": "scatter3d",
         "x": [
          -0.43915069103240967
         ],
         "y": [
          0.5947184562683105
         ],
         "z": [
          -0.34534260630607605
         ]
        },
        {
         "hovertemplate": "color=same<br>0=%{x}<br>1=%{y}<br>2=%{z}<extra></extra>",
         "legendgroup": "same",
         "marker": {
          "color": "#B6E880",
          "symbol": "circle"
         },
         "mode": "markers",
         "name": "same",
         "scene": "scene",
         "showlegend": true,
         "type": "scatter3d",
         "x": [
          -0.6902706027030945
         ],
         "y": [
          -0.07634438574314117
         ],
         "z": [
          0.060906246304512024
         ]
        },
        {
         "hovertemplate": "color=cloak<br>0=%{x}<br>1=%{y}<br>2=%{z}<extra></extra>",
         "legendgroup": "cloak",
         "marker": {
          "color": "#FF97FF",
          "symbol": "circle"
         },
         "mode": "markers",
         "name": "cloak",
         "scene": "scene",
         "showlegend": true,
         "type": "scatter3d",
         "x": [
          -0.32635316252708435
         ],
         "y": [
          0.5096580982208252
         ],
         "z": [
          -0.1961536854505539
         ]
        },
        {
         "hovertemplate": "color=house<br>0=%{x}<br>1=%{y}<br>2=%{z}<extra></extra>",
         "legendgroup": "house",
         "marker": {
          "color": "#FECB52",
          "symbol": "circle"
         },
         "mode": "markers",
         "name": "house",
         "scene": "scene",
         "showlegend": true,
         "type": "scatter3d",
         "x": [
          -0.40728241205215454
         ],
         "y": [
          -0.25835612416267395
         ],
         "z": [
          0.3055807650089264
         ]
        },
        {
         "hovertemplate": "color=young<br>0=%{x}<br>1=%{y}<br>2=%{z}<extra></extra>",
         "legendgroup": "young",
         "marker": {
          "color": "#636efa",
          "symbol": "circle"
         },
         "mode": "markers",
         "name": "young",
         "scene": "scene",
         "showlegend": true,
         "type": "scatter3d",
         "x": [
          -0.46938157081604004
         ],
         "y": [
          -0.39968106150627136
         ],
         "z": [
          0.04099366441369057
         ]
        },
        {
         "hovertemplate": "color=does<br>0=%{x}<br>1=%{y}<br>2=%{z}<extra></extra>",
         "legendgroup": "does",
         "marker": {
          "color": "#EF553B",
          "symbol": "circle"
         },
         "mode": "markers",
         "name": "does",
         "scene": "scene",
         "showlegend": true,
         "type": "scatter3d",
         "x": [
          -0.6755346059799194
         ],
         "y": [
          -0.46453022956848145
         ],
         "z": [
          -0.11789718270301819
         ]
        },
        {
         "hovertemplate": "color=beside<br>0=%{x}<br>1=%{y}<br>2=%{z}<extra></extra>",
         "legendgroup": "beside",
         "marker": {
          "color": "#00cc96",
          "symbol": "circle"
         },
         "mode": "markers",
         "name": "beside",
         "scene": "scene",
         "showlegend": true,
         "type": "scatter3d",
         "x": [
          -0.3956194519996643
         ],
         "y": [
          0.3136787414550781
         ],
         "z": [
          -0.26936283707618713
         ]
        },
        {
         "hovertemplate": "color=get<br>0=%{x}<br>1=%{y}<br>2=%{z}<extra></extra>",
         "legendgroup": "get",
         "marker": {
          "color": "#ab63fa",
          "symbol": "circle"
         },
         "mode": "markers",
         "name": "get",
         "scene": "scene",
         "showlegend": true,
         "type": "scatter3d",
         "x": [
          -0.7443755269050598
         ],
         "y": [
          0.0197688527405262
         ],
         "z": [
          -0.19388212263584137
         ]
        },
        {
         "hovertemplate": "color=mouth<br>0=%{x}<br>1=%{y}<br>2=%{z}<extra></extra>",
         "legendgroup": "mouth",
         "marker": {
          "color": "#FFA15A",
          "symbol": "circle"
         },
         "mode": "markers",
         "name": "mouth",
         "scene": "scene",
         "showlegend": true,
         "type": "scatter3d",
         "x": [
          -0.48371297121047974
         ],
         "y": [
          0.5059872269630432
         ],
         "z": [
          -0.41362079977989197
         ]
        },
        {
         "hovertemplate": "color=seven<br>0=%{x}<br>1=%{y}<br>2=%{z}<extra></extra>",
         "legendgroup": "seven",
         "marker": {
          "color": "#19d3f3",
          "symbol": "circle"
         },
         "mode": "markers",
         "name": "seven",
         "scene": "scene",
         "showlegend": true,
         "type": "scatter3d",
         "x": [
          -0.5579496026039124
         ],
         "y": [
          -0.2078913003206253
         ],
         "z": [
          0.7392672896385193
         ]
        },
        {
         "hovertemplate": "color=watch<br>0=%{x}<br>1=%{y}<br>2=%{z}<extra></extra>",
         "legendgroup": "watch",
         "marker": {
          "color": "#FF6692",
          "symbol": "circle"
         },
         "mode": "markers",
         "name": "watch",
         "scene": "scene",
         "showlegend": true,
         "type": "scatter3d",
         "x": [
          -0.6586876511573792
         ],
         "y": [
          -0.18196187913417816
         ],
         "z": [
          0.26791098713874817
         ]
        },
        {
         "hovertemplate": "color=door<br>0=%{x}<br>1=%{y}<br>2=%{z}<extra></extra>",
         "legendgroup": "door",
         "marker": {
          "color": "#B6E880",
          "symbol": "circle"
         },
         "mode": "markers",
         "name": "door",
         "scene": "scene",
         "showlegend": true,
         "type": "scatter3d",
         "x": [
          -0.5031376481056213
         ],
         "y": [
          0.5328890681266785
         ],
         "z": [
          -0.17047056555747986
         ]
        },
        {
         "hovertemplate": "color=joffrey<br>0=%{x}<br>1=%{y}<br>2=%{z}<extra></extra>",
         "legendgroup": "joffrey",
         "marker": {
          "color": "#FF97FF",
          "symbol": "circle"
         },
         "mode": "markers",
         "name": "joffrey",
         "scene": "scene",
         "showlegend": true,
         "type": "scatter3d",
         "x": [
          -0.6157663464546204
         ],
         "y": [
          -0.3376622796058655
         ],
         "z": [
          -0.1130770668387413
         ]
        },
        {
         "hovertemplate": "color=green<br>0=%{x}<br>1=%{y}<br>2=%{z}<extra></extra>",
         "legendgroup": "green",
         "marker": {
          "color": "#FECB52",
          "symbol": "circle"
         },
         "mode": "markers",
         "name": "green",
         "scene": "scene",
         "showlegend": true,
         "type": "scatter3d",
         "x": [
          -0.17399872839450836
         ],
         "y": [
          0.4526863694190979
         ],
         "z": [
          0.23063351213932037
         ]
        },
        {
         "hovertemplate": "color=big<br>0=%{x}<br>1=%{y}<br>2=%{z}<extra></extra>",
         "legendgroup": "big",
         "marker": {
          "color": "#636efa",
          "symbol": "circle"
         },
         "mode": "markers",
         "name": "big",
         "scene": "scene",
         "showlegend": true,
         "type": "scatter3d",
         "x": [
          -0.3132220208644867
         ],
         "y": [
          0.32006365060806274
         ],
         "z": [
          -0.16458500921726227
         ]
        },
        {
         "hovertemplate": "color=under<br>0=%{x}<br>1=%{y}<br>2=%{z}<extra></extra>",
         "legendgroup": "under",
         "marker": {
          "color": "#EF553B",
          "symbol": "circle"
         },
         "mode": "markers",
         "name": "under",
         "scene": "scene",
         "showlegend": true,
         "type": "scatter3d",
         "x": [
          -0.2685128152370453
         ],
         "y": [
          0.5915462374687195
         ],
         "z": [
          -0.20568284392356873
         ]
        },
        {
         "hovertemplate": "color=few<br>0=%{x}<br>1=%{y}<br>2=%{z}<extra></extra>",
         "legendgroup": "few",
         "marker": {
          "color": "#00cc96",
          "symbol": "circle"
         },
         "mode": "markers",
         "name": "few",
         "scene": "scene",
         "showlegend": true,
         "type": "scatter3d",
         "x": [
          -0.5053244233131409
         ],
         "y": [
          0.1333344429731369
         ],
         "z": [
          0.3990348279476166
         ]
        },
        {
         "hovertemplate": "color=sent<br>0=%{x}<br>1=%{y}<br>2=%{z}<extra></extra>",
         "legendgroup": "sent",
         "marker": {
          "color": "#ab63fa",
          "symbol": "circle"
         },
         "mode": "markers",
         "name": "sent",
         "scene": "scene",
         "showlegend": true,
         "type": "scatter3d",
         "x": [
          -0.6189749240875244
         ],
         "y": [
          -0.128065288066864
         ],
         "z": [
          -0.20266470313072205
         ]
        },
        {
         "hovertemplate": "color=perhaps<br>0=%{x}<br>1=%{y}<br>2=%{z}<extra></extra>",
         "legendgroup": "perhaps",
         "marker": {
          "color": "#FFA15A",
          "symbol": "circle"
         },
         "mode": "markers",
         "name": "perhaps",
         "scene": "scene",
         "showlegend": true,
         "type": "scatter3d",
         "x": [
          -0.701501190662384
         ],
         "y": [
          -0.5191797614097595
         ],
         "z": [
          0.11383680999279022
         ]
        },
        {
         "hovertemplate": "color=almost<br>0=%{x}<br>1=%{y}<br>2=%{z}<extra></extra>",
         "legendgroup": "almost",
         "marker": {
          "color": "#19d3f3",
          "symbol": "circle"
         },
         "mode": "markers",
         "name": "almost",
         "scene": "scene",
         "showlegend": true,
         "type": "scatter3d",
         "x": [
          -0.5368223190307617
         ],
         "y": [
          0.356417715549469
         ],
         "z": [
          -0.3033334016799927
         ]
        },
        {
         "hovertemplate": "color=such<br>0=%{x}<br>1=%{y}<br>2=%{z}<extra></extra>",
         "legendgroup": "such",
         "marker": {
          "color": "#FF6692",
          "symbol": "circle"
         },
         "mode": "markers",
         "name": "such",
         "scene": "scene",
         "showlegend": true,
         "type": "scatter3d",
         "x": [
          -0.6605968475341797
         ],
         "y": [
          -0.48571744561195374
         ],
         "z": [
          0.266213059425354
         ]
        },
        {
         "hovertemplate": "color=wanted<br>0=%{x}<br>1=%{y}<br>2=%{z}<extra></extra>",
         "legendgroup": "wanted",
         "marker": {
          "color": "#B6E880",
          "symbol": "circle"
         },
         "mode": "markers",
         "name": "wanted",
         "scene": "scene",
         "showlegend": true,
         "type": "scatter3d",
         "x": [
          -0.7734960317611694
         ],
         "y": [
          -0.2659577429294586
         ],
         "z": [
          -0.32973653078079224
         ]
        },
        {
         "hovertemplate": "color=daughter<br>0=%{x}<br>1=%{y}<br>2=%{z}<extra></extra>",
         "legendgroup": "daughter",
         "marker": {
          "color": "#FF97FF",
          "symbol": "circle"
         },
         "mode": "markers",
         "name": "daughter",
         "scene": "scene",
         "showlegend": true,
         "type": "scatter3d",
         "x": [
          -0.43482640385627747
         ],
         "y": [
          -0.49123769998550415
         ],
         "z": [
          0.029568353667855263
         ]
        },
        {
         "hovertemplate": "color=true<br>0=%{x}<br>1=%{y}<br>2=%{z}<extra></extra>",
         "legendgroup": "true",
         "marker": {
          "color": "#FECB52",
          "symbol": "circle"
         },
         "mode": "markers",
         "name": "true",
         "scene": "scene",
         "showlegend": true,
         "type": "scatter3d",
         "x": [
          -0.6758331656455994
         ],
         "y": [
          -0.5673220753669739
         ],
         "z": [
          0.17512789368629456
         ]
        },
        {
         "hovertemplate": "color=while<br>0=%{x}<br>1=%{y}<br>2=%{z}<extra></extra>",
         "legendgroup": "while",
         "marker": {
          "color": "#636efa",
          "symbol": "circle"
         },
         "mode": "markers",
         "name": "while",
         "scene": "scene",
         "showlegend": true,
         "type": "scatter3d",
         "x": [
          -0.40474414825439453
         ],
         "y": [
          0.38960710167884827
         ],
         "z": [
          -0.06794776022434235
         ]
        },
        {
         "hovertemplate": "color=leave<br>0=%{x}<br>1=%{y}<br>2=%{z}<extra></extra>",
         "legendgroup": "leave",
         "marker": {
          "color": "#EF553B",
          "symbol": "circle"
         },
         "mode": "markers",
         "name": "leave",
         "scene": "scene",
         "showlegend": true,
         "type": "scatter3d",
         "x": [
          -0.7407796382904053
         ],
         "y": [
          -0.3047175109386444
         ],
         "z": [
          -0.09346998482942581
         ]
        },
        {
         "hovertemplate": "color=city<br>0=%{x}<br>1=%{y}<br>2=%{z}<extra></extra>",
         "legendgroup": "city",
         "marker": {
          "color": "#00cc96",
          "symbol": "circle"
         },
         "mode": "markers",
         "name": "city",
         "scene": "scene",
         "showlegend": true,
         "type": "scatter3d",
         "x": [
          -0.6299841403961182
         ],
         "y": [
          0.0303457323461771
         ],
         "z": [
          0.6756173372268677
         ]
        },
        {
         "hovertemplate": "color=wind<br>0=%{x}<br>1=%{y}<br>2=%{z}<extra></extra>",
         "legendgroup": "wind",
         "marker": {
          "color": "#ab63fa",
          "symbol": "circle"
         },
         "mode": "markers",
         "name": "wind",
         "scene": "scene",
         "showlegend": true,
         "type": "scatter3d",
         "x": [
          -0.43281593918800354
         ],
         "y": [
          0.7120970487594604
         ],
         "z": [
          0.08509256690740585
         ]
        },
        {
         "hovertemplate": "color=light<br>0=%{x}<br>1=%{y}<br>2=%{z}<extra></extra>",
         "legendgroup": "light",
         "marker": {
          "color": "#FFA15A",
          "symbol": "circle"
         },
         "mode": "markers",
         "name": "light",
         "scene": "scene",
         "showlegend": true,
         "type": "scatter3d",
         "x": [
          -0.486702024936676
         ],
         "y": [
          0.5153437256813049
         ],
         "z": [
          0.19543232023715973
         ]
        },
        {
         "hovertemplate": "color=arms<br>0=%{x}<br>1=%{y}<br>2=%{z}<extra></extra>",
         "legendgroup": "arms",
         "marker": {
          "color": "#19d3f3",
          "symbol": "circle"
         },
         "mode": "markers",
         "name": "arms",
         "scene": "scene",
         "showlegend": true,
         "type": "scatter3d",
         "x": [
          -0.4119310975074768
         ],
         "y": [
          0.28629884123802185
         ],
         "z": [
          -0.12513260543346405
         ]
        },
        {
         "hovertemplate": "color=children<br>0=%{x}<br>1=%{y}<br>2=%{z}<extra></extra>",
         "legendgroup": "children",
         "marker": {
          "color": "#FF6692",
          "symbol": "circle"
         },
         "mode": "markers",
         "name": "children",
         "scene": "scene",
         "showlegend": true,
         "type": "scatter3d",
         "x": [
          -0.604274332523346
         ],
         "y": [
          -0.21494968235492706
         ],
         "z": [
          0.5054079294204712
         ]
        },
        {
         "hovertemplate": "color=herself<br>0=%{x}<br>1=%{y}<br>2=%{z}<extra></extra>",
         "legendgroup": "herself",
         "marker": {
          "color": "#B6E880",
          "symbol": "circle"
         },
         "mode": "markers",
         "name": "herself",
         "scene": "scene",
         "showlegend": true,
         "type": "scatter3d",
         "x": [
          -0.5908636450767517
         ],
         "y": [
          0.04805629327893257
         ],
         "z": [
          -0.2075757533311844
         ]
        },
        {
         "hovertemplate": "color=sweet<br>0=%{x}<br>1=%{y}<br>2=%{z}<extra></extra>",
         "legendgroup": "sweet",
         "marker": {
          "color": "#FF97FF",
          "symbol": "circle"
         },
         "mode": "markers",
         "name": "sweet",
         "scene": "scene",
         "showlegend": true,
         "type": "scatter3d",
         "x": [
          -0.527243971824646
         ],
         "y": [
          -0.29595252871513367
         ],
         "z": [
          -0.18496835231781006
         ]
        },
        {
         "hovertemplate": "color=others<br>0=%{x}<br>1=%{y}<br>2=%{z}<extra></extra>",
         "legendgroup": "others",
         "marker": {
          "color": "#FECB52",
          "symbol": "circle"
         },
         "mode": "markers",
         "name": "others",
         "scene": "scene",
         "showlegend": true,
         "type": "scatter3d",
         "x": [
          -0.52177494764328
         ],
         "y": [
          0.1077975258231163
         ],
         "z": [
          0.3835001587867737
         ]
        },
        {
         "hovertemplate": "color=lost<br>0=%{x}<br>1=%{y}<br>2=%{z}<extra></extra>",
         "legendgroup": "lost",
         "marker": {
          "color": "#636efa",
          "symbol": "circle"
         },
         "mode": "markers",
         "name": "lost",
         "scene": "scene",
         "showlegend": true,
         "type": "scatter3d",
         "x": [
          -0.6426180005073547
         ],
         "y": [
          -0.14918984472751617
         ],
         "z": [
          -0.008593528531491756
         ]
        },
        {
         "hovertemplate": "color=theon<br>0=%{x}<br>1=%{y}<br>2=%{z}<extra></extra>",
         "legendgroup": "theon",
         "marker": {
          "color": "#EF553B",
          "symbol": "circle"
         },
         "mode": "markers",
         "name": "theon",
         "scene": "scene",
         "showlegend": true,
         "type": "scatter3d",
         "x": [
          -0.5489533543586731
         ],
         "y": [
          -0.09392925351858139
         ],
         "z": [
          -0.17266887426376343
         ]
        },
        {
         "hovertemplate": "color=each<br>0=%{x}<br>1=%{y}<br>2=%{z}<extra></extra>",
         "legendgroup": "each",
         "marker": {
          "color": "#00cc96",
          "symbol": "circle"
         },
         "mode": "markers",
         "name": "each",
         "scene": "scene",
         "showlegend": true,
         "type": "scatter3d",
         "x": [
          -0.4437844157218933
         ],
         "y": [
          0.36253368854522705
         ],
         "z": [
          0.24568744003772736
         ]
        },
        {
         "hovertemplate": "color=felt<br>0=%{x}<br>1=%{y}<br>2=%{z}<extra></extra>",
         "legendgroup": "felt",
         "marker": {
          "color": "#ab63fa",
          "symbol": "circle"
         },
         "mode": "markers",
         "name": "felt",
         "scene": "scene",
         "showlegend": true,
         "type": "scatter3d",
         "x": [
          -0.587116003036499
         ],
         "y": [
          0.2966683804988861
         ],
         "z": [
          -0.47412413358688354
         ]
        },
        {
         "hovertemplate": "color=side<br>0=%{x}<br>1=%{y}<br>2=%{z}<extra></extra>",
         "legendgroup": "side",
         "marker": {
          "color": "#FFA15A",
          "symbol": "circle"
         },
         "mode": "markers",
         "name": "side",
         "scene": "scene",
         "showlegend": true,
         "type": "scatter3d",
         "x": [
          -0.5374946594238281
         ],
         "y": [
          0.44557031989097595
         ],
         "z": [
          0.03620385751128197
         ]
        },
        {
         "hovertemplate": "color=yes<br>0=%{x}<br>1=%{y}<br>2=%{z}<extra></extra>",
         "legendgroup": "yes",
         "marker": {
          "color": "#19d3f3",
          "symbol": "circle"
         },
         "mode": "markers",
         "name": "yes",
         "scene": "scene",
         "showlegend": true,
         "type": "scatter3d",
         "x": [
          -0.6014100909233093
         ],
         "y": [
          -0.5681111216545105
         ],
         "z": [
          -0.09310618042945862
         ]
        },
        {
         "hovertemplate": "color=brothers<br>0=%{x}<br>1=%{y}<br>2=%{z}<extra></extra>",
         "legendgroup": "brothers",
         "marker": {
          "color": "#FF6692",
          "symbol": "circle"
         },
         "mode": "markers",
         "name": "brothers",
         "scene": "scene",
         "showlegend": true,
         "type": "scatter3d",
         "x": [
          -0.6213321685791016
         ],
         "y": [
          -0.14750944077968597
         ],
         "z": [
          0.3696230947971344
         ]
        },
        {
         "hovertemplate": "color=best<br>0=%{x}<br>1=%{y}<br>2=%{z}<extra></extra>",
         "legendgroup": "best",
         "marker": {
          "color": "#B6E880",
          "symbol": "circle"
         },
         "mode": "markers",
         "name": "best",
         "scene": "scene",
         "showlegend": true,
         "type": "scatter3d",
         "x": [
          -0.7853802442550659
         ],
         "y": [
          -0.3356035351753235
         ],
         "z": [
          0.1439209133386612
         ]
        },
        {
         "hovertemplate": "color=very<br>0=%{x}<br>1=%{y}<br>2=%{z}<extra></extra>",
         "legendgroup": "very",
         "marker": {
          "color": "#FF97FF",
          "symbol": "circle"
         },
         "mode": "markers",
         "name": "very",
         "scene": "scene",
         "showlegend": true,
         "type": "scatter3d",
         "x": [
          -0.5463050007820129
         ],
         "y": [
          -0.1982966661453247
         ],
         "z": [
          -0.03285137563943863
         ]
        },
        {
         "hovertemplate": "color=die<br>0=%{x}<br>1=%{y}<br>2=%{z}<extra></extra>",
         "legendgroup": "die",
         "marker": {
          "color": "#FECB52",
          "symbol": "circle"
         },
         "mode": "markers",
         "name": "die",
         "scene": "scene",
         "showlegend": true,
         "type": "scatter3d",
         "x": [
          -0.7937201857566833
         ],
         "y": [
          -0.2633901536464691
         ],
         "z": [
          0.057812534272670746
         ]
        }
       ],
       "layout": {
        "legend": {
         "title": {
          "text": "color"
         },
         "tracegroupgap": 0
        },
        "margin": {
         "t": 60
        },
        "scene": {
         "domain": {
          "x": [
           0,
           1
          ],
          "y": [
           0,
           1
          ]
         },
         "xaxis": {
          "title": {
           "text": "0"
          }
         },
         "yaxis": {
          "title": {
           "text": "1"
          }
         },
         "zaxis": {
          "title": {
           "text": "2"
          }
         }
        },
        "template": {
         "data": {
          "bar": [
           {
            "error_x": {
             "color": "#2a3f5f"
            },
            "error_y": {
             "color": "#2a3f5f"
            },
            "marker": {
             "line": {
              "color": "#E5ECF6",
              "width": 0.5
             }
            },
            "type": "bar"
           }
          ],
          "barpolar": [
           {
            "marker": {
             "line": {
              "color": "#E5ECF6",
              "width": 0.5
             }
            },
            "type": "barpolar"
           }
          ],
          "carpet": [
           {
            "aaxis": {
             "endlinecolor": "#2a3f5f",
             "gridcolor": "white",
             "linecolor": "white",
             "minorgridcolor": "white",
             "startlinecolor": "#2a3f5f"
            },
            "baxis": {
             "endlinecolor": "#2a3f5f",
             "gridcolor": "white",
             "linecolor": "white",
             "minorgridcolor": "white",
             "startlinecolor": "#2a3f5f"
            },
            "type": "carpet"
           }
          ],
          "choropleth": [
           {
            "colorbar": {
             "outlinewidth": 0,
             "ticks": ""
            },
            "type": "choropleth"
           }
          ],
          "contour": [
           {
            "colorbar": {
             "outlinewidth": 0,
             "ticks": ""
            },
            "colorscale": [
             [
              0,
              "#0d0887"
             ],
             [
              0.1111111111111111,
              "#46039f"
             ],
             [
              0.2222222222222222,
              "#7201a8"
             ],
             [
              0.3333333333333333,
              "#9c179e"
             ],
             [
              0.4444444444444444,
              "#bd3786"
             ],
             [
              0.5555555555555556,
              "#d8576b"
             ],
             [
              0.6666666666666666,
              "#ed7953"
             ],
             [
              0.7777777777777778,
              "#fb9f3a"
             ],
             [
              0.8888888888888888,
              "#fdca26"
             ],
             [
              1,
              "#f0f921"
             ]
            ],
            "type": "contour"
           }
          ],
          "contourcarpet": [
           {
            "colorbar": {
             "outlinewidth": 0,
             "ticks": ""
            },
            "type": "contourcarpet"
           }
          ],
          "heatmap": [
           {
            "colorbar": {
             "outlinewidth": 0,
             "ticks": ""
            },
            "colorscale": [
             [
              0,
              "#0d0887"
             ],
             [
              0.1111111111111111,
              "#46039f"
             ],
             [
              0.2222222222222222,
              "#7201a8"
             ],
             [
              0.3333333333333333,
              "#9c179e"
             ],
             [
              0.4444444444444444,
              "#bd3786"
             ],
             [
              0.5555555555555556,
              "#d8576b"
             ],
             [
              0.6666666666666666,
              "#ed7953"
             ],
             [
              0.7777777777777778,
              "#fb9f3a"
             ],
             [
              0.8888888888888888,
              "#fdca26"
             ],
             [
              1,
              "#f0f921"
             ]
            ],
            "type": "heatmap"
           }
          ],
          "heatmapgl": [
           {
            "colorbar": {
             "outlinewidth": 0,
             "ticks": ""
            },
            "colorscale": [
             [
              0,
              "#0d0887"
             ],
             [
              0.1111111111111111,
              "#46039f"
             ],
             [
              0.2222222222222222,
              "#7201a8"
             ],
             [
              0.3333333333333333,
              "#9c179e"
             ],
             [
              0.4444444444444444,
              "#bd3786"
             ],
             [
              0.5555555555555556,
              "#d8576b"
             ],
             [
              0.6666666666666666,
              "#ed7953"
             ],
             [
              0.7777777777777778,
              "#fb9f3a"
             ],
             [
              0.8888888888888888,
              "#fdca26"
             ],
             [
              1,
              "#f0f921"
             ]
            ],
            "type": "heatmapgl"
           }
          ],
          "histogram": [
           {
            "marker": {
             "colorbar": {
              "outlinewidth": 0,
              "ticks": ""
             }
            },
            "type": "histogram"
           }
          ],
          "histogram2d": [
           {
            "colorbar": {
             "outlinewidth": 0,
             "ticks": ""
            },
            "colorscale": [
             [
              0,
              "#0d0887"
             ],
             [
              0.1111111111111111,
              "#46039f"
             ],
             [
              0.2222222222222222,
              "#7201a8"
             ],
             [
              0.3333333333333333,
              "#9c179e"
             ],
             [
              0.4444444444444444,
              "#bd3786"
             ],
             [
              0.5555555555555556,
              "#d8576b"
             ],
             [
              0.6666666666666666,
              "#ed7953"
             ],
             [
              0.7777777777777778,
              "#fb9f3a"
             ],
             [
              0.8888888888888888,
              "#fdca26"
             ],
             [
              1,
              "#f0f921"
             ]
            ],
            "type": "histogram2d"
           }
          ],
          "histogram2dcontour": [
           {
            "colorbar": {
             "outlinewidth": 0,
             "ticks": ""
            },
            "colorscale": [
             [
              0,
              "#0d0887"
             ],
             [
              0.1111111111111111,
              "#46039f"
             ],
             [
              0.2222222222222222,
              "#7201a8"
             ],
             [
              0.3333333333333333,
              "#9c179e"
             ],
             [
              0.4444444444444444,
              "#bd3786"
             ],
             [
              0.5555555555555556,
              "#d8576b"
             ],
             [
              0.6666666666666666,
              "#ed7953"
             ],
             [
              0.7777777777777778,
              "#fb9f3a"
             ],
             [
              0.8888888888888888,
              "#fdca26"
             ],
             [
              1,
              "#f0f921"
             ]
            ],
            "type": "histogram2dcontour"
           }
          ],
          "mesh3d": [
           {
            "colorbar": {
             "outlinewidth": 0,
             "ticks": ""
            },
            "type": "mesh3d"
           }
          ],
          "parcoords": [
           {
            "line": {
             "colorbar": {
              "outlinewidth": 0,
              "ticks": ""
             }
            },
            "type": "parcoords"
           }
          ],
          "pie": [
           {
            "automargin": true,
            "type": "pie"
           }
          ],
          "scatter": [
           {
            "marker": {
             "colorbar": {
              "outlinewidth": 0,
              "ticks": ""
             }
            },
            "type": "scatter"
           }
          ],
          "scatter3d": [
           {
            "line": {
             "colorbar": {
              "outlinewidth": 0,
              "ticks": ""
             }
            },
            "marker": {
             "colorbar": {
              "outlinewidth": 0,
              "ticks": ""
             }
            },
            "type": "scatter3d"
           }
          ],
          "scattercarpet": [
           {
            "marker": {
             "colorbar": {
              "outlinewidth": 0,
              "ticks": ""
             }
            },
            "type": "scattercarpet"
           }
          ],
          "scattergeo": [
           {
            "marker": {
             "colorbar": {
              "outlinewidth": 0,
              "ticks": ""
             }
            },
            "type": "scattergeo"
           }
          ],
          "scattergl": [
           {
            "marker": {
             "colorbar": {
              "outlinewidth": 0,
              "ticks": ""
             }
            },
            "type": "scattergl"
           }
          ],
          "scattermapbox": [
           {
            "marker": {
             "colorbar": {
              "outlinewidth": 0,
              "ticks": ""
             }
            },
            "type": "scattermapbox"
           }
          ],
          "scatterpolar": [
           {
            "marker": {
             "colorbar": {
              "outlinewidth": 0,
              "ticks": ""
             }
            },
            "type": "scatterpolar"
           }
          ],
          "scatterpolargl": [
           {
            "marker": {
             "colorbar": {
              "outlinewidth": 0,
              "ticks": ""
             }
            },
            "type": "scatterpolargl"
           }
          ],
          "scatterternary": [
           {
            "marker": {
             "colorbar": {
              "outlinewidth": 0,
              "ticks": ""
             }
            },
            "type": "scatterternary"
           }
          ],
          "surface": [
           {
            "colorbar": {
             "outlinewidth": 0,
             "ticks": ""
            },
            "colorscale": [
             [
              0,
              "#0d0887"
             ],
             [
              0.1111111111111111,
              "#46039f"
             ],
             [
              0.2222222222222222,
              "#7201a8"
             ],
             [
              0.3333333333333333,
              "#9c179e"
             ],
             [
              0.4444444444444444,
              "#bd3786"
             ],
             [
              0.5555555555555556,
              "#d8576b"
             ],
             [
              0.6666666666666666,
              "#ed7953"
             ],
             [
              0.7777777777777778,
              "#fb9f3a"
             ],
             [
              0.8888888888888888,
              "#fdca26"
             ],
             [
              1,
              "#f0f921"
             ]
            ],
            "type": "surface"
           }
          ],
          "table": [
           {
            "cells": {
             "fill": {
              "color": "#EBF0F8"
             },
             "line": {
              "color": "white"
             }
            },
            "header": {
             "fill": {
              "color": "#C8D4E3"
             },
             "line": {
              "color": "white"
             }
            },
            "type": "table"
           }
          ]
         },
         "layout": {
          "annotationdefaults": {
           "arrowcolor": "#2a3f5f",
           "arrowhead": 0,
           "arrowwidth": 1
          },
          "autotypenumbers": "strict",
          "coloraxis": {
           "colorbar": {
            "outlinewidth": 0,
            "ticks": ""
           }
          },
          "colorscale": {
           "diverging": [
            [
             0,
             "#8e0152"
            ],
            [
             0.1,
             "#c51b7d"
            ],
            [
             0.2,
             "#de77ae"
            ],
            [
             0.3,
             "#f1b6da"
            ],
            [
             0.4,
             "#fde0ef"
            ],
            [
             0.5,
             "#f7f7f7"
            ],
            [
             0.6,
             "#e6f5d0"
            ],
            [
             0.7,
             "#b8e186"
            ],
            [
             0.8,
             "#7fbc41"
            ],
            [
             0.9,
             "#4d9221"
            ],
            [
             1,
             "#276419"
            ]
           ],
           "sequential": [
            [
             0,
             "#0d0887"
            ],
            [
             0.1111111111111111,
             "#46039f"
            ],
            [
             0.2222222222222222,
             "#7201a8"
            ],
            [
             0.3333333333333333,
             "#9c179e"
            ],
            [
             0.4444444444444444,
             "#bd3786"
            ],
            [
             0.5555555555555556,
             "#d8576b"
            ],
            [
             0.6666666666666666,
             "#ed7953"
            ],
            [
             0.7777777777777778,
             "#fb9f3a"
            ],
            [
             0.8888888888888888,
             "#fdca26"
            ],
            [
             1,
             "#f0f921"
            ]
           ],
           "sequentialminus": [
            [
             0,
             "#0d0887"
            ],
            [
             0.1111111111111111,
             "#46039f"
            ],
            [
             0.2222222222222222,
             "#7201a8"
            ],
            [
             0.3333333333333333,
             "#9c179e"
            ],
            [
             0.4444444444444444,
             "#bd3786"
            ],
            [
             0.5555555555555556,
             "#d8576b"
            ],
            [
             0.6666666666666666,
             "#ed7953"
            ],
            [
             0.7777777777777778,
             "#fb9f3a"
            ],
            [
             0.8888888888888888,
             "#fdca26"
            ],
            [
             1,
             "#f0f921"
            ]
           ]
          },
          "colorway": [
           "#636efa",
           "#EF553B",
           "#00cc96",
           "#ab63fa",
           "#FFA15A",
           "#19d3f3",
           "#FF6692",
           "#B6E880",
           "#FF97FF",
           "#FECB52"
          ],
          "font": {
           "color": "#2a3f5f"
          },
          "geo": {
           "bgcolor": "white",
           "lakecolor": "white",
           "landcolor": "#E5ECF6",
           "showlakes": true,
           "showland": true,
           "subunitcolor": "white"
          },
          "hoverlabel": {
           "align": "left"
          },
          "hovermode": "closest",
          "mapbox": {
           "style": "light"
          },
          "paper_bgcolor": "white",
          "plot_bgcolor": "#E5ECF6",
          "polar": {
           "angularaxis": {
            "gridcolor": "white",
            "linecolor": "white",
            "ticks": ""
           },
           "bgcolor": "#E5ECF6",
           "radialaxis": {
            "gridcolor": "white",
            "linecolor": "white",
            "ticks": ""
           }
          },
          "scene": {
           "xaxis": {
            "backgroundcolor": "#E5ECF6",
            "gridcolor": "white",
            "gridwidth": 2,
            "linecolor": "white",
            "showbackground": true,
            "ticks": "",
            "zerolinecolor": "white"
           },
           "yaxis": {
            "backgroundcolor": "#E5ECF6",
            "gridcolor": "white",
            "gridwidth": 2,
            "linecolor": "white",
            "showbackground": true,
            "ticks": "",
            "zerolinecolor": "white"
           },
           "zaxis": {
            "backgroundcolor": "#E5ECF6",
            "gridcolor": "white",
            "gridwidth": 2,
            "linecolor": "white",
            "showbackground": true,
            "ticks": "",
            "zerolinecolor": "white"
           }
          },
          "shapedefaults": {
           "line": {
            "color": "#2a3f5f"
           }
          },
          "ternary": {
           "aaxis": {
            "gridcolor": "white",
            "linecolor": "white",
            "ticks": ""
           },
           "baxis": {
            "gridcolor": "white",
            "linecolor": "white",
            "ticks": ""
           },
           "bgcolor": "#E5ECF6",
           "caxis": {
            "gridcolor": "white",
            "linecolor": "white",
            "ticks": ""
           }
          },
          "title": {
           "x": 0.05
          },
          "xaxis": {
           "automargin": true,
           "gridcolor": "white",
           "linecolor": "white",
           "ticks": "",
           "title": {
            "standoff": 15
           },
           "zerolinecolor": "white",
           "zerolinewidth": 2
          },
          "yaxis": {
           "automargin": true,
           "gridcolor": "white",
           "linecolor": "white",
           "ticks": "",
           "title": {
            "standoff": 15
           },
           "zerolinecolor": "white",
           "zerolinewidth": 2
          }
         }
        }
       }
      },
      "text/html": [
       "<div>                            <div id=\"531f63e1-0190-474a-9ad9-8209da7a782c\" class=\"plotly-graph-div\" style=\"height:525px; width:100%;\"></div>            <script type=\"text/javascript\">                require([\"plotly\"], function(Plotly) {                    window.PLOTLYENV=window.PLOTLYENV || {};                                    if (document.getElementById(\"531f63e1-0190-474a-9ad9-8209da7a782c\")) {                    Plotly.newPlot(                        \"531f63e1-0190-474a-9ad9-8209da7a782c\",                        [{\"hovertemplate\": \"color=hands<br>0=%{x}<br>1=%{y}<br>2=%{z}<extra></extra>\", \"legendgroup\": \"hands\", \"marker\": {\"color\": \"#636efa\", \"symbol\": \"circle\"}, \"mode\": \"markers\", \"name\": \"hands\", \"scene\": \"scene\", \"showlegend\": true, \"type\": \"scatter3d\", \"x\": [-0.5166324377059937], \"y\": [0.4360288679599762], \"z\": [-0.24432404339313507]}, {\"hovertemplate\": \"color=stannis<br>0=%{x}<br>1=%{y}<br>2=%{z}<extra></extra>\", \"legendgroup\": \"stannis\", \"marker\": {\"color\": \"#EF553B\", \"symbol\": \"circle\"}, \"mode\": \"markers\", \"name\": \"stannis\", \"scene\": \"scene\", \"showlegend\": true, \"type\": \"scatter3d\", \"x\": [-0.6464323997497559], \"y\": [-0.2774393856525421], \"z\": [0.24532340466976166]}, {\"hovertemplate\": \"color=mother<br>0=%{x}<br>1=%{y}<br>2=%{z}<extra></extra>\", \"legendgroup\": \"mother\", \"marker\": {\"color\": \"#00cc96\", \"symbol\": \"circle\"}, \"mode\": \"markers\", \"name\": \"mother\", \"scene\": \"scene\", \"showlegend\": true, \"type\": \"scatter3d\", \"x\": [-0.6448858976364136], \"y\": [-0.34323984384536743], \"z\": [0.05025641247630119]}, {\"hovertemplate\": \"color=catelyn<br>0=%{x}<br>1=%{y}<br>2=%{z}<extra></extra>\", \"legendgroup\": \"catelyn\", \"marker\": {\"color\": \"#ab63fa\", \"symbol\": \"circle\"}, \"mode\": \"markers\", \"name\": \"catelyn\", \"scene\": \"scene\", \"showlegend\": true, \"type\": \"scatter3d\", \"x\": [-0.5385292768478394], \"y\": [-0.1345166563987732], \"z\": [-0.10985331982374191]}, {\"hovertemplate\": \"color=robert<br>0=%{x}<br>1=%{y}<br>2=%{z}<extra></extra>\", \"legendgroup\": \"robert\", \"marker\": {\"color\": \"#FFA15A\", \"symbol\": \"circle\"}, \"mode\": \"markers\", \"name\": \"robert\", \"scene\": \"scene\", \"showlegend\": true, \"type\": \"scatter3d\", \"x\": [-0.6315737962722778], \"y\": [-0.4325582981109619], \"z\": [0.06472726911306381]}, {\"hovertemplate\": \"color=seemed<br>0=%{x}<br>1=%{y}<br>2=%{z}<extra></extra>\", \"legendgroup\": \"seemed\", \"marker\": {\"color\": \"#19d3f3\", \"symbol\": \"circle\"}, \"mode\": \"markers\", \"name\": \"seemed\", \"scene\": \"scene\", \"showlegend\": true, \"type\": \"scatter3d\", \"x\": [-0.6160882711410522], \"y\": [0.12635058164596558], \"z\": [-0.12046352028846741]}, {\"hovertemplate\": \"color=prince<br>0=%{x}<br>1=%{y}<br>2=%{z}<extra></extra>\", \"legendgroup\": \"prince\", \"marker\": {\"color\": \"#FF6692\", \"symbol\": \"circle\"}, \"mode\": \"markers\", \"name\": \"prince\", \"scene\": \"scene\", \"showlegend\": true, \"type\": \"scatter3d\", \"x\": [-0.5963289141654968], \"y\": [-0.4627262055873871], \"z\": [0.0068453834392130375]}, {\"hovertemplate\": \"color=may<br>0=%{x}<br>1=%{y}<br>2=%{z}<extra></extra>\", \"legendgroup\": \"may\", \"marker\": {\"color\": \"#B6E880\", \"symbol\": \"circle\"}, \"mode\": \"markers\", \"name\": \"may\", \"scene\": \"scene\", \"showlegend\": true, \"type\": \"scatter3d\", \"x\": [-0.7061557173728943], \"y\": [-0.3955051302909851], \"z\": [0.04178757965564728]}, {\"hovertemplate\": \"color=ever<br>0=%{x}<br>1=%{y}<br>2=%{z}<extra></extra>\", \"legendgroup\": \"ever\", \"marker\": {\"color\": \"#FF97FF\", \"symbol\": \"circle\"}, \"mode\": \"markers\", \"name\": \"ever\", \"scene\": \"scene\", \"showlegend\": true, \"type\": \"scatter3d\", \"x\": [-0.7155900597572327], \"y\": [-0.24571539461612701], \"z\": [0.10190823674201965]}, {\"hovertemplate\": \"color=robb<br>0=%{x}<br>1=%{y}<br>2=%{z}<extra></extra>\", \"legendgroup\": \"robb\", \"marker\": {\"color\": \"#FECB52\", \"symbol\": \"circle\"}, \"mode\": \"markers\", \"name\": \"robb\", \"scene\": \"scene\", \"showlegend\": true, \"type\": \"scatter3d\", \"x\": [-0.6119003891944885], \"y\": [-0.27837392687797546], \"z\": [-0.003915582317858934]}, {\"hovertemplate\": \"color=done<br>0=%{x}<br>1=%{y}<br>2=%{z}<extra></extra>\", \"legendgroup\": \"done\", \"marker\": {\"color\": \"#636efa\", \"symbol\": \"circle\"}, \"mode\": \"markers\", \"name\": \"done\", \"scene\": \"scene\", \"showlegend\": true, \"type\": \"scatter3d\", \"x\": [-0.7659319043159485], \"y\": [-0.2817215621471405], \"z\": [-0.03726749122142792]}, {\"hovertemplate\": \"color=don<br>0=%{x}<br>1=%{y}<br>2=%{z}<extra></extra>\", \"legendgroup\": \"don\", \"marker\": {\"color\": \"#EF553B\", \"symbol\": \"circle\"}, \"mode\": \"markers\", \"name\": \"don\", \"scene\": \"scene\", \"showlegend\": true, \"type\": \"scatter3d\", \"x\": [-0.666720986366272], \"y\": [-0.30414676666259766], \"z\": [-0.1579516977071762]}, {\"hovertemplate\": \"color=find<br>0=%{x}<br>1=%{y}<br>2=%{z}<extra></extra>\", \"legendgroup\": \"find\", \"marker\": {\"color\": \"#00cc96\", \"symbol\": \"circle\"}, \"mode\": \"markers\", \"name\": \"find\", \"scene\": \"scene\", \"showlegend\": true, \"type\": \"scatter3d\", \"x\": [-0.7390592694282532], \"y\": [-0.20736034214496613], \"z\": [-0.08138279616832733]}, {\"hovertemplate\": \"color=lannister<br>0=%{x}<br>1=%{y}<br>2=%{z}<extra></extra>\", \"legendgroup\": \"lannister\", \"marker\": {\"color\": \"#ab63fa\", \"symbol\": \"circle\"}, \"mode\": \"markers\", \"name\": \"lannister\", \"scene\": \"scene\", \"showlegend\": true, \"type\": \"scatter3d\", \"x\": [-0.5016990900039673], \"y\": [-0.30235981941223145], \"z\": [0.06114776059985161]}, {\"hovertemplate\": \"color=re<br>0=%{x}<br>1=%{y}<br>2=%{z}<extra></extra>\", \"legendgroup\": \"re\", \"marker\": {\"color\": \"#FFA15A\", \"symbol\": \"circle\"}, \"mode\": \"markers\", \"name\": \"re\", \"scene\": \"scene\", \"showlegend\": true, \"type\": \"scatter3d\", \"x\": [-0.664251983165741], \"y\": [-0.1940760761499405], \"z\": [-0.054611943662166595]}, {\"hovertemplate\": \"color=hear<br>0=%{x}<br>1=%{y}<br>2=%{z}<extra></extra>\", \"legendgroup\": \"hear\", \"marker\": {\"color\": \"#19d3f3\", \"symbol\": \"circle\"}, \"mode\": \"markers\", \"name\": \"hear\", \"scene\": \"scene\", \"showlegend\": true, \"type\": \"scatter3d\", \"x\": [-0.6819397807121277], \"y\": [0.0036589845549315214], \"z\": [-0.18915604054927826]}, {\"hovertemplate\": \"color=grey<br>0=%{x}<br>1=%{y}<br>2=%{z}<extra></extra>\", \"legendgroup\": \"grey\", \"marker\": {\"color\": \"#FF6692\", \"symbol\": \"circle\"}, \"mode\": \"markers\", \"name\": \"grey\", \"scene\": \"scene\", \"showlegend\": true, \"type\": \"scatter3d\", \"x\": [-0.20420153439044952], \"y\": [0.5147679448127747], \"z\": [0.06920750439167023]}, {\"hovertemplate\": \"color=name<br>0=%{x}<br>1=%{y}<br>2=%{z}<extra></extra>\", \"legendgroup\": \"name\", \"marker\": {\"color\": \"#B6E880\", \"symbol\": \"circle\"}, \"mode\": \"markers\", \"name\": \"name\", \"scene\": \"scene\", \"showlegend\": true, \"type\": \"scatter3d\", \"x\": [-0.7576094269752502], \"y\": [-0.37749767303466797], \"z\": [0.05449104681611061]}, {\"hovertemplate\": \"color=horse<br>0=%{x}<br>1=%{y}<br>2=%{z}<extra></extra>\", \"legendgroup\": \"horse\", \"marker\": {\"color\": \"#FF97FF\", \"symbol\": \"circle\"}, \"mode\": \"markers\", \"name\": \"horse\", \"scene\": \"scene\", \"showlegend\": true, \"type\": \"scatter3d\", \"x\": [-0.5016273856163025], \"y\": [0.4870339035987854], \"z\": [-0.15863396227359772]}, {\"hovertemplate\": \"color=high<br>0=%{x}<br>1=%{y}<br>2=%{z}<extra></extra>\", \"legendgroup\": \"high\", \"marker\": {\"color\": \"#FECB52\", \"symbol\": \"circle\"}, \"mode\": \"markers\", \"name\": \"high\", \"scene\": \"scene\", \"showlegend\": true, \"type\": \"scatter3d\", \"x\": [-0.32192590832710266], \"y\": [0.21337845921516418], \"z\": [0.3471122086048126]}, {\"hovertemplate\": \"color=put<br>0=%{x}<br>1=%{y}<br>2=%{z}<extra></extra>\", \"legendgroup\": \"put\", \"marker\": {\"color\": \"#636efa\", \"symbol\": \"circle\"}, \"mode\": \"markers\", \"name\": \"put\", \"scene\": \"scene\", \"showlegend\": true, \"type\": \"scatter3d\", \"x\": [-0.6572953462600708], \"y\": [-0.04297730326652527], \"z\": [-0.3950529098510742]}, {\"hovertemplate\": \"color=stone<br>0=%{x}<br>1=%{y}<br>2=%{z}<extra></extra>\", \"legendgroup\": \"stone\", \"marker\": {\"color\": \"#EF553B\", \"symbol\": \"circle\"}, \"mode\": \"markers\", \"name\": \"stone\", \"scene\": \"scene\", \"showlegend\": true, \"type\": \"scatter3d\", \"x\": [-0.2838098704814911], \"y\": [0.6973659992218018], \"z\": [0.3018648028373718]}, {\"hovertemplate\": \"color=wine<br>0=%{x}<br>1=%{y}<br>2=%{z}<extra></extra>\", \"legendgroup\": \"wine\", \"marker\": {\"color\": \"#00cc96\", \"symbol\": \"circle\"}, \"mode\": \"markers\", \"name\": \"wine\", \"scene\": \"scene\", \"showlegend\": true, \"type\": \"scatter3d\", \"x\": [-0.46231934428215027], \"y\": [0.2179029881954193], \"z\": [-0.18810783326625824]}, {\"hovertemplate\": \"color=hard<br>0=%{x}<br>1=%{y}<br>2=%{z}<extra></extra>\", \"legendgroup\": \"hard\", \"marker\": {\"color\": \"#ab63fa\", \"symbol\": \"circle\"}, \"mode\": \"markers\", \"name\": \"hard\", \"scene\": \"scene\", \"showlegend\": true, \"type\": \"scatter3d\", \"x\": [-0.5161798596382141], \"y\": [0.5024341940879822], \"z\": [-0.18108880519866943]}, {\"hovertemplate\": \"color=water<br>0=%{x}<br>1=%{y}<br>2=%{z}<extra></extra>\", \"legendgroup\": \"water\", \"marker\": {\"color\": \"#FFA15A\", \"symbol\": \"circle\"}, \"mode\": \"markers\", \"name\": \"water\", \"scene\": \"scene\", \"showlegend\": true, \"type\": \"scatter3d\", \"x\": [-0.435503751039505], \"y\": [0.7200837135314941], \"z\": [0.028159016743302345]}, {\"hovertemplate\": \"color=upon<br>0=%{x}<br>1=%{y}<br>2=%{z}<extra></extra>\", \"legendgroup\": \"upon\", \"marker\": {\"color\": \"#19d3f3\", \"symbol\": \"circle\"}, \"mode\": \"markers\", \"name\": \"upon\", \"scene\": \"scene\", \"showlegend\": true, \"type\": \"scatter3d\", \"x\": [-0.47850510478019714], \"y\": [0.2407311350107193], \"z\": [0.05216514691710472]}, {\"hovertemplate\": \"color=fire<br>0=%{x}<br>1=%{y}<br>2=%{z}<extra></extra>\", \"legendgroup\": \"fire\", \"marker\": {\"color\": \"#FF6692\", \"symbol\": \"circle\"}, \"mode\": \"markers\", \"name\": \"fire\", \"scene\": \"scene\", \"showlegend\": true, \"type\": \"scatter3d\", \"x\": [-0.5187239646911621], \"y\": [0.6646447777748108], \"z\": [0.21189358830451965]}, {\"hovertemplate\": \"color=iron<br>0=%{x}<br>1=%{y}<br>2=%{z}<extra></extra>\", \"legendgroup\": \"iron\", \"marker\": {\"color\": \"#B6E880\", \"symbol\": \"circle\"}, \"mode\": \"markers\", \"name\": \"iron\", \"scene\": \"scene\", \"showlegend\": true, \"type\": \"scatter3d\", \"x\": [-0.3666013181209564], \"y\": [0.30697497725486755], \"z\": [0.3049635589122772]}, {\"hovertemplate\": \"color=until<br>0=%{x}<br>1=%{y}<br>2=%{z}<extra></extra>\", \"legendgroup\": \"until\", \"marker\": {\"color\": \"#FF97FF\", \"symbol\": \"circle\"}, \"mode\": \"markers\", \"name\": \"until\", \"scene\": \"scene\", \"showlegend\": true, \"type\": \"scatter3d\", \"x\": [-0.6995481848716736], \"y\": [0.289239764213562], \"z\": [-0.12002689391374588]}, {\"hovertemplate\": \"color=these<br>0=%{x}<br>1=%{y}<br>2=%{z}<extra></extra>\", \"legendgroup\": \"these\", \"marker\": {\"color\": \"#FECB52\", \"symbol\": \"circle\"}, \"mode\": \"markers\", \"name\": \"these\", \"scene\": \"scene\", \"showlegend\": true, \"type\": \"scatter3d\", \"x\": [-0.6198936700820923], \"y\": [-0.26188063621520996], \"z\": [0.6332640647888184]}, {\"hovertemplate\": \"color=voice<br>0=%{x}<br>1=%{y}<br>2=%{z}<extra></extra>\", \"legendgroup\": \"voice\", \"marker\": {\"color\": \"#636efa\", \"symbol\": \"circle\"}, \"mode\": \"markers\", \"name\": \"voice\", \"scene\": \"scene\", \"showlegend\": true, \"type\": \"scatter3d\", \"x\": [-0.5219343304634094], \"y\": [0.11604469269514084], \"z\": [-0.2897094190120697]}, {\"hovertemplate\": \"color=gone<br>0=%{x}<br>1=%{y}<br>2=%{z}<extra></extra>\", \"legendgroup\": \"gone\", \"marker\": {\"color\": \"#EF553B\", \"symbol\": \"circle\"}, \"mode\": \"markers\", \"name\": \"gone\", \"scene\": \"scene\", \"showlegend\": true, \"type\": \"scatter3d\", \"x\": [-0.6513966917991638], \"y\": [0.11715863645076752], \"z\": [-0.05449715629220009]}, {\"hovertemplate\": \"color=give<br>0=%{x}<br>1=%{y}<br>2=%{z}<extra></extra>\", \"legendgroup\": \"give\", \"marker\": {\"color\": \"#00cc96\", \"symbol\": \"circle\"}, \"mode\": \"markers\", \"name\": \"give\", \"scene\": \"scene\", \"showlegend\": true, \"type\": \"scatter3d\", \"x\": [-0.6778371334075928], \"y\": [-0.3788796067237854], \"z\": [-0.17509253323078156]}, {\"hovertemplate\": \"color=sam<br>0=%{x}<br>1=%{y}<br>2=%{z}<extra></extra>\", \"legendgroup\": \"sam\", \"marker\": {\"color\": \"#ab63fa\", \"symbol\": \"circle\"}, \"mode\": \"markers\", \"name\": \"sam\", \"scene\": \"scene\", \"showlegend\": true, \"type\": \"scatter3d\", \"x\": [-0.5878780484199524], \"y\": [0.1729511022567749], \"z\": [-0.2559956908226013]}, {\"hovertemplate\": \"color=seen<br>0=%{x}<br>1=%{y}<br>2=%{z}<extra></extra>\", \"legendgroup\": \"seen\", \"marker\": {\"color\": \"#FFA15A\", \"symbol\": \"circle\"}, \"mode\": \"markers\", \"name\": \"seen\", \"scene\": \"scene\", \"showlegend\": true, \"type\": \"scatter3d\", \"x\": [-0.6645168662071228], \"y\": [0.03443374112248421], \"z\": [0.036318883299827576]}, {\"hovertemplate\": \"color=better<br>0=%{x}<br>1=%{y}<br>2=%{z}<extra></extra>\", \"legendgroup\": \"better\", \"marker\": {\"color\": \"#19d3f3\", \"symbol\": \"circle\"}, \"mode\": \"markers\", \"name\": \"better\", \"scene\": \"scene\", \"showlegend\": true, \"type\": \"scatter3d\", \"x\": [-0.6637166738510132], \"y\": [-0.27929607033729553], \"z\": [0.0688706636428833]}, {\"hovertemplate\": \"color=shall<br>0=%{x}<br>1=%{y}<br>2=%{z}<extra></extra>\", \"legendgroup\": \"shall\", \"marker\": {\"color\": \"#FF6692\", \"symbol\": \"circle\"}, \"mode\": \"markers\", \"name\": \"shall\", \"scene\": \"scene\", \"showlegend\": true, \"type\": \"scatter3d\", \"x\": [-0.6612712740898132], \"y\": [-0.3568207621574402], \"z\": [0.11232422292232513]}, {\"hovertemplate\": \"color=ned<br>0=%{x}<br>1=%{y}<br>2=%{z}<extra></extra>\", \"legendgroup\": \"ned\", \"marker\": {\"color\": \"#B6E880\", \"symbol\": \"circle\"}, \"mode\": \"markers\", \"name\": \"ned\", \"scene\": \"scene\", \"showlegend\": true, \"type\": \"scatter3d\", \"x\": [-0.5796999335289001], \"y\": [-0.16770878434181213], \"z\": [-0.12880782783031464]}, {\"hovertemplate\": \"color=always<br>0=%{x}<br>1=%{y}<br>2=%{z}<extra></extra>\", \"legendgroup\": \"always\", \"marker\": {\"color\": \"#FF97FF\", \"symbol\": \"circle\"}, \"mode\": \"markers\", \"name\": \"always\", \"scene\": \"scene\", \"showlegend\": true, \"type\": \"scatter3d\", \"x\": [-0.6820055246353149], \"y\": [-0.271821528673172], \"z\": [0.06643715500831604]}, {\"hovertemplate\": \"color=years<br>0=%{x}<br>1=%{y}<br>2=%{z}<extra></extra>\", \"legendgroup\": \"years\", \"marker\": {\"color\": \"#FECB52\", \"symbol\": \"circle\"}, \"mode\": \"markers\", \"name\": \"years\", \"scene\": \"scene\", \"showlegend\": true, \"type\": \"scatter3d\", \"x\": [-0.6226434111595154], \"y\": [-0.15951769053936005], \"z\": [0.3693343997001648]}, {\"hovertemplate\": \"color=between<br>0=%{x}<br>1=%{y}<br>2=%{z}<extra></extra>\", \"legendgroup\": \"between\", \"marker\": {\"color\": \"#636efa\", \"symbol\": \"circle\"}, \"mode\": \"markers\", \"name\": \"between\", \"scene\": \"scene\", \"showlegend\": true, \"type\": \"scatter3d\", \"x\": [-0.36037755012512207], \"y\": [0.5023365020751953], \"z\": [-0.13220635056495667]}, {\"hovertemplate\": \"color=dark<br>0=%{x}<br>1=%{y}<br>2=%{z}<extra></extra>\", \"legendgroup\": \"dark\", \"marker\": {\"color\": \"#EF553B\", \"symbol\": \"circle\"}, \"mode\": \"markers\", \"name\": \"dark\", \"scene\": \"scene\", \"showlegend\": true, \"type\": \"scatter3d\", \"x\": [-0.34278902411460876], \"y\": [0.6277737617492676], \"z\": [0.12209918349981308]}, {\"hovertemplate\": \"color=place<br>0=%{x}<br>1=%{y}<br>2=%{z}<extra></extra>\", \"legendgroup\": \"place\", \"marker\": {\"color\": \"#00cc96\", \"symbol\": \"circle\"}, \"mode\": \"markers\", \"name\": \"place\", \"scene\": \"scene\", \"showlegend\": true, \"type\": \"scatter3d\", \"x\": [-0.7243974804878235], \"y\": [0.010338089428842068], \"z\": [0.3014986217021942]}, {\"hovertemplate\": \"color=small<br>0=%{x}<br>1=%{y}<br>2=%{z}<extra></extra>\", \"legendgroup\": \"small\", \"marker\": {\"color\": \"#ab63fa\", \"symbol\": \"circle\"}, \"mode\": \"markers\", \"name\": \"small\", \"scene\": \"scene\", \"showlegend\": true, \"type\": \"scatter3d\", \"x\": [-0.2841823101043701], \"y\": [0.2902635633945465], \"z\": [0.2838512659072876]}, {\"hovertemplate\": \"color=cold<br>0=%{x}<br>1=%{y}<br>2=%{z}<extra></extra>\", \"legendgroup\": \"cold\", \"marker\": {\"color\": \"#FFA15A\", \"symbol\": \"circle\"}, \"mode\": \"markers\", \"name\": \"cold\", \"scene\": \"scene\", \"showlegend\": true, \"type\": \"scatter3d\", \"x\": [-0.5365848541259766], \"y\": [0.5359442234039307], \"z\": [-0.029064679518342018]}, {\"hovertemplate\": \"color=winterfell<br>0=%{x}<br>1=%{y}<br>2=%{z}<extra></extra>\", \"legendgroup\": \"winterfell\", \"marker\": {\"color\": \"#19d3f3\", \"symbol\": \"circle\"}, \"mode\": \"markers\", \"name\": \"winterfell\", \"scene\": \"scene\", \"showlegend\": true, \"type\": \"scatter3d\", \"x\": [-0.681026041507721], \"y\": [-0.17246434092521667], \"z\": [0.29920703172683716]}, {\"hovertemplate\": \"color=most<br>0=%{x}<br>1=%{y}<br>2=%{z}<extra></extra>\", \"legendgroup\": \"most\", \"marker\": {\"color\": \"#FF6692\", \"symbol\": \"circle\"}, \"mode\": \"markers\", \"name\": \"most\", \"scene\": \"scene\", \"showlegend\": true, \"type\": \"scatter3d\", \"x\": [-0.5903750061988831], \"y\": [-0.2999769449234009], \"z\": [0.5404090881347656]}, {\"hovertemplate\": \"color=hundred<br>0=%{x}<br>1=%{y}<br>2=%{z}<extra></extra>\", \"legendgroup\": \"hundred\", \"marker\": {\"color\": \"#B6E880\", \"symbol\": \"circle\"}, \"mode\": \"markers\", \"name\": \"hundred\", \"scene\": \"scene\", \"showlegend\": true, \"type\": \"scatter3d\", \"x\": [-0.41428399085998535], \"y\": [0.089680977165699], \"z\": [0.591873824596405]}, {\"hovertemplate\": \"color=stood<br>0=%{x}<br>1=%{y}<br>2=%{z}<extra></extra>\", \"legendgroup\": \"stood\", \"marker\": {\"color\": \"#FF97FF\", \"symbol\": \"circle\"}, \"mode\": \"markers\", \"name\": \"stood\", \"scene\": \"scene\", \"showlegend\": true, \"type\": \"scatter3d\", \"x\": [-0.3625858724117279], \"y\": [0.3581230938434601], \"z\": [-0.05381706729531288]}, {\"hovertemplate\": \"color=end<br>0=%{x}<br>1=%{y}<br>2=%{z}<extra></extra>\", \"legendgroup\": \"end\", \"marker\": {\"color\": \"#FECB52\", \"symbol\": \"circle\"}, \"mode\": \"markers\", \"name\": \"end\", \"scene\": \"scene\", \"showlegend\": true, \"type\": \"scatter3d\", \"x\": [-0.6763197183609009], \"y\": [0.08388200402259827], \"z\": [0.23866045475006104]}, {\"hovertemplate\": \"color=sister<br>0=%{x}<br>1=%{y}<br>2=%{z}<extra></extra>\", \"legendgroup\": \"sister\", \"marker\": {\"color\": \"#636efa\", \"symbol\": \"circle\"}, \"mode\": \"markers\", \"name\": \"sister\", \"scene\": \"scene\", \"showlegend\": true, \"type\": \"scatter3d\", \"x\": [-0.6823331117630005], \"y\": [-0.42111703753471375], \"z\": [-0.101203054189682]}, {\"hovertemplate\": \"color=words<br>0=%{x}<br>1=%{y}<br>2=%{z}<extra></extra>\", \"legendgroup\": \"words\", \"marker\": {\"color\": \"#EF553B\", \"symbol\": \"circle\"}, \"mode\": \"markers\", \"name\": \"words\", \"scene\": \"scene\", \"showlegend\": true, \"type\": \"scatter3d\", \"x\": [-0.7137272953987122], \"y\": [-0.06214069575071335], \"z\": [-0.07018257677555084]}, {\"hovertemplate\": \"color=sea<br>0=%{x}<br>1=%{y}<br>2=%{z}<extra></extra>\", \"legendgroup\": \"sea\", \"marker\": {\"color\": \"#00cc96\", \"symbol\": \"circle\"}, \"mode\": \"markers\", \"name\": \"sea\", \"scene\": \"scene\", \"showlegend\": true, \"type\": \"scatter3d\", \"x\": [-0.5538049340248108], \"y\": [0.27811405062675476], \"z\": [0.5806957483291626]}, {\"hovertemplate\": \"color=right<br>0=%{x}<br>1=%{y}<br>2=%{z}<extra></extra>\", \"legendgroup\": \"right\", \"marker\": {\"color\": \"#ab63fa\", \"symbol\": \"circle\"}, \"mode\": \"markers\", \"name\": \"right\", \"scene\": \"scene\", \"showlegend\": true, \"type\": \"scatter3d\", \"x\": [-0.6208338141441345], \"y\": [0.2756388485431671], \"z\": [-0.21845228970050812]}, {\"hovertemplate\": \"color=nothing<br>0=%{x}<br>1=%{y}<br>2=%{z}<extra></extra>\", \"legendgroup\": \"nothing\", \"marker\": {\"color\": \"#FFA15A\", \"symbol\": \"circle\"}, \"mode\": \"markers\", \"name\": \"nothing\", \"scene\": \"scene\", \"showlegend\": true, \"type\": \"scatter3d\", \"x\": [-0.6868341565132141], \"y\": [-0.03948156163096428], \"z\": [0.12156064063310623]}, {\"hovertemplate\": \"color=walls<br>0=%{x}<br>1=%{y}<br>2=%{z}<extra></extra>\", \"legendgroup\": \"walls\", \"marker\": {\"color\": \"#19d3f3\", \"symbol\": \"circle\"}, \"mode\": \"markers\", \"name\": \"walls\", \"scene\": \"scene\", \"showlegend\": true, \"type\": \"scatter3d\", \"x\": [-0.41298314929008484], \"y\": [0.5419219136238098], \"z\": [0.5651727318763733]}, {\"hovertemplate\": \"color=fingers<br>0=%{x}<br>1=%{y}<br>2=%{z}<extra></extra>\", \"legendgroup\": \"fingers\", \"marker\": {\"color\": \"#FF6692\", \"symbol\": \"circle\"}, \"mode\": \"markers\", \"name\": \"fingers\", \"scene\": \"scene\", \"showlegend\": true, \"type\": \"scatter3d\", \"x\": [-0.43915069103240967], \"y\": [0.5947184562683105], \"z\": [-0.34534260630607605]}, {\"hovertemplate\": \"color=same<br>0=%{x}<br>1=%{y}<br>2=%{z}<extra></extra>\", \"legendgroup\": \"same\", \"marker\": {\"color\": \"#B6E880\", \"symbol\": \"circle\"}, \"mode\": \"markers\", \"name\": \"same\", \"scene\": \"scene\", \"showlegend\": true, \"type\": \"scatter3d\", \"x\": [-0.6902706027030945], \"y\": [-0.07634438574314117], \"z\": [0.060906246304512024]}, {\"hovertemplate\": \"color=cloak<br>0=%{x}<br>1=%{y}<br>2=%{z}<extra></extra>\", \"legendgroup\": \"cloak\", \"marker\": {\"color\": \"#FF97FF\", \"symbol\": \"circle\"}, \"mode\": \"markers\", \"name\": \"cloak\", \"scene\": \"scene\", \"showlegend\": true, \"type\": \"scatter3d\", \"x\": [-0.32635316252708435], \"y\": [0.5096580982208252], \"z\": [-0.1961536854505539]}, {\"hovertemplate\": \"color=house<br>0=%{x}<br>1=%{y}<br>2=%{z}<extra></extra>\", \"legendgroup\": \"house\", \"marker\": {\"color\": \"#FECB52\", \"symbol\": \"circle\"}, \"mode\": \"markers\", \"name\": \"house\", \"scene\": \"scene\", \"showlegend\": true, \"type\": \"scatter3d\", \"x\": [-0.40728241205215454], \"y\": [-0.25835612416267395], \"z\": [0.3055807650089264]}, {\"hovertemplate\": \"color=young<br>0=%{x}<br>1=%{y}<br>2=%{z}<extra></extra>\", \"legendgroup\": \"young\", \"marker\": {\"color\": \"#636efa\", \"symbol\": \"circle\"}, \"mode\": \"markers\", \"name\": \"young\", \"scene\": \"scene\", \"showlegend\": true, \"type\": \"scatter3d\", \"x\": [-0.46938157081604004], \"y\": [-0.39968106150627136], \"z\": [0.04099366441369057]}, {\"hovertemplate\": \"color=does<br>0=%{x}<br>1=%{y}<br>2=%{z}<extra></extra>\", \"legendgroup\": \"does\", \"marker\": {\"color\": \"#EF553B\", \"symbol\": \"circle\"}, \"mode\": \"markers\", \"name\": \"does\", \"scene\": \"scene\", \"showlegend\": true, \"type\": \"scatter3d\", \"x\": [-0.6755346059799194], \"y\": [-0.46453022956848145], \"z\": [-0.11789718270301819]}, {\"hovertemplate\": \"color=beside<br>0=%{x}<br>1=%{y}<br>2=%{z}<extra></extra>\", \"legendgroup\": \"beside\", \"marker\": {\"color\": \"#00cc96\", \"symbol\": \"circle\"}, \"mode\": \"markers\", \"name\": \"beside\", \"scene\": \"scene\", \"showlegend\": true, \"type\": \"scatter3d\", \"x\": [-0.3956194519996643], \"y\": [0.3136787414550781], \"z\": [-0.26936283707618713]}, {\"hovertemplate\": \"color=get<br>0=%{x}<br>1=%{y}<br>2=%{z}<extra></extra>\", \"legendgroup\": \"get\", \"marker\": {\"color\": \"#ab63fa\", \"symbol\": \"circle\"}, \"mode\": \"markers\", \"name\": \"get\", \"scene\": \"scene\", \"showlegend\": true, \"type\": \"scatter3d\", \"x\": [-0.7443755269050598], \"y\": [0.0197688527405262], \"z\": [-0.19388212263584137]}, {\"hovertemplate\": \"color=mouth<br>0=%{x}<br>1=%{y}<br>2=%{z}<extra></extra>\", \"legendgroup\": \"mouth\", \"marker\": {\"color\": \"#FFA15A\", \"symbol\": \"circle\"}, \"mode\": \"markers\", \"name\": \"mouth\", \"scene\": \"scene\", \"showlegend\": true, \"type\": \"scatter3d\", \"x\": [-0.48371297121047974], \"y\": [0.5059872269630432], \"z\": [-0.41362079977989197]}, {\"hovertemplate\": \"color=seven<br>0=%{x}<br>1=%{y}<br>2=%{z}<extra></extra>\", \"legendgroup\": \"seven\", \"marker\": {\"color\": \"#19d3f3\", \"symbol\": \"circle\"}, \"mode\": \"markers\", \"name\": \"seven\", \"scene\": \"scene\", \"showlegend\": true, \"type\": \"scatter3d\", \"x\": [-0.5579496026039124], \"y\": [-0.2078913003206253], \"z\": [0.7392672896385193]}, {\"hovertemplate\": \"color=watch<br>0=%{x}<br>1=%{y}<br>2=%{z}<extra></extra>\", \"legendgroup\": \"watch\", \"marker\": {\"color\": \"#FF6692\", \"symbol\": \"circle\"}, \"mode\": \"markers\", \"name\": \"watch\", \"scene\": \"scene\", \"showlegend\": true, \"type\": \"scatter3d\", \"x\": [-0.6586876511573792], \"y\": [-0.18196187913417816], \"z\": [0.26791098713874817]}, {\"hovertemplate\": \"color=door<br>0=%{x}<br>1=%{y}<br>2=%{z}<extra></extra>\", \"legendgroup\": \"door\", \"marker\": {\"color\": \"#B6E880\", \"symbol\": \"circle\"}, \"mode\": \"markers\", \"name\": \"door\", \"scene\": \"scene\", \"showlegend\": true, \"type\": \"scatter3d\", \"x\": [-0.5031376481056213], \"y\": [0.5328890681266785], \"z\": [-0.17047056555747986]}, {\"hovertemplate\": \"color=joffrey<br>0=%{x}<br>1=%{y}<br>2=%{z}<extra></extra>\", \"legendgroup\": \"joffrey\", \"marker\": {\"color\": \"#FF97FF\", \"symbol\": \"circle\"}, \"mode\": \"markers\", \"name\": \"joffrey\", \"scene\": \"scene\", \"showlegend\": true, \"type\": \"scatter3d\", \"x\": [-0.6157663464546204], \"y\": [-0.3376622796058655], \"z\": [-0.1130770668387413]}, {\"hovertemplate\": \"color=green<br>0=%{x}<br>1=%{y}<br>2=%{z}<extra></extra>\", \"legendgroup\": \"green\", \"marker\": {\"color\": \"#FECB52\", \"symbol\": \"circle\"}, \"mode\": \"markers\", \"name\": \"green\", \"scene\": \"scene\", \"showlegend\": true, \"type\": \"scatter3d\", \"x\": [-0.17399872839450836], \"y\": [0.4526863694190979], \"z\": [0.23063351213932037]}, {\"hovertemplate\": \"color=big<br>0=%{x}<br>1=%{y}<br>2=%{z}<extra></extra>\", \"legendgroup\": \"big\", \"marker\": {\"color\": \"#636efa\", \"symbol\": \"circle\"}, \"mode\": \"markers\", \"name\": \"big\", \"scene\": \"scene\", \"showlegend\": true, \"type\": \"scatter3d\", \"x\": [-0.3132220208644867], \"y\": [0.32006365060806274], \"z\": [-0.16458500921726227]}, {\"hovertemplate\": \"color=under<br>0=%{x}<br>1=%{y}<br>2=%{z}<extra></extra>\", \"legendgroup\": \"under\", \"marker\": {\"color\": \"#EF553B\", \"symbol\": \"circle\"}, \"mode\": \"markers\", \"name\": \"under\", \"scene\": \"scene\", \"showlegend\": true, \"type\": \"scatter3d\", \"x\": [-0.2685128152370453], \"y\": [0.5915462374687195], \"z\": [-0.20568284392356873]}, {\"hovertemplate\": \"color=few<br>0=%{x}<br>1=%{y}<br>2=%{z}<extra></extra>\", \"legendgroup\": \"few\", \"marker\": {\"color\": \"#00cc96\", \"symbol\": \"circle\"}, \"mode\": \"markers\", \"name\": \"few\", \"scene\": \"scene\", \"showlegend\": true, \"type\": \"scatter3d\", \"x\": [-0.5053244233131409], \"y\": [0.1333344429731369], \"z\": [0.3990348279476166]}, {\"hovertemplate\": \"color=sent<br>0=%{x}<br>1=%{y}<br>2=%{z}<extra></extra>\", \"legendgroup\": \"sent\", \"marker\": {\"color\": \"#ab63fa\", \"symbol\": \"circle\"}, \"mode\": \"markers\", \"name\": \"sent\", \"scene\": \"scene\", \"showlegend\": true, \"type\": \"scatter3d\", \"x\": [-0.6189749240875244], \"y\": [-0.128065288066864], \"z\": [-0.20266470313072205]}, {\"hovertemplate\": \"color=perhaps<br>0=%{x}<br>1=%{y}<br>2=%{z}<extra></extra>\", \"legendgroup\": \"perhaps\", \"marker\": {\"color\": \"#FFA15A\", \"symbol\": \"circle\"}, \"mode\": \"markers\", \"name\": \"perhaps\", \"scene\": \"scene\", \"showlegend\": true, \"type\": \"scatter3d\", \"x\": [-0.701501190662384], \"y\": [-0.5191797614097595], \"z\": [0.11383680999279022]}, {\"hovertemplate\": \"color=almost<br>0=%{x}<br>1=%{y}<br>2=%{z}<extra></extra>\", \"legendgroup\": \"almost\", \"marker\": {\"color\": \"#19d3f3\", \"symbol\": \"circle\"}, \"mode\": \"markers\", \"name\": \"almost\", \"scene\": \"scene\", \"showlegend\": true, \"type\": \"scatter3d\", \"x\": [-0.5368223190307617], \"y\": [0.356417715549469], \"z\": [-0.3033334016799927]}, {\"hovertemplate\": \"color=such<br>0=%{x}<br>1=%{y}<br>2=%{z}<extra></extra>\", \"legendgroup\": \"such\", \"marker\": {\"color\": \"#FF6692\", \"symbol\": \"circle\"}, \"mode\": \"markers\", \"name\": \"such\", \"scene\": \"scene\", \"showlegend\": true, \"type\": \"scatter3d\", \"x\": [-0.6605968475341797], \"y\": [-0.48571744561195374], \"z\": [0.266213059425354]}, {\"hovertemplate\": \"color=wanted<br>0=%{x}<br>1=%{y}<br>2=%{z}<extra></extra>\", \"legendgroup\": \"wanted\", \"marker\": {\"color\": \"#B6E880\", \"symbol\": \"circle\"}, \"mode\": \"markers\", \"name\": \"wanted\", \"scene\": \"scene\", \"showlegend\": true, \"type\": \"scatter3d\", \"x\": [-0.7734960317611694], \"y\": [-0.2659577429294586], \"z\": [-0.32973653078079224]}, {\"hovertemplate\": \"color=daughter<br>0=%{x}<br>1=%{y}<br>2=%{z}<extra></extra>\", \"legendgroup\": \"daughter\", \"marker\": {\"color\": \"#FF97FF\", \"symbol\": \"circle\"}, \"mode\": \"markers\", \"name\": \"daughter\", \"scene\": \"scene\", \"showlegend\": true, \"type\": \"scatter3d\", \"x\": [-0.43482640385627747], \"y\": [-0.49123769998550415], \"z\": [0.029568353667855263]}, {\"hovertemplate\": \"color=true<br>0=%{x}<br>1=%{y}<br>2=%{z}<extra></extra>\", \"legendgroup\": \"true\", \"marker\": {\"color\": \"#FECB52\", \"symbol\": \"circle\"}, \"mode\": \"markers\", \"name\": \"true\", \"scene\": \"scene\", \"showlegend\": true, \"type\": \"scatter3d\", \"x\": [-0.6758331656455994], \"y\": [-0.5673220753669739], \"z\": [0.17512789368629456]}, {\"hovertemplate\": \"color=while<br>0=%{x}<br>1=%{y}<br>2=%{z}<extra></extra>\", \"legendgroup\": \"while\", \"marker\": {\"color\": \"#636efa\", \"symbol\": \"circle\"}, \"mode\": \"markers\", \"name\": \"while\", \"scene\": \"scene\", \"showlegend\": true, \"type\": \"scatter3d\", \"x\": [-0.40474414825439453], \"y\": [0.38960710167884827], \"z\": [-0.06794776022434235]}, {\"hovertemplate\": \"color=leave<br>0=%{x}<br>1=%{y}<br>2=%{z}<extra></extra>\", \"legendgroup\": \"leave\", \"marker\": {\"color\": \"#EF553B\", \"symbol\": \"circle\"}, \"mode\": \"markers\", \"name\": \"leave\", \"scene\": \"scene\", \"showlegend\": true, \"type\": \"scatter3d\", \"x\": [-0.7407796382904053], \"y\": [-0.3047175109386444], \"z\": [-0.09346998482942581]}, {\"hovertemplate\": \"color=city<br>0=%{x}<br>1=%{y}<br>2=%{z}<extra></extra>\", \"legendgroup\": \"city\", \"marker\": {\"color\": \"#00cc96\", \"symbol\": \"circle\"}, \"mode\": \"markers\", \"name\": \"city\", \"scene\": \"scene\", \"showlegend\": true, \"type\": \"scatter3d\", \"x\": [-0.6299841403961182], \"y\": [0.0303457323461771], \"z\": [0.6756173372268677]}, {\"hovertemplate\": \"color=wind<br>0=%{x}<br>1=%{y}<br>2=%{z}<extra></extra>\", \"legendgroup\": \"wind\", \"marker\": {\"color\": \"#ab63fa\", \"symbol\": \"circle\"}, \"mode\": \"markers\", \"name\": \"wind\", \"scene\": \"scene\", \"showlegend\": true, \"type\": \"scatter3d\", \"x\": [-0.43281593918800354], \"y\": [0.7120970487594604], \"z\": [0.08509256690740585]}, {\"hovertemplate\": \"color=light<br>0=%{x}<br>1=%{y}<br>2=%{z}<extra></extra>\", \"legendgroup\": \"light\", \"marker\": {\"color\": \"#FFA15A\", \"symbol\": \"circle\"}, \"mode\": \"markers\", \"name\": \"light\", \"scene\": \"scene\", \"showlegend\": true, \"type\": \"scatter3d\", \"x\": [-0.486702024936676], \"y\": [0.5153437256813049], \"z\": [0.19543232023715973]}, {\"hovertemplate\": \"color=arms<br>0=%{x}<br>1=%{y}<br>2=%{z}<extra></extra>\", \"legendgroup\": \"arms\", \"marker\": {\"color\": \"#19d3f3\", \"symbol\": \"circle\"}, \"mode\": \"markers\", \"name\": \"arms\", \"scene\": \"scene\", \"showlegend\": true, \"type\": \"scatter3d\", \"x\": [-0.4119310975074768], \"y\": [0.28629884123802185], \"z\": [-0.12513260543346405]}, {\"hovertemplate\": \"color=children<br>0=%{x}<br>1=%{y}<br>2=%{z}<extra></extra>\", \"legendgroup\": \"children\", \"marker\": {\"color\": \"#FF6692\", \"symbol\": \"circle\"}, \"mode\": \"markers\", \"name\": \"children\", \"scene\": \"scene\", \"showlegend\": true, \"type\": \"scatter3d\", \"x\": [-0.604274332523346], \"y\": [-0.21494968235492706], \"z\": [0.5054079294204712]}, {\"hovertemplate\": \"color=herself<br>0=%{x}<br>1=%{y}<br>2=%{z}<extra></extra>\", \"legendgroup\": \"herself\", \"marker\": {\"color\": \"#B6E880\", \"symbol\": \"circle\"}, \"mode\": \"markers\", \"name\": \"herself\", \"scene\": \"scene\", \"showlegend\": true, \"type\": \"scatter3d\", \"x\": [-0.5908636450767517], \"y\": [0.04805629327893257], \"z\": [-0.2075757533311844]}, {\"hovertemplate\": \"color=sweet<br>0=%{x}<br>1=%{y}<br>2=%{z}<extra></extra>\", \"legendgroup\": \"sweet\", \"marker\": {\"color\": \"#FF97FF\", \"symbol\": \"circle\"}, \"mode\": \"markers\", \"name\": \"sweet\", \"scene\": \"scene\", \"showlegend\": true, \"type\": \"scatter3d\", \"x\": [-0.527243971824646], \"y\": [-0.29595252871513367], \"z\": [-0.18496835231781006]}, {\"hovertemplate\": \"color=others<br>0=%{x}<br>1=%{y}<br>2=%{z}<extra></extra>\", \"legendgroup\": \"others\", \"marker\": {\"color\": \"#FECB52\", \"symbol\": \"circle\"}, \"mode\": \"markers\", \"name\": \"others\", \"scene\": \"scene\", \"showlegend\": true, \"type\": \"scatter3d\", \"x\": [-0.52177494764328], \"y\": [0.1077975258231163], \"z\": [0.3835001587867737]}, {\"hovertemplate\": \"color=lost<br>0=%{x}<br>1=%{y}<br>2=%{z}<extra></extra>\", \"legendgroup\": \"lost\", \"marker\": {\"color\": \"#636efa\", \"symbol\": \"circle\"}, \"mode\": \"markers\", \"name\": \"lost\", \"scene\": \"scene\", \"showlegend\": true, \"type\": \"scatter3d\", \"x\": [-0.6426180005073547], \"y\": [-0.14918984472751617], \"z\": [-0.008593528531491756]}, {\"hovertemplate\": \"color=theon<br>0=%{x}<br>1=%{y}<br>2=%{z}<extra></extra>\", \"legendgroup\": \"theon\", \"marker\": {\"color\": \"#EF553B\", \"symbol\": \"circle\"}, \"mode\": \"markers\", \"name\": \"theon\", \"scene\": \"scene\", \"showlegend\": true, \"type\": \"scatter3d\", \"x\": [-0.5489533543586731], \"y\": [-0.09392925351858139], \"z\": [-0.17266887426376343]}, {\"hovertemplate\": \"color=each<br>0=%{x}<br>1=%{y}<br>2=%{z}<extra></extra>\", \"legendgroup\": \"each\", \"marker\": {\"color\": \"#00cc96\", \"symbol\": \"circle\"}, \"mode\": \"markers\", \"name\": \"each\", \"scene\": \"scene\", \"showlegend\": true, \"type\": \"scatter3d\", \"x\": [-0.4437844157218933], \"y\": [0.36253368854522705], \"z\": [0.24568744003772736]}, {\"hovertemplate\": \"color=felt<br>0=%{x}<br>1=%{y}<br>2=%{z}<extra></extra>\", \"legendgroup\": \"felt\", \"marker\": {\"color\": \"#ab63fa\", \"symbol\": \"circle\"}, \"mode\": \"markers\", \"name\": \"felt\", \"scene\": \"scene\", \"showlegend\": true, \"type\": \"scatter3d\", \"x\": [-0.587116003036499], \"y\": [0.2966683804988861], \"z\": [-0.47412413358688354]}, {\"hovertemplate\": \"color=side<br>0=%{x}<br>1=%{y}<br>2=%{z}<extra></extra>\", \"legendgroup\": \"side\", \"marker\": {\"color\": \"#FFA15A\", \"symbol\": \"circle\"}, \"mode\": \"markers\", \"name\": \"side\", \"scene\": \"scene\", \"showlegend\": true, \"type\": \"scatter3d\", \"x\": [-0.5374946594238281], \"y\": [0.44557031989097595], \"z\": [0.03620385751128197]}, {\"hovertemplate\": \"color=yes<br>0=%{x}<br>1=%{y}<br>2=%{z}<extra></extra>\", \"legendgroup\": \"yes\", \"marker\": {\"color\": \"#19d3f3\", \"symbol\": \"circle\"}, \"mode\": \"markers\", \"name\": \"yes\", \"scene\": \"scene\", \"showlegend\": true, \"type\": \"scatter3d\", \"x\": [-0.6014100909233093], \"y\": [-0.5681111216545105], \"z\": [-0.09310618042945862]}, {\"hovertemplate\": \"color=brothers<br>0=%{x}<br>1=%{y}<br>2=%{z}<extra></extra>\", \"legendgroup\": \"brothers\", \"marker\": {\"color\": \"#FF6692\", \"symbol\": \"circle\"}, \"mode\": \"markers\", \"name\": \"brothers\", \"scene\": \"scene\", \"showlegend\": true, \"type\": \"scatter3d\", \"x\": [-0.6213321685791016], \"y\": [-0.14750944077968597], \"z\": [0.3696230947971344]}, {\"hovertemplate\": \"color=best<br>0=%{x}<br>1=%{y}<br>2=%{z}<extra></extra>\", \"legendgroup\": \"best\", \"marker\": {\"color\": \"#B6E880\", \"symbol\": \"circle\"}, \"mode\": \"markers\", \"name\": \"best\", \"scene\": \"scene\", \"showlegend\": true, \"type\": \"scatter3d\", \"x\": [-0.7853802442550659], \"y\": [-0.3356035351753235], \"z\": [0.1439209133386612]}, {\"hovertemplate\": \"color=very<br>0=%{x}<br>1=%{y}<br>2=%{z}<extra></extra>\", \"legendgroup\": \"very\", \"marker\": {\"color\": \"#FF97FF\", \"symbol\": \"circle\"}, \"mode\": \"markers\", \"name\": \"very\", \"scene\": \"scene\", \"showlegend\": true, \"type\": \"scatter3d\", \"x\": [-0.5463050007820129], \"y\": [-0.1982966661453247], \"z\": [-0.03285137563943863]}, {\"hovertemplate\": \"color=die<br>0=%{x}<br>1=%{y}<br>2=%{z}<extra></extra>\", \"legendgroup\": \"die\", \"marker\": {\"color\": \"#FECB52\", \"symbol\": \"circle\"}, \"mode\": \"markers\", \"name\": \"die\", \"scene\": \"scene\", \"showlegend\": true, \"type\": \"scatter3d\", \"x\": [-0.7937201857566833], \"y\": [-0.2633901536464691], \"z\": [0.057812534272670746]}],                        {\"legend\": {\"title\": {\"text\": \"color\"}, \"tracegroupgap\": 0}, \"margin\": {\"t\": 60}, \"scene\": {\"domain\": {\"x\": [0.0, 1.0], \"y\": [0.0, 1.0]}, \"xaxis\": {\"title\": {\"text\": \"0\"}}, \"yaxis\": {\"title\": {\"text\": \"1\"}}, \"zaxis\": {\"title\": {\"text\": \"2\"}}}, \"template\": {\"data\": {\"bar\": [{\"error_x\": {\"color\": \"#2a3f5f\"}, \"error_y\": {\"color\": \"#2a3f5f\"}, \"marker\": {\"line\": {\"color\": \"#E5ECF6\", \"width\": 0.5}}, \"type\": \"bar\"}], \"barpolar\": [{\"marker\": {\"line\": {\"color\": \"#E5ECF6\", \"width\": 0.5}}, \"type\": \"barpolar\"}], \"carpet\": [{\"aaxis\": {\"endlinecolor\": \"#2a3f5f\", \"gridcolor\": \"white\", \"linecolor\": \"white\", \"minorgridcolor\": \"white\", \"startlinecolor\": \"#2a3f5f\"}, \"baxis\": {\"endlinecolor\": \"#2a3f5f\", \"gridcolor\": \"white\", \"linecolor\": \"white\", \"minorgridcolor\": \"white\", \"startlinecolor\": \"#2a3f5f\"}, \"type\": \"carpet\"}], \"choropleth\": [{\"colorbar\": {\"outlinewidth\": 0, \"ticks\": \"\"}, \"type\": \"choropleth\"}], \"contour\": [{\"colorbar\": {\"outlinewidth\": 0, \"ticks\": \"\"}, \"colorscale\": [[0.0, \"#0d0887\"], [0.1111111111111111, \"#46039f\"], [0.2222222222222222, \"#7201a8\"], [0.3333333333333333, \"#9c179e\"], [0.4444444444444444, \"#bd3786\"], [0.5555555555555556, \"#d8576b\"], [0.6666666666666666, \"#ed7953\"], [0.7777777777777778, \"#fb9f3a\"], [0.8888888888888888, \"#fdca26\"], [1.0, \"#f0f921\"]], \"type\": \"contour\"}], \"contourcarpet\": [{\"colorbar\": {\"outlinewidth\": 0, \"ticks\": \"\"}, \"type\": \"contourcarpet\"}], \"heatmap\": [{\"colorbar\": {\"outlinewidth\": 0, \"ticks\": \"\"}, \"colorscale\": [[0.0, \"#0d0887\"], [0.1111111111111111, \"#46039f\"], [0.2222222222222222, \"#7201a8\"], [0.3333333333333333, \"#9c179e\"], [0.4444444444444444, \"#bd3786\"], [0.5555555555555556, \"#d8576b\"], [0.6666666666666666, \"#ed7953\"], [0.7777777777777778, \"#fb9f3a\"], [0.8888888888888888, \"#fdca26\"], [1.0, \"#f0f921\"]], \"type\": \"heatmap\"}], \"heatmapgl\": [{\"colorbar\": {\"outlinewidth\": 0, \"ticks\": \"\"}, \"colorscale\": [[0.0, \"#0d0887\"], [0.1111111111111111, \"#46039f\"], [0.2222222222222222, \"#7201a8\"], [0.3333333333333333, \"#9c179e\"], [0.4444444444444444, \"#bd3786\"], [0.5555555555555556, \"#d8576b\"], [0.6666666666666666, \"#ed7953\"], [0.7777777777777778, \"#fb9f3a\"], [0.8888888888888888, \"#fdca26\"], [1.0, \"#f0f921\"]], \"type\": \"heatmapgl\"}], \"histogram\": [{\"marker\": {\"colorbar\": {\"outlinewidth\": 0, \"ticks\": \"\"}}, \"type\": \"histogram\"}], \"histogram2d\": [{\"colorbar\": {\"outlinewidth\": 0, \"ticks\": \"\"}, \"colorscale\": [[0.0, \"#0d0887\"], [0.1111111111111111, \"#46039f\"], [0.2222222222222222, \"#7201a8\"], [0.3333333333333333, \"#9c179e\"], [0.4444444444444444, \"#bd3786\"], [0.5555555555555556, \"#d8576b\"], [0.6666666666666666, \"#ed7953\"], [0.7777777777777778, \"#fb9f3a\"], [0.8888888888888888, \"#fdca26\"], [1.0, \"#f0f921\"]], \"type\": \"histogram2d\"}], \"histogram2dcontour\": [{\"colorbar\": {\"outlinewidth\": 0, \"ticks\": \"\"}, \"colorscale\": [[0.0, \"#0d0887\"], [0.1111111111111111, \"#46039f\"], [0.2222222222222222, \"#7201a8\"], [0.3333333333333333, \"#9c179e\"], [0.4444444444444444, \"#bd3786\"], [0.5555555555555556, \"#d8576b\"], [0.6666666666666666, \"#ed7953\"], [0.7777777777777778, \"#fb9f3a\"], [0.8888888888888888, \"#fdca26\"], [1.0, \"#f0f921\"]], \"type\": \"histogram2dcontour\"}], \"mesh3d\": [{\"colorbar\": {\"outlinewidth\": 0, \"ticks\": \"\"}, \"type\": \"mesh3d\"}], \"parcoords\": [{\"line\": {\"colorbar\": {\"outlinewidth\": 0, \"ticks\": \"\"}}, \"type\": \"parcoords\"}], \"pie\": [{\"automargin\": true, \"type\": \"pie\"}], \"scatter\": [{\"marker\": {\"colorbar\": {\"outlinewidth\": 0, \"ticks\": \"\"}}, \"type\": \"scatter\"}], \"scatter3d\": [{\"line\": {\"colorbar\": {\"outlinewidth\": 0, \"ticks\": \"\"}}, \"marker\": {\"colorbar\": {\"outlinewidth\": 0, \"ticks\": \"\"}}, \"type\": \"scatter3d\"}], \"scattercarpet\": [{\"marker\": {\"colorbar\": {\"outlinewidth\": 0, \"ticks\": \"\"}}, \"type\": \"scattercarpet\"}], \"scattergeo\": [{\"marker\": {\"colorbar\": {\"outlinewidth\": 0, \"ticks\": \"\"}}, \"type\": \"scattergeo\"}], \"scattergl\": [{\"marker\": {\"colorbar\": {\"outlinewidth\": 0, \"ticks\": \"\"}}, \"type\": \"scattergl\"}], \"scattermapbox\": [{\"marker\": {\"colorbar\": {\"outlinewidth\": 0, \"ticks\": \"\"}}, \"type\": \"scattermapbox\"}], \"scatterpolar\": [{\"marker\": {\"colorbar\": {\"outlinewidth\": 0, \"ticks\": \"\"}}, \"type\": \"scatterpolar\"}], \"scatterpolargl\": [{\"marker\": {\"colorbar\": {\"outlinewidth\": 0, \"ticks\": \"\"}}, \"type\": \"scatterpolargl\"}], \"scatterternary\": [{\"marker\": {\"colorbar\": {\"outlinewidth\": 0, \"ticks\": \"\"}}, \"type\": \"scatterternary\"}], \"surface\": [{\"colorbar\": {\"outlinewidth\": 0, \"ticks\": \"\"}, \"colorscale\": [[0.0, \"#0d0887\"], [0.1111111111111111, \"#46039f\"], [0.2222222222222222, \"#7201a8\"], [0.3333333333333333, \"#9c179e\"], [0.4444444444444444, \"#bd3786\"], [0.5555555555555556, \"#d8576b\"], [0.6666666666666666, \"#ed7953\"], [0.7777777777777778, \"#fb9f3a\"], [0.8888888888888888, \"#fdca26\"], [1.0, \"#f0f921\"]], \"type\": \"surface\"}], \"table\": [{\"cells\": {\"fill\": {\"color\": \"#EBF0F8\"}, \"line\": {\"color\": \"white\"}}, \"header\": {\"fill\": {\"color\": \"#C8D4E3\"}, \"line\": {\"color\": \"white\"}}, \"type\": \"table\"}]}, \"layout\": {\"annotationdefaults\": {\"arrowcolor\": \"#2a3f5f\", \"arrowhead\": 0, \"arrowwidth\": 1}, \"autotypenumbers\": \"strict\", \"coloraxis\": {\"colorbar\": {\"outlinewidth\": 0, \"ticks\": \"\"}}, \"colorscale\": {\"diverging\": [[0, \"#8e0152\"], [0.1, \"#c51b7d\"], [0.2, \"#de77ae\"], [0.3, \"#f1b6da\"], [0.4, \"#fde0ef\"], [0.5, \"#f7f7f7\"], [0.6, \"#e6f5d0\"], [0.7, \"#b8e186\"], [0.8, \"#7fbc41\"], [0.9, \"#4d9221\"], [1, \"#276419\"]], \"sequential\": [[0.0, \"#0d0887\"], [0.1111111111111111, \"#46039f\"], [0.2222222222222222, \"#7201a8\"], [0.3333333333333333, \"#9c179e\"], [0.4444444444444444, \"#bd3786\"], [0.5555555555555556, \"#d8576b\"], [0.6666666666666666, \"#ed7953\"], [0.7777777777777778, \"#fb9f3a\"], [0.8888888888888888, \"#fdca26\"], [1.0, \"#f0f921\"]], \"sequentialminus\": [[0.0, \"#0d0887\"], [0.1111111111111111, \"#46039f\"], [0.2222222222222222, \"#7201a8\"], [0.3333333333333333, \"#9c179e\"], [0.4444444444444444, \"#bd3786\"], [0.5555555555555556, \"#d8576b\"], [0.6666666666666666, \"#ed7953\"], [0.7777777777777778, \"#fb9f3a\"], [0.8888888888888888, \"#fdca26\"], [1.0, \"#f0f921\"]]}, \"colorway\": [\"#636efa\", \"#EF553B\", \"#00cc96\", \"#ab63fa\", \"#FFA15A\", \"#19d3f3\", \"#FF6692\", \"#B6E880\", \"#FF97FF\", \"#FECB52\"], \"font\": {\"color\": \"#2a3f5f\"}, \"geo\": {\"bgcolor\": \"white\", \"lakecolor\": \"white\", \"landcolor\": \"#E5ECF6\", \"showlakes\": true, \"showland\": true, \"subunitcolor\": \"white\"}, \"hoverlabel\": {\"align\": \"left\"}, \"hovermode\": \"closest\", \"mapbox\": {\"style\": \"light\"}, \"paper_bgcolor\": \"white\", \"plot_bgcolor\": \"#E5ECF6\", \"polar\": {\"angularaxis\": {\"gridcolor\": \"white\", \"linecolor\": \"white\", \"ticks\": \"\"}, \"bgcolor\": \"#E5ECF6\", \"radialaxis\": {\"gridcolor\": \"white\", \"linecolor\": \"white\", \"ticks\": \"\"}}, \"scene\": {\"xaxis\": {\"backgroundcolor\": \"#E5ECF6\", \"gridcolor\": \"white\", \"gridwidth\": 2, \"linecolor\": \"white\", \"showbackground\": true, \"ticks\": \"\", \"zerolinecolor\": \"white\"}, \"yaxis\": {\"backgroundcolor\": \"#E5ECF6\", \"gridcolor\": \"white\", \"gridwidth\": 2, \"linecolor\": \"white\", \"showbackground\": true, \"ticks\": \"\", \"zerolinecolor\": \"white\"}, \"zaxis\": {\"backgroundcolor\": \"#E5ECF6\", \"gridcolor\": \"white\", \"gridwidth\": 2, \"linecolor\": \"white\", \"showbackground\": true, \"ticks\": \"\", \"zerolinecolor\": \"white\"}}, \"shapedefaults\": {\"line\": {\"color\": \"#2a3f5f\"}}, \"ternary\": {\"aaxis\": {\"gridcolor\": \"white\", \"linecolor\": \"white\", \"ticks\": \"\"}, \"baxis\": {\"gridcolor\": \"white\", \"linecolor\": \"white\", \"ticks\": \"\"}, \"bgcolor\": \"#E5ECF6\", \"caxis\": {\"gridcolor\": \"white\", \"linecolor\": \"white\", \"ticks\": \"\"}}, \"title\": {\"x\": 0.05}, \"xaxis\": {\"automargin\": true, \"gridcolor\": \"white\", \"linecolor\": \"white\", \"ticks\": \"\", \"title\": {\"standoff\": 15}, \"zerolinecolor\": \"white\", \"zerolinewidth\": 2}, \"yaxis\": {\"automargin\": true, \"gridcolor\": \"white\", \"linecolor\": \"white\", \"ticks\": \"\", \"title\": {\"standoff\": 15}, \"zerolinecolor\": \"white\", \"zerolinewidth\": 2}}}},                        {\"responsive\": true}                    ).then(function(){\n",
       "                            \n",
       "var gd = document.getElementById('531f63e1-0190-474a-9ad9-8209da7a782c');\n",
       "var x = new MutationObserver(function (mutations, observer) {{\n",
       "        var display = window.getComputedStyle(gd).display;\n",
       "        if (!display || display === 'none') {{\n",
       "            console.log([gd, 'removed!']);\n",
       "            Plotly.purge(gd);\n",
       "            observer.disconnect();\n",
       "        }}\n",
       "}});\n",
       "\n",
       "// Listen for the removal of the full notebook cells\n",
       "var notebookContainer = gd.closest('#notebook-container');\n",
       "if (notebookContainer) {{\n",
       "    x.observe(notebookContainer, {childList: true});\n",
       "}}\n",
       "\n",
       "// Listen for the clearing of the current output cell\n",
       "var outputEl = gd.closest('.output');\n",
       "if (outputEl) {{\n",
       "    x.observe(outputEl, {childList: true});\n",
       "}}\n",
       "\n",
       "                        })                };                });            </script>        </div>"
      ]
     },
     "metadata": {},
     "output_type": "display_data"
    }
   ],
   "source": [
    "import plotly.express as px\n",
    "fig = px.scatter_3d(X[200:300],x=0,y=1,z=2, color=y[200:300])\n",
    "fig.show()"
   ]
  },
  {
   "cell_type": "code",
   "execution_count": null,
   "id": "1db63ff2",
   "metadata": {},
   "outputs": [],
   "source": []
  }
 ],
 "metadata": {
  "kernelspec": {
   "display_name": "Python 3",
   "language": "python",
   "name": "python3"
  },
  "language_info": {
   "codemirror_mode": {
    "name": "ipython",
    "version": 3
   },
   "file_extension": ".py",
   "mimetype": "text/x-python",
   "name": "python",
   "nbconvert_exporter": "python",
   "pygments_lexer": "ipython3",
   "version": "3.10.13"
  }
 },
 "nbformat": 4,
 "nbformat_minor": 5
}
